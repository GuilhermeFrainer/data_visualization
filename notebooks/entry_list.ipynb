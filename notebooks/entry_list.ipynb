{
 "cells": [
  {
   "cell_type": "markdown",
   "metadata": {},
   "source": [
    "The goal of this notebook is to experiment with filtering the reviewed entries on the original\n",
    "datasets (e.g. movies on MovieLens) based on their genres and other characteristics."
   ]
  },
  {
   "cell_type": "code",
   "execution_count": 39,
   "metadata": {},
   "outputs": [],
   "source": [
    "import polars as pl\n",
    "\n",
    "MOVIE_LENS_DATA = \"../data/original_datasets/MovieLens.csv\""
   ]
  },
  {
   "cell_type": "code",
   "execution_count": null,
   "metadata": {},
   "outputs": [],
   "source": [
    "df = pl.read_csv(MOVIE_LENS_DATA)\n",
    "df = df.select([\"title\", \"genre\", \"runtime_minutes\", \"year\"]).unique(\"title\")\n",
    "df"
   ]
  },
  {
   "cell_type": "code",
   "execution_count": null,
   "metadata": {},
   "outputs": [],
   "source": [
    "#pattern = r\"\\((\\d{4})\\)\"\n",
    "#df = df.with_columns(\n",
    "#    pl.col(\"title\").str.extract(pattern, 1).cast(pl.Int64).alias(\"year\")\n",
    "#)\n",
    "#df = df.with_columns(\n",
    "#    pl.col(\"title\").str.replace(r\"\\s*\\(\\d{4}\\)\", \"\").alias(\"title\")\n",
    "#)\n",
    "#df"
   ]
  },
  {
   "cell_type": "code",
   "execution_count": null,
   "metadata": {},
   "outputs": [],
   "source": [
    "def filter_movies(df: pl.DataFrame, attributes: dict[str, str]) -> pl.DataFrame:\n",
    "    filtered_df = df\n",
    "    movie_attributes = [\"year\", \"runtime_minutes\", \"genre\"]\n",
    "    if \"year\" in attributes:\n",
    "        filtered_df = filtered_df.filter(pl.col(\"year\") == attributes[\"year\"])\n",
    "    if \"runtime_minutes\" in attributes:\n",
    "        filtered_df = filtered_df.filter(pl.col(\"runtime_minutes\") == attributes[\"runtime_minutes\"])\n",
    "    if \"genre\" in attributes:\n",
    "        filtered_df = filtered_df.filter(pl.col(\"genre\").str.contains(attributes[\"genre\"]))\n",
    "    return filtered_df\n",
    "\n",
    "filtered_df = filter_movies(df, {\"genre\": \"Comedy\", \"year\": \"90s\"})\n",
    "filtered_df.select([\"title\", \"genre\"])"
   ]
  },
  {
   "cell_type": "code",
   "execution_count": null,
   "metadata": {},
   "outputs": [],
   "source": [
    "BOOK_CROSSING_DATA = \"../data/original_datasets/BookCrossing.csv\"\n",
    "\n",
    "columns_of_interest = [\"book_title\", \"book_author\", \"year_of_publication\", \"language\", \"category\", \"country\"]\n",
    "df = pl.read_csv(BOOK_CROSSING_DATA).unique(\"book_id\").select(columns_of_interest)\n",
    "df"
   ]
  },
  {
   "cell_type": "code",
   "execution_count": null,
   "metadata": {},
   "outputs": [],
   "source": [
    "def filter_books(df: pl.DataFrame, attributes: dict[str, str]) -> pl.DataFrame:\n",
    "    filtered_df = df\n",
    "    if \"year_of_publication\" in attributes:\n",
    "        filtered_df = filtered_df.filter(pl.col(\"year_of_publication\") == attributes[\"year_of_publication\"])\n",
    "    if \"language\" in attributes:\n",
    "        filtered_df = filtered_df.filter(pl.col(\"language\") == attributes[\"language\"])\n",
    "    if \"country\" in attributes:\n",
    "        filtered_df = filtered_df.filter(pl.col(\"country\") == attributes[\"country\"])\n",
    "    if \"category\" in attributes:\n",
    "        if attributes[\"category\"] == \"body-mind-and-spirit\":\n",
    "            filtered_df = filtered_df.filter(pl.col(\"category\") == \"Body, Mind & Spirit\")\n",
    "        else:\n",
    "            filtered_df = filtered_df.filter(pl.col(\"category\") == attributes[\"category\"])\n",
    "    return filtered_df\n",
    "\n",
    "filtered_df = filter_books(df, {\"year_of_publication\": \"90s\", \"language\": \"en\", \"category\": \"body-mind-and-spirit\"})\n",
    "filtered_df"
   ]
  },
  {
   "cell_type": "code",
   "execution_count": null,
   "metadata": {},
   "outputs": [],
   "source": [
    "YELP_DATA = \"../data/original_datasets/Yelp.csv\"\n",
    "\n",
    "df = pl.read_csv(YELP_DATA).unique(\"business_id\").select([\"\"])\n",
    "df.columns"
   ]
  }
 ],
 "metadata": {
  "kernelspec": {
   "display_name": "Python 3",
   "language": "python",
   "name": "python3"
  },
  "language_info": {
   "codemirror_mode": {
    "name": "ipython",
    "version": 3
   },
   "file_extension": ".py",
   "mimetype": "text/x-python",
   "name": "python",
   "nbconvert_exporter": "python",
   "pygments_lexer": "ipython3",
   "version": "3.12.8"
  }
 },
 "nbformat": 4,
 "nbformat_minor": 2
}
