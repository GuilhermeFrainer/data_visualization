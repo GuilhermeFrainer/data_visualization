{
 "cells": [
  {
   "cell_type": "markdown",
   "metadata": {},
   "source": [
    "The goal of this notebook is to experiment with filtering the reviewed entries on the original\n",
    "datasets (e.g. movies on MovieLens) based on their genres and other characteristics."
   ]
  },
  {
   "cell_type": "code",
   "execution_count": 1,
   "metadata": {},
   "outputs": [],
   "source": [
    "import polars as pl\n",
    "\n",
    "MOVIE_LENS_DATA = \"../data/original_datasets/MovieLens.csv\""
   ]
  },
  {
   "cell_type": "code",
   "execution_count": 2,
   "metadata": {},
   "outputs": [
    {
     "data": {
      "text/html": [
       "<div><style>\n",
       ".dataframe > thead > tr,\n",
       ".dataframe > tbody > tr {\n",
       "  text-align: right;\n",
       "  white-space: pre-wrap;\n",
       "}\n",
       "</style>\n",
       "<small>shape: (3_665, 4)</small><table border=\"1\" class=\"dataframe\"><thead><tr><th>title</th><th>genre</th><th>runtime_minutes</th><th>year</th></tr><tr><td>str</td><td>str</td><td>str</td><td>str</td></tr></thead><tbody><tr><td>&quot;Third Man, The (1949)&quot;</td><td>&quot;Mystery|Thriller&quot;</td><td>&quot;Long&quot;</td><td>&quot;40s&quot;</td></tr><tr><td>&quot;Horse Whisperer, The (1998)&quot;</td><td>&quot;Drama&quot;</td><td>&quot;Long&quot;</td><td>&quot;90s&quot;</td></tr><tr><td>&quot;All Dogs Go to Heaven 2 (1996)&quot;</td><td>&quot;Animation|Children&#x27;s|Musical&quot;</td><td>&quot;Long&quot;</td><td>&quot;90s&quot;</td></tr><tr><td>&quot;Birdy (1984)&quot;</td><td>&quot;Drama|War&quot;</td><td>&quot;Long&quot;</td><td>&quot;80s&quot;</td></tr><tr><td>&quot;Stir of Echoes (1999)&quot;</td><td>&quot;Thriller&quot;</td><td>&quot;Long&quot;</td><td>&quot;90s&quot;</td></tr><tr><td>&hellip;</td><td>&hellip;</td><td>&hellip;</td><td>&hellip;</td></tr><tr><td>&quot;What Dreams May Come (1998)&quot;</td><td>&quot;Drama|Romance&quot;</td><td>&quot;Long&quot;</td><td>&quot;90s&quot;</td></tr><tr><td>&quot;Pocahontas (1995)&quot;</td><td>&quot;Animation|Children&#x27;s|Musical|R…</td><td>&quot;Long&quot;</td><td>&quot;90s&quot;</td></tr><tr><td>&quot;Beyond Silence (1996)&quot;</td><td>&quot;Drama&quot;</td><td>&quot;Long&quot;</td><td>&quot;90s&quot;</td></tr><tr><td>&quot;Outside Ozona (1998)&quot;</td><td>&quot;Drama|Thriller&quot;</td><td>&quot;Long&quot;</td><td>&quot;90s&quot;</td></tr><tr><td>&quot;Rambo: First Blood Part II (19…</td><td>&quot;Action|War&quot;</td><td>&quot;Long&quot;</td><td>&quot;80s&quot;</td></tr></tbody></table></div>"
      ],
      "text/plain": [
       "shape: (3_665, 4)\n",
       "┌─────────────────────────────────┬─────────────────────────────────┬─────────────────┬──────┐\n",
       "│ title                           ┆ genre                           ┆ runtime_minutes ┆ year │\n",
       "│ ---                             ┆ ---                             ┆ ---             ┆ ---  │\n",
       "│ str                             ┆ str                             ┆ str             ┆ str  │\n",
       "╞═════════════════════════════════╪═════════════════════════════════╪═════════════════╪══════╡\n",
       "│ Third Man, The (1949)           ┆ Mystery|Thriller                ┆ Long            ┆ 40s  │\n",
       "│ Horse Whisperer, The (1998)     ┆ Drama                           ┆ Long            ┆ 90s  │\n",
       "│ All Dogs Go to Heaven 2 (1996)  ┆ Animation|Children's|Musical    ┆ Long            ┆ 90s  │\n",
       "│ Birdy (1984)                    ┆ Drama|War                       ┆ Long            ┆ 80s  │\n",
       "│ Stir of Echoes (1999)           ┆ Thriller                        ┆ Long            ┆ 90s  │\n",
       "│ …                               ┆ …                               ┆ …               ┆ …    │\n",
       "│ What Dreams May Come (1998)     ┆ Drama|Romance                   ┆ Long            ┆ 90s  │\n",
       "│ Pocahontas (1995)               ┆ Animation|Children's|Musical|R… ┆ Long            ┆ 90s  │\n",
       "│ Beyond Silence (1996)           ┆ Drama                           ┆ Long            ┆ 90s  │\n",
       "│ Outside Ozona (1998)            ┆ Drama|Thriller                  ┆ Long            ┆ 90s  │\n",
       "│ Rambo: First Blood Part II (19… ┆ Action|War                      ┆ Long            ┆ 80s  │\n",
       "└─────────────────────────────────┴─────────────────────────────────┴─────────────────┴──────┘"
      ]
     },
     "execution_count": 2,
     "metadata": {},
     "output_type": "execute_result"
    }
   ],
   "source": [
    "df = pl.read_csv(MOVIE_LENS_DATA)\n",
    "df = df.select([\"title\", \"genre\", \"runtime_minutes\", \"year\"]).unique(\"title\")\n",
    "df"
   ]
  },
  {
   "cell_type": "code",
   "execution_count": 3,
   "metadata": {},
   "outputs": [],
   "source": [
    "#pattern = r\"\\((\\d{4})\\)\"\n",
    "#df = df.with_columns(\n",
    "#    pl.col(\"title\").str.extract(pattern, 1).cast(pl.Int64).alias(\"year\")\n",
    "#)\n",
    "#df = df.with_columns(\n",
    "#    pl.col(\"title\").str.replace(r\"\\s*\\(\\d{4}\\)\", \"\").alias(\"title\")\n",
    "#)\n",
    "#df"
   ]
  },
  {
   "cell_type": "code",
   "execution_count": 4,
   "metadata": {},
   "outputs": [
    {
     "data": {
      "text/html": [
       "<div><style>\n",
       ".dataframe > thead > tr,\n",
       ".dataframe > tbody > tr {\n",
       "  text-align: right;\n",
       "  white-space: pre-wrap;\n",
       "}\n",
       "</style>\n",
       "<small>shape: (705, 2)</small><table border=\"1\" class=\"dataframe\"><thead><tr><th>title</th><th>genre</th></tr><tr><td>str</td><td>str</td></tr></thead><tbody><tr><td>&quot;Emma (1996)&quot;</td><td>&quot;Comedy|Drama|Romance&quot;</td></tr><tr><td>&quot;Mickey Blue Eyes (1999)&quot;</td><td>&quot;Comedy|Romance&quot;</td></tr><tr><td>&quot;Patch Adams (1998)&quot;</td><td>&quot;Comedy|Drama&quot;</td></tr><tr><td>&quot;It&#x27;s in the Water (1998)&quot;</td><td>&quot;Comedy&quot;</td></tr><tr><td>&quot;Waterboy, The (1998)&quot;</td><td>&quot;Comedy&quot;</td></tr><tr><td>&hellip;</td><td>&hellip;</td></tr><tr><td>&quot;Mystery Men (1999)&quot;</td><td>&quot;Action|Adventure|Comedy&quot;</td></tr><tr><td>&quot;Almost Heroes (1998)&quot;</td><td>&quot;Adventure|Comedy&quot;</td></tr><tr><td>&quot;Lay of the Land, The (1997)&quot;</td><td>&quot;Comedy|Drama&quot;</td></tr><tr><td>&quot;Smoke Signals (1998)&quot;</td><td>&quot;Comedy|Drama&quot;</td></tr><tr><td>&quot;Unstrung Heroes (1995)&quot;</td><td>&quot;Comedy|Drama&quot;</td></tr></tbody></table></div>"
      ],
      "text/plain": [
       "shape: (705, 2)\n",
       "┌─────────────────────────────┬─────────────────────────┐\n",
       "│ title                       ┆ genre                   │\n",
       "│ ---                         ┆ ---                     │\n",
       "│ str                         ┆ str                     │\n",
       "╞═════════════════════════════╪═════════════════════════╡\n",
       "│ Emma (1996)                 ┆ Comedy|Drama|Romance    │\n",
       "│ Mickey Blue Eyes (1999)     ┆ Comedy|Romance          │\n",
       "│ Patch Adams (1998)          ┆ Comedy|Drama            │\n",
       "│ It's in the Water (1998)    ┆ Comedy                  │\n",
       "│ Waterboy, The (1998)        ┆ Comedy                  │\n",
       "│ …                           ┆ …                       │\n",
       "│ Mystery Men (1999)          ┆ Action|Adventure|Comedy │\n",
       "│ Almost Heroes (1998)        ┆ Adventure|Comedy        │\n",
       "│ Lay of the Land, The (1997) ┆ Comedy|Drama            │\n",
       "│ Smoke Signals (1998)        ┆ Comedy|Drama            │\n",
       "│ Unstrung Heroes (1995)      ┆ Comedy|Drama            │\n",
       "└─────────────────────────────┴─────────────────────────┘"
      ]
     },
     "execution_count": 4,
     "metadata": {},
     "output_type": "execute_result"
    }
   ],
   "source": [
    "def filter_movies(df: pl.DataFrame, attributes: dict[str, str]) -> pl.DataFrame:\n",
    "    filtered_df = df\n",
    "    if \"year\" in attributes:\n",
    "        filtered_df = filtered_df.filter(pl.col(\"year\") == attributes[\"year\"])\n",
    "    if \"runtime_minutes\" in attributes:\n",
    "        filtered_df = filtered_df.filter(pl.col(\"runtime_minutes\") == attributes[\"runtime_minutes\"])\n",
    "    if \"genre\" in attributes:\n",
    "        filtered_df = filtered_df.filter(pl.col(\"genre\").str.contains(attributes[\"genre\"]))\n",
    "    return filtered_df\n",
    "\n",
    "filtered_df = filter_movies(df, {\"genre\": \"Comedy\", \"year\": \"90s\"})\n",
    "filtered_df.select([\"title\", \"genre\"])"
   ]
  },
  {
   "cell_type": "code",
   "execution_count": 5,
   "metadata": {},
   "outputs": [
    {
     "data": {
      "text/html": [
       "<div><style>\n",
       ".dataframe > thead > tr,\n",
       ".dataframe > tbody > tr {\n",
       "  text-align: right;\n",
       "  white-space: pre-wrap;\n",
       "}\n",
       "</style>\n",
       "<small>shape: (139_412, 6)</small><table border=\"1\" class=\"dataframe\"><thead><tr><th>book_title</th><th>book_author</th><th>year_of_publication</th><th>language</th><th>category</th><th>country</th></tr><tr><td>str</td><td>str</td><td>str</td><td>str</td><td>str</td><td>str</td></tr></thead><tbody><tr><td>&quot;The Ghost at Dawn&#x27;s House (Bab…</td><td>&quot;Ann M. Martin&quot;</td><td>&quot;90s&quot;</td><td>&quot;en&quot;</td><td>&quot;Juvenile Fiction&quot;</td><td>&quot;usa&quot;</td></tr><tr><td>&quot;Prevention&#x27;s Healing With Vita…</td><td>&quot;Alice Feinstein&quot;</td><td>&quot;90s&quot;</td><td>&quot;en&quot;</td><td>&quot;other&quot;</td><td>&quot;usa&quot;</td></tr><tr><td>&quot;The Russia House&quot;</td><td>&quot;John Le Carre&quot;</td><td>&quot;2000s&quot;</td><td>&quot;en&quot;</td><td>&quot;Fiction&quot;</td><td>&quot;australia&quot;</td></tr><tr><td>&quot;Kutath (The Faded Sun, Book 3)&quot;</td><td>&quot;C.J. Cherryh&quot;</td><td>&quot;90s&quot;</td><td>&quot;en&quot;</td><td>&quot;other&quot;</td><td>&quot;usa&quot;</td></tr><tr><td>&quot;The Best American Crime Writin…</td><td>&quot;OTTO PENZLER&quot;</td><td>&quot;2000s&quot;</td><td>&quot;en&quot;</td><td>&quot;Social Science&quot;</td><td>&quot;usa&quot;</td></tr><tr><td>&hellip;</td><td>&hellip;</td><td>&hellip;</td><td>&hellip;</td><td>&hellip;</td><td>&hellip;</td></tr><tr><td>&quot;Making the words stand still&quot;</td><td>&quot;Donald E Lyman&quot;</td><td>&quot;80s&quot;</td><td>&quot;en&quot;</td><td>&quot;other&quot;</td><td>&quot;usa&quot;</td></tr><tr><td>&quot;Les Adieux Ã?Â  la reine - Pri…</td><td>&quot;Chantal Thomas&quot;</td><td>&quot;2000s&quot;</td><td>&quot;fr&quot;</td><td>&quot;other&quot;</td><td>&quot;switzerland&quot;</td></tr><tr><td>&quot;The Apocrypha: An American Tra…</td><td>&quot;Edgar Johnson Goodspeed&quot;</td><td>&quot;80s&quot;</td><td>&quot;en&quot;</td><td>&quot;Religion&quot;</td><td>&quot;usa&quot;</td></tr><tr><td>&quot;The Penguin Book of Australian…</td><td>&quot;Harry Heseltine&quot;</td><td>&quot;90s&quot;</td><td>&quot;en&quot;</td><td>&quot;Fiction&quot;</td><td>&quot;australia&quot;</td></tr><tr><td>&quot;Love Forever After&quot;</td><td>&quot;Patricia Rice&quot;</td><td>&quot;90s&quot;</td><td>&quot;en&quot;</td><td>&quot;Fiction&quot;</td><td>&quot;usa&quot;</td></tr></tbody></table></div>"
      ],
      "text/plain": [
       "shape: (139_412, 6)\n",
       "┌──────────────────┬──────────────────┬─────────────────┬──────────┬─────────────────┬─────────────┐\n",
       "│ book_title       ┆ book_author      ┆ year_of_publica ┆ language ┆ category        ┆ country     │\n",
       "│ ---              ┆ ---              ┆ tion            ┆ ---      ┆ ---             ┆ ---         │\n",
       "│ str              ┆ str              ┆ ---             ┆ str      ┆ str             ┆ str         │\n",
       "│                  ┆                  ┆ str             ┆          ┆                 ┆             │\n",
       "╞══════════════════╪══════════════════╪═════════════════╪══════════╪═════════════════╪═════════════╡\n",
       "│ The Ghost at     ┆ Ann M. Martin    ┆ 90s             ┆ en       ┆ Juvenile        ┆ usa         │\n",
       "│ Dawn's House     ┆                  ┆                 ┆          ┆ Fiction         ┆             │\n",
       "│ (Bab…            ┆                  ┆                 ┆          ┆                 ┆             │\n",
       "│ Prevention's     ┆ Alice Feinstein  ┆ 90s             ┆ en       ┆ other           ┆ usa         │\n",
       "│ Healing With     ┆                  ┆                 ┆          ┆                 ┆             │\n",
       "│ Vita…            ┆                  ┆                 ┆          ┆                 ┆             │\n",
       "│ The Russia House ┆ John Le Carre    ┆ 2000s           ┆ en       ┆ Fiction         ┆ australia   │\n",
       "│ Kutath (The      ┆ C.J. Cherryh     ┆ 90s             ┆ en       ┆ other           ┆ usa         │\n",
       "│ Faded Sun, Book  ┆                  ┆                 ┆          ┆                 ┆             │\n",
       "│ 3)               ┆                  ┆                 ┆          ┆                 ┆             │\n",
       "│ The Best         ┆ OTTO PENZLER     ┆ 2000s           ┆ en       ┆ Social Science  ┆ usa         │\n",
       "│ American Crime   ┆                  ┆                 ┆          ┆                 ┆             │\n",
       "│ Writin…          ┆                  ┆                 ┆          ┆                 ┆             │\n",
       "│ …                ┆ …                ┆ …               ┆ …        ┆ …               ┆ …           │\n",
       "│ Making the words ┆ Donald E Lyman   ┆ 80s             ┆ en       ┆ other           ┆ usa         │\n",
       "│ stand still      ┆                  ┆                 ┆          ┆                 ┆             │\n",
       "│ Les Adieux Ã?Â   ┆ Chantal Thomas   ┆ 2000s           ┆ fr       ┆ other           ┆ switzerland │\n",
       "│ la reine - Pri…  ┆                  ┆                 ┆          ┆                 ┆             │\n",
       "│ The Apocrypha:   ┆ Edgar Johnson    ┆ 80s             ┆ en       ┆ Religion        ┆ usa         │\n",
       "│ An American Tra… ┆ Goodspeed        ┆                 ┆          ┆                 ┆             │\n",
       "│ The Penguin Book ┆ Harry Heseltine  ┆ 90s             ┆ en       ┆ Fiction         ┆ australia   │\n",
       "│ of Australian…   ┆                  ┆                 ┆          ┆                 ┆             │\n",
       "│ Love Forever     ┆ Patricia Rice    ┆ 90s             ┆ en       ┆ Fiction         ┆ usa         │\n",
       "│ After            ┆                  ┆                 ┆          ┆                 ┆             │\n",
       "└──────────────────┴──────────────────┴─────────────────┴──────────┴─────────────────┴─────────────┘"
      ]
     },
     "execution_count": 5,
     "metadata": {},
     "output_type": "execute_result"
    }
   ],
   "source": [
    "BOOK_CROSSING_DATA = \"../data/original_datasets/BookCrossing.csv\"\n",
    "\n",
    "columns_of_interest = [\"book_title\", \"book_author\", \"year_of_publication\", \"language\", \"category\", \"country\"]\n",
    "df = pl.read_csv(BOOK_CROSSING_DATA).unique(\"book_id\").select(columns_of_interest)\n",
    "df"
   ]
  },
  {
   "cell_type": "code",
   "execution_count": 6,
   "metadata": {},
   "outputs": [
    {
     "data": {
      "text/html": [
       "<div><style>\n",
       ".dataframe > thead > tr,\n",
       ".dataframe > tbody > tr {\n",
       "  text-align: right;\n",
       "  white-space: pre-wrap;\n",
       "}\n",
       "</style>\n",
       "<small>shape: (855, 6)</small><table border=\"1\" class=\"dataframe\"><thead><tr><th>book_title</th><th>book_author</th><th>year_of_publication</th><th>language</th><th>category</th><th>country</th></tr><tr><td>str</td><td>str</td><td>str</td><td>str</td><td>str</td><td>str</td></tr></thead><tbody><tr><td>&quot;Ancient Ways: Reclaiming Pagan…</td><td>&quot;Pauline Campanelli&quot;</td><td>&quot;90s&quot;</td><td>&quot;en&quot;</td><td>&quot;Body, Mind &amp; Spirit&quot;</td><td>&quot;canada&quot;</td></tr><tr><td>&quot;Hidden Mysteries: Ets, Ancient…</td><td>&quot;Joshua D. Stone&quot;</td><td>&quot;90s&quot;</td><td>&quot;en&quot;</td><td>&quot;Body, Mind &amp; Spirit&quot;</td><td>&quot;united kingdom&quot;</td></tr><tr><td>&quot;The Complete Illustrated Guide…</td><td>&quot;Inge Dougans&quot;</td><td>&quot;90s&quot;</td><td>&quot;en&quot;</td><td>&quot;Body, Mind &amp; Spirit&quot;</td><td>&quot;usa&quot;</td></tr><tr><td>&quot;Astrology for the Millions (Ll…</td><td>&quot;Lewi Grant&quot;</td><td>&quot;90s&quot;</td><td>&quot;en&quot;</td><td>&quot;Body, Mind &amp; Spirit&quot;</td><td>&quot;usa&quot;</td></tr><tr><td>&quot;When Time Began: : Book V of t…</td><td>&quot;Zecharia Sitchin&quot;</td><td>&quot;90s&quot;</td><td>&quot;en&quot;</td><td>&quot;Body, Mind &amp; Spirit&quot;</td><td>&quot;usa&quot;</td></tr><tr><td>&hellip;</td><td>&hellip;</td><td>&hellip;</td><td>&hellip;</td><td>&hellip;</td><td>&hellip;</td></tr><tr><td>&quot;Abduction: Human Encounters Wi…</td><td>&quot;John E. Mack&quot;</td><td>&quot;90s&quot;</td><td>&quot;en&quot;</td><td>&quot;Body, Mind &amp; Spirit&quot;</td><td>&quot;usa&quot;</td></tr><tr><td>&quot;Day Of Deception&quot;</td><td>&quot;John C. Hagee&quot;</td><td>&quot;90s&quot;</td><td>&quot;en&quot;</td><td>&quot;Body, Mind &amp; Spirit&quot;</td><td>&quot;usa&quot;</td></tr><tr><td>&quot;The Sorcerers&#x27; Crossing (Arkan…</td><td>&quot;Taisha Abelar&quot;</td><td>&quot;90s&quot;</td><td>&quot;en&quot;</td><td>&quot;Body, Mind &amp; Spirit&quot;</td><td>&quot;usa&quot;</td></tr><tr><td>&quot;Enochian Magic: A Practical Ma…</td><td>&quot;Gerald J. Schueler&quot;</td><td>&quot;90s&quot;</td><td>&quot;en&quot;</td><td>&quot;Body, Mind &amp; Spirit&quot;</td><td>&quot;romania&quot;</td></tr><tr><td>&quot;Signet of Atlantis: War in Hea…</td><td>&quot;Barbara Hand Clow&quot;</td><td>&quot;90s&quot;</td><td>&quot;en&quot;</td><td>&quot;Body, Mind &amp; Spirit&quot;</td><td>&quot;usa&quot;</td></tr></tbody></table></div>"
      ],
      "text/plain": [
       "shape: (855, 6)\n",
       "┌─────────────────┬─────────────────┬─────────────────┬──────────┬────────────────┬────────────────┐\n",
       "│ book_title      ┆ book_author     ┆ year_of_publica ┆ language ┆ category       ┆ country        │\n",
       "│ ---             ┆ ---             ┆ tion            ┆ ---      ┆ ---            ┆ ---            │\n",
       "│ str             ┆ str             ┆ ---             ┆ str      ┆ str            ┆ str            │\n",
       "│                 ┆                 ┆ str             ┆          ┆                ┆                │\n",
       "╞═════════════════╪═════════════════╪═════════════════╪══════════╪════════════════╪════════════════╡\n",
       "│ Ancient Ways:   ┆ Pauline         ┆ 90s             ┆ en       ┆ Body, Mind &   ┆ canada         │\n",
       "│ Reclaiming      ┆ Campanelli      ┆                 ┆          ┆ Spirit         ┆                │\n",
       "│ Pagan…          ┆                 ┆                 ┆          ┆                ┆                │\n",
       "│ Hidden          ┆ Joshua D. Stone ┆ 90s             ┆ en       ┆ Body, Mind &   ┆ united kingdom │\n",
       "│ Mysteries: Ets, ┆                 ┆                 ┆          ┆ Spirit         ┆                │\n",
       "│ Ancient…        ┆                 ┆                 ┆          ┆                ┆                │\n",
       "│ The Complete    ┆ Inge Dougans    ┆ 90s             ┆ en       ┆ Body, Mind &   ┆ usa            │\n",
       "│ Illustrated     ┆                 ┆                 ┆          ┆ Spirit         ┆                │\n",
       "│ Guide…          ┆                 ┆                 ┆          ┆                ┆                │\n",
       "│ Astrology for   ┆ Lewi Grant      ┆ 90s             ┆ en       ┆ Body, Mind &   ┆ usa            │\n",
       "│ the Millions    ┆                 ┆                 ┆          ┆ Spirit         ┆                │\n",
       "│ (Ll…            ┆                 ┆                 ┆          ┆                ┆                │\n",
       "│ When Time       ┆ Zecharia        ┆ 90s             ┆ en       ┆ Body, Mind &   ┆ usa            │\n",
       "│ Began: : Book V ┆ Sitchin         ┆                 ┆          ┆ Spirit         ┆                │\n",
       "│ of t…           ┆                 ┆                 ┆          ┆                ┆                │\n",
       "│ …               ┆ …               ┆ …               ┆ …        ┆ …              ┆ …              │\n",
       "│ Abduction:      ┆ John E. Mack    ┆ 90s             ┆ en       ┆ Body, Mind &   ┆ usa            │\n",
       "│ Human           ┆                 ┆                 ┆          ┆ Spirit         ┆                │\n",
       "│ Encounters Wi…  ┆                 ┆                 ┆          ┆                ┆                │\n",
       "│ Day Of          ┆ John C. Hagee   ┆ 90s             ┆ en       ┆ Body, Mind &   ┆ usa            │\n",
       "│ Deception       ┆                 ┆                 ┆          ┆ Spirit         ┆                │\n",
       "│ The Sorcerers'  ┆ Taisha Abelar   ┆ 90s             ┆ en       ┆ Body, Mind &   ┆ usa            │\n",
       "│ Crossing        ┆                 ┆                 ┆          ┆ Spirit         ┆                │\n",
       "│ (Arkan…         ┆                 ┆                 ┆          ┆                ┆                │\n",
       "│ Enochian Magic: ┆ Gerald J.       ┆ 90s             ┆ en       ┆ Body, Mind &   ┆ romania        │\n",
       "│ A Practical Ma… ┆ Schueler        ┆                 ┆          ┆ Spirit         ┆                │\n",
       "│ Signet of       ┆ Barbara Hand    ┆ 90s             ┆ en       ┆ Body, Mind &   ┆ usa            │\n",
       "│ Atlantis: War   ┆ Clow            ┆                 ┆          ┆ Spirit         ┆                │\n",
       "│ in Hea…         ┆                 ┆                 ┆          ┆                ┆                │\n",
       "└─────────────────┴─────────────────┴─────────────────┴──────────┴────────────────┴────────────────┘"
      ]
     },
     "execution_count": 6,
     "metadata": {},
     "output_type": "execute_result"
    }
   ],
   "source": [
    "def filter_books(df: pl.DataFrame, attributes: dict[str, str]) -> pl.DataFrame:\n",
    "    filtered_df = df\n",
    "    if \"year_of_publication\" in attributes:\n",
    "        filtered_df = filtered_df.filter(pl.col(\"year_of_publication\") == attributes[\"year_of_publication\"])\n",
    "    if \"language\" in attributes:\n",
    "        filtered_df = filtered_df.filter(pl.col(\"language\") == attributes[\"language\"])\n",
    "    if \"country\" in attributes:\n",
    "        filtered_df = filtered_df.filter(pl.col(\"country\") == attributes[\"country\"])\n",
    "    if \"category\" in attributes:\n",
    "        if attributes[\"category\"] == \"body-mind-and-spirit\":\n",
    "            filtered_df = filtered_df.filter(pl.col(\"category\") == \"Body, Mind & Spirit\")\n",
    "        else:\n",
    "            filtered_df = filtered_df.filter(pl.col(\"category\") == attributes[\"category\"])\n",
    "    return filtered_df\n",
    "\n",
    "filtered_df = filter_books(df, {\"year_of_publication\": \"90s\", \"language\": \"en\", \"category\": \"body-mind-and-spirit\"})\n",
    "filtered_df"
   ]
  },
  {
   "cell_type": "code",
   "execution_count": 22,
   "metadata": {},
   "outputs": [],
   "source": [
    "import pathlib\n",
    "import polars as pl\n",
    "\n",
    "\n",
    "class EntryBrowser:\n",
    "    __DATA_PATH = pathlib.Path(\"../data/original_datasets/\")\n",
    "    __MOVIE_DATA = __DATA_PATH / \"MovieLens.csv\"\n",
    "    __BOOK_DATA = __DATA_PATH / \"BookCrossing.csv\"\n",
    "\n",
    "\n",
    "    movie_df: pl.DataFrame\n",
    "    book_df: pl.DataFrame\n",
    "\n",
    "\n",
    "    def __init__(self):\n",
    "        self.movie_df = pl.read_csv(EntryBrowser.__MOVIE_DATA) \\\n",
    "            .select([\"title\", \"genre\", \"runtime_minutes\", \"year\"]).unique(\"title\")\n",
    "        self.book_df = pl.read_csv(EntryBrowser.__BOOK_DATA).unique(\"book_id\") \\\n",
    "            .select([\"book_title\", \"book_author\", \"year_of_publication\", \"language\", \"category\", \"country\"])\n",
    " \n",
    "\n",
    "    def filter_movies(self, attributes: dict[str, str]) -> pl.DataFrame:\n",
    "        df = self.movie_df\n",
    "        if \"year\" in attributes:\n",
    "            df = df.filter(pl.col(\"year\") == attributes[\"year\"])\n",
    "        if \"runtime_minutes\" in attributes:\n",
    "            df = df.filter(pl.col(\"runtime_minutes\") == attributes[\"runtime_minutes\"])\n",
    "        if \"genre\" in attributes:\n",
    "            df = df.filter(pl.col(\"genre\").str.contains(attributes[\"genre\"]))\n",
    "        return df\n",
    "    \n",
    "\n",
    "    def movie_attributes(self) -> dict[str, list[str]]:\n",
    "        df = self.movie_df\n",
    "        cols = [c for c in df.columns if c != \"title\"]\n",
    "        attributes = {}\n",
    "\n",
    "        for c in cols:\n",
    "            attributes[c] = df.unique(c)[c]\n",
    "\n",
    "        genres = set()\n",
    "        for genre_list in attributes[\"genre\"]:\n",
    "            genre_iterator: list[str] = genre_list.split(\"|\")\n",
    "            for g in genre_iterator:\n",
    "                genres.add(g)\n",
    "        attributes[\"genre\"] = genres\n",
    "        \n",
    "        return attributes\n",
    "    \n",
    "\n",
    "    def filter_books(self, attributes: dict[str, str]) -> pl.DataFrame:\n",
    "        df = self.book_df\n",
    "        if \"year_of_publication\" in attributes:\n",
    "            df = df.filter(pl.col(\"year_of_publication\") == attributes[\"year_of_publication\"])\n",
    "        if \"language\" in attributes:\n",
    "            df = df.filter(pl.col(\"language\") == attributes[\"language\"])\n",
    "        if \"country\" in attributes:\n",
    "            df = df.filter(pl.col(\"country\") == attributes[\"country\"])\n",
    "        if \"category\" in attributes:\n",
    "            if attributes[\"category\"] == \"body-mind-and-spirit\":\n",
    "                df = df.filter(pl.col(\"category\") == \"Body, Mind & Spirit\")\n",
    "            else:\n",
    "                df = df.filter(pl.col(\"category\") == attributes[\"category\"])\n",
    "        return df\n",
    "    \n",
    "    def book_attributes(self) -> dict[str, list[str]]:\n",
    "        df = self.book_df.unique(\"book_title\")\n",
    "        cols = [c for c in df.columns if c != \"book_title\" and c != \"book_author\"]\n",
    "        \n",
    "        attributes = {}\n",
    "        for c in cols:\n",
    "            attributes[c] = df.unique(c)[c]\n",
    "        return attributes"
   ]
  },
  {
   "cell_type": "code",
   "execution_count": 23,
   "metadata": {},
   "outputs": [
    {
     "data": {
      "text/html": [
       "<div><style>\n",
       ".dataframe > thead > tr,\n",
       ".dataframe > tbody > tr {\n",
       "  text-align: right;\n",
       "  white-space: pre-wrap;\n",
       "}\n",
       "</style>\n",
       "<small>shape: (10, 4)</small><table border=\"1\" class=\"dataframe\"><thead><tr><th>title</th><th>genre</th><th>runtime_minutes</th><th>year</th></tr><tr><td>str</td><td>str</td><td>str</td><td>str</td></tr></thead><tbody><tr><td>&quot;Goofy Movie, A (1995)&quot;</td><td>&quot;Animation|Children&#x27;s|Comedy|Ro…</td><td>&quot;Long&quot;</td><td>&quot;90s&quot;</td></tr><tr><td>&quot;Peter Pan (1953)&quot;</td><td>&quot;Animation|Children&#x27;s|Fantasy|M…</td><td>&quot;Long&quot;</td><td>&quot;50s&quot;</td></tr><tr><td>&quot;Tigerland (2000)&quot;</td><td>&quot;Drama&quot;</td><td>&quot;Long&quot;</td><td>&quot;2000s&quot;</td></tr><tr><td>&quot;Farmer&#x27;s Wife, The (1928)&quot;</td><td>&quot;Comedy&quot;</td><td>&quot;Long&quot;</td><td>&quot;20s&quot;</td></tr><tr><td>&quot;Cat Ballou (1965)&quot;</td><td>&quot;Comedy|Western&quot;</td><td>&quot;Long&quot;</td><td>&quot;60s&quot;</td></tr><tr><td>&quot;Dog&#x27;s Life, A (1920)&quot;</td><td>&quot;Comedy&quot;</td><td>&quot;Short&quot;</td><td>&quot;10s&quot;</td></tr><tr><td>&quot;Autopsy (Macchie Solari) (1975…</td><td>&quot;Horror&quot;</td><td>&quot;Long&quot;</td><td>&quot;70s&quot;</td></tr><tr><td>&quot;Impact (1949)&quot;</td><td>&quot;Crime|Drama&quot;</td><td>&quot;Long&quot;</td><td>&quot;40s&quot;</td></tr><tr><td>&quot;Alligator (1980)&quot;</td><td>&quot;Action|Horror|Sci-Fi&quot;</td><td>&quot;Long&quot;</td><td>&quot;80s&quot;</td></tr><tr><td>&quot;Elstree Calling (1930)&quot;</td><td>&quot;Comedy|Musical&quot;</td><td>&quot;Long&quot;</td><td>&quot;30s&quot;</td></tr></tbody></table></div>"
      ],
      "text/plain": [
       "shape: (10, 4)\n",
       "┌─────────────────────────────────┬─────────────────────────────────┬─────────────────┬───────┐\n",
       "│ title                           ┆ genre                           ┆ runtime_minutes ┆ year  │\n",
       "│ ---                             ┆ ---                             ┆ ---             ┆ ---   │\n",
       "│ str                             ┆ str                             ┆ str             ┆ str   │\n",
       "╞═════════════════════════════════╪═════════════════════════════════╪═════════════════╪═══════╡\n",
       "│ Goofy Movie, A (1995)           ┆ Animation|Children's|Comedy|Ro… ┆ Long            ┆ 90s   │\n",
       "│ Peter Pan (1953)                ┆ Animation|Children's|Fantasy|M… ┆ Long            ┆ 50s   │\n",
       "│ Tigerland (2000)                ┆ Drama                           ┆ Long            ┆ 2000s │\n",
       "│ Farmer's Wife, The (1928)       ┆ Comedy                          ┆ Long            ┆ 20s   │\n",
       "│ Cat Ballou (1965)               ┆ Comedy|Western                  ┆ Long            ┆ 60s   │\n",
       "│ Dog's Life, A (1920)            ┆ Comedy                          ┆ Short           ┆ 10s   │\n",
       "│ Autopsy (Macchie Solari) (1975… ┆ Horror                          ┆ Long            ┆ 70s   │\n",
       "│ Impact (1949)                   ┆ Crime|Drama                     ┆ Long            ┆ 40s   │\n",
       "│ Alligator (1980)                ┆ Action|Horror|Sci-Fi            ┆ Long            ┆ 80s   │\n",
       "│ Elstree Calling (1930)          ┆ Comedy|Musical                  ┆ Long            ┆ 30s   │\n",
       "└─────────────────────────────────┴─────────────────────────────────┴─────────────────┴───────┘"
      ]
     },
     "execution_count": 23,
     "metadata": {},
     "output_type": "execute_result"
    }
   ],
   "source": [
    "entry_browser = EntryBrowser()\n",
    "entry_browser.movie_df.unique(\"year\")"
   ]
  },
  {
   "cell_type": "code",
   "execution_count": 24,
   "metadata": {},
   "outputs": [
    {
     "data": {
      "text/plain": [
       "{'genre': {'Action',\n",
       "  'Adventure',\n",
       "  'Animation',\n",
       "  \"Children's\",\n",
       "  'Comedy',\n",
       "  'Crime',\n",
       "  'Documentary',\n",
       "  'Drama',\n",
       "  'Fantasy',\n",
       "  'Film-Noir',\n",
       "  'Horror',\n",
       "  'Musical',\n",
       "  'Mystery',\n",
       "  'Romance',\n",
       "  'Sci-Fi',\n",
       "  'Thriller',\n",
       "  'War',\n",
       "  'Western'},\n",
       " 'runtime_minutes': shape: (3,)\n",
       " Series: 'runtime_minutes' [str]\n",
       " [\n",
       " \t\"Long\"\n",
       " \t\"Very Long\"\n",
       " \t\"Short\"\n",
       " ],\n",
       " 'year': shape: (10,)\n",
       " Series: 'year' [str]\n",
       " [\n",
       " \t\"70s\"\n",
       " \t\"20s\"\n",
       " \t\"80s\"\n",
       " \t\"10s\"\n",
       " \t\"30s\"\n",
       " \t\"60s\"\n",
       " \t\"2000s\"\n",
       " \t\"90s\"\n",
       " \t\"50s\"\n",
       " \t\"40s\"\n",
       " ]}"
      ]
     },
     "execution_count": 24,
     "metadata": {},
     "output_type": "execute_result"
    }
   ],
   "source": [
    "entry_browser.movie_attributes()"
   ]
  },
  {
   "cell_type": "code",
   "execution_count": 29,
   "metadata": {},
   "outputs": [
    {
     "data": {
      "text/plain": [
       "{'year_of_publication': shape: (13,)\n",
       " Series: 'year_of_publication' [str]\n",
       " [\n",
       " \t\"10s\"\n",
       " \t\"70s\"\n",
       " \t\"1900s\"\n",
       " \t\"30s\"\n",
       " \t\"40s\"\n",
       " \t…\n",
       " \t\"20s\"\n",
       " \t\"2000s\"\n",
       " \t\"90s\"\n",
       " \t\"1300s\"\n",
       " \t\"80s\"\n",
       " ],\n",
       " 'language': shape: (9,)\n",
       " Series: 'language' [str]\n",
       " [\n",
       " \t\"pt\"\n",
       " \t\"en\"\n",
       " \t\"es\"\n",
       " \t\"fr\"\n",
       " \t\"it\"\n",
       " \t\"other\"\n",
       " \t\"nl\"\n",
       " \t\"de\"\n",
       " \t\"da\"\n",
       " ],\n",
       " 'category': shape: (30,)\n",
       " Series: 'category' [str]\n",
       " [\n",
       " \t\"Nature\"\n",
       " \t\"Poetry\"\n",
       " \t\"Health & Fitness\"\n",
       " \t\"Juvenile Nonfiction\"\n",
       " \t\"True Crime\"\n",
       " \t…\n",
       " \t\"Juvenile Fiction\"\n",
       " \t\"Fiction\"\n",
       " \t\"Self-Help\"\n",
       " \t\"Religion\"\n",
       " \t\"Business & Economics\"\n",
       " ],\n",
       " 'country': shape: (28,)\n",
       " Series: 'country' [str]\n",
       " [\n",
       " \t\"italy\"\n",
       " \t\"spain\"\n",
       " \t\"germany\"\n",
       " \t\"canada\"\n",
       " \t\"norway\"\n",
       " \t…\n",
       " \t\"austria\"\n",
       " \t\"brazil\"\n",
       " \t\"finland\"\n",
       " \t\"romania\"\n",
       " \t\"dominican republic\"\n",
       " ]}"
      ]
     },
     "execution_count": 29,
     "metadata": {},
     "output_type": "execute_result"
    }
   ],
   "source": [
    "def book_attributes(df: pl.DataFrame) -> dict[str, list[str]]:\n",
    "    df = df.unique(\"book_title\")\n",
    "    cols = [c for c in df.columns if c != \"book_title\" and c != \"book_author\"]\n",
    "    \n",
    "    attributes = {}\n",
    "    for c in cols:\n",
    "        attributes[c] = df.unique(c)[c]\n",
    "    return attributes\n",
    "\n",
    "book_attributes(entry_browser.book_df)"
   ]
  }
 ],
 "metadata": {
  "kernelspec": {
   "display_name": "Python 3",
   "language": "python",
   "name": "python3"
  },
  "language_info": {
   "codemirror_mode": {
    "name": "ipython",
    "version": 3
   },
   "file_extension": ".py",
   "mimetype": "text/x-python",
   "name": "python",
   "nbconvert_exporter": "python",
   "pygments_lexer": "ipython3",
   "version": "3.12.8"
  }
 },
 "nbformat": 4,
 "nbformat_minor": 2
}
