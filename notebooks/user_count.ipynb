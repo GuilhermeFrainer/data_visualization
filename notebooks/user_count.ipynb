{
 "cells": [
  {
   "cell_type": "markdown",
   "metadata": {},
   "source": [
    "This notebook's objective is to find a way to count the number of users in a certain group\n",
    "in the original datasets so that the areas in the treemaps can reflect that."
   ]
  },
  {
   "cell_type": "code",
   "execution_count": 31,
   "metadata": {},
   "outputs": [],
   "source": [
    "import polars as pl\n",
    "from utils import mount_src\n",
    "\n",
    "mount_src()\n",
    "\n",
    "import hypothesis_row as hr\n",
    "\n",
    "DATA_DIR = \"../data/original_datasets/\"\n",
    "BOOK_CROSSING_DATA = DATA_DIR + \"BookCrossing.csv\"\n",
    "MOVIE_LENS_DATA = DATA_DIR + \"MovieLens.csv\"\n",
    "YELP_DATA = DATA_DIR + \"Yelp.csv\"\n",
    "\n",
    "BOOK_CROSSING_USER_ATTRIBUTES = [\"user_id\", \"age\"]\n",
    "MOVIE_LENS_USER_ATTRIBUTES = [\"user_id\", \"gender\", \"age\", \"occupation\", \"location\"]\n",
    "YELP_USER_ATTRIBUTES = [\"user_id\", \"gender\"]"
   ]
  },
  {
   "cell_type": "code",
   "execution_count": 2,
   "metadata": {},
   "outputs": [
    {
     "data": {
      "text/html": [
       "<div><style>\n",
       ".dataframe > thead > tr,\n",
       ".dataframe > tbody > tr {\n",
       "  text-align: right;\n",
       "  white-space: pre-wrap;\n",
       "}\n",
       "</style>\n",
       "<small>shape: (64_803, 2)</small><table border=\"1\" class=\"dataframe\"><thead><tr><th>user_id</th><th>age</th></tr><tr><td>i64</td><td>str</td></tr></thead><tbody><tr><td>26740</td><td>&quot;25-34&quot;</td></tr><tr><td>43677</td><td>&quot;25-34&quot;</td></tr><tr><td>40986</td><td>&quot;25-34&quot;</td></tr><tr><td>47135</td><td>&quot;35-44&quot;</td></tr><tr><td>37693</td><td>&quot;25-34&quot;</td></tr><tr><td>&hellip;</td><td>&hellip;</td></tr><tr><td>16547</td><td>&quot;50-55&quot;</td></tr><tr><td>71539</td><td>&quot;45-49&quot;</td></tr><tr><td>33741</td><td>&quot;25-34&quot;</td></tr><tr><td>65437</td><td>&quot;18-24&quot;</td></tr><tr><td>62547</td><td>&quot;25-34&quot;</td></tr></tbody></table></div>"
      ],
      "text/plain": [
       "shape: (64_803, 2)\n",
       "┌─────────┬───────┐\n",
       "│ user_id ┆ age   │\n",
       "│ ---     ┆ ---   │\n",
       "│ i64     ┆ str   │\n",
       "╞═════════╪═══════╡\n",
       "│ 26740   ┆ 25-34 │\n",
       "│ 43677   ┆ 25-34 │\n",
       "│ 40986   ┆ 25-34 │\n",
       "│ 47135   ┆ 35-44 │\n",
       "│ 37693   ┆ 25-34 │\n",
       "│ …       ┆ …     │\n",
       "│ 16547   ┆ 50-55 │\n",
       "│ 71539   ┆ 45-49 │\n",
       "│ 33741   ┆ 25-34 │\n",
       "│ 65437   ┆ 18-24 │\n",
       "│ 62547   ┆ 25-34 │\n",
       "└─────────┴───────┘"
      ]
     },
     "execution_count": 2,
     "metadata": {},
     "output_type": "execute_result"
    }
   ],
   "source": [
    "df = pl.read_csv(BOOK_CROSSING_DATA)\n",
    "unique_users_df = df.select(pl.col(\"user_id\"), pl.col(\"age\")).unique()\n",
    "unique_users_df"
   ]
  },
  {
   "cell_type": "code",
   "execution_count": 3,
   "metadata": {},
   "outputs": [
    {
     "data": {
      "text/plain": [
       "{'25-34': 37855,\n",
       " '35-44': 8305,\n",
       " '18-24': 5914,\n",
       " '>56': 3988,\n",
       " '<18': 2500,\n",
       " '50-55': 3247,\n",
       " '45-49': 2994}"
      ]
     },
     "execution_count": 3,
     "metadata": {},
     "output_type": "execute_result"
    }
   ],
   "source": [
    "groups = {}\n",
    "for r in unique_users_df.iter_rows():\n",
    "    id, age = r\n",
    "    if age not in groups:\n",
    "        groups[age] = 1\n",
    "    else:\n",
    "        groups[age] += 1\n",
    "groups"
   ]
  },
  {
   "cell_type": "markdown",
   "metadata": {},
   "source": [
    "So this is working for the Book Crossing dataset,\n",
    "which is good, but not excellent, since it's a dataset with a single\n",
    "user attribute (age).\n",
    "Let's try it with the MovieLens dataset."
   ]
  },
  {
   "cell_type": "code",
   "execution_count": 21,
   "metadata": {},
   "outputs": [
    {
     "data": {
      "text/html": [
       "<div><style>\n",
       ".dataframe > thead > tr,\n",
       ".dataframe > tbody > tr {\n",
       "  text-align: right;\n",
       "  white-space: pre-wrap;\n",
       "}\n",
       "</style>\n",
       "<small>shape: (6_040, 5)</small><table border=\"1\" class=\"dataframe\"><thead><tr><th>user_id</th><th>gender</th><th>age</th><th>occupation</th><th>location</th></tr><tr><td>i64</td><td>str</td><td>str</td><td>str</td><td>str</td></tr></thead><tbody><tr><td>5786</td><td>&quot;M&quot;</td><td>&quot;25-34&quot;</td><td>&quot;doctor-health care&quot;</td><td>&quot;WI&quot;</td></tr><tr><td>34</td><td>&quot;F&quot;</td><td>&quot;18-24&quot;</td><td>&quot;other&quot;</td><td>&quot;MA&quot;</td></tr><tr><td>5468</td><td>&quot;M&quot;</td><td>&quot;25-34&quot;</td><td>&quot;programmer&quot;</td><td>&quot;CA&quot;</td></tr><tr><td>1182</td><td>&quot;M&quot;</td><td>&quot;&lt;18&quot;</td><td>&quot;K-12 student&quot;</td><td>&quot;CA&quot;</td></tr><tr><td>4652</td><td>&quot;F&quot;</td><td>&quot;25-34&quot;</td><td>&quot;executive-managerial&quot;</td><td>&quot;CA&quot;</td></tr><tr><td>&hellip;</td><td>&hellip;</td><td>&hellip;</td><td>&hellip;</td><td>&hellip;</td></tr><tr><td>5971</td><td>&quot;M&quot;</td><td>&quot;35-44&quot;</td><td>&quot;executive-managerial&quot;</td><td>&quot;MI&quot;</td></tr><tr><td>1172</td><td>&quot;F&quot;</td><td>&quot;25-34&quot;</td><td>&quot;other&quot;</td><td>&quot;IL&quot;</td></tr><tr><td>1448</td><td>&quot;F&quot;</td><td>&quot;25-34&quot;</td><td>&quot;clerical-admin&quot;</td><td>&quot;PA&quot;</td></tr><tr><td>917</td><td>&quot;M&quot;</td><td>&quot;50-55&quot;</td><td>&quot;doctor-health care&quot;</td><td>&quot;CA&quot;</td></tr><tr><td>2942</td><td>&quot;F&quot;</td><td>&quot;50-55&quot;</td><td>&quot;academic-educator&quot;</td><td>&quot;CA&quot;</td></tr></tbody></table></div>"
      ],
      "text/plain": [
       "shape: (6_040, 5)\n",
       "┌─────────┬────────┬───────┬──────────────────────┬──────────┐\n",
       "│ user_id ┆ gender ┆ age   ┆ occupation           ┆ location │\n",
       "│ ---     ┆ ---    ┆ ---   ┆ ---                  ┆ ---      │\n",
       "│ i64     ┆ str    ┆ str   ┆ str                  ┆ str      │\n",
       "╞═════════╪════════╪═══════╪══════════════════════╪══════════╡\n",
       "│ 5786    ┆ M      ┆ 25-34 ┆ doctor-health care   ┆ WI       │\n",
       "│ 34      ┆ F      ┆ 18-24 ┆ other                ┆ MA       │\n",
       "│ 5468    ┆ M      ┆ 25-34 ┆ programmer           ┆ CA       │\n",
       "│ 1182    ┆ M      ┆ <18   ┆ K-12 student         ┆ CA       │\n",
       "│ 4652    ┆ F      ┆ 25-34 ┆ executive-managerial ┆ CA       │\n",
       "│ …       ┆ …      ┆ …     ┆ …                    ┆ …        │\n",
       "│ 5971    ┆ M      ┆ 35-44 ┆ executive-managerial ┆ MI       │\n",
       "│ 1172    ┆ F      ┆ 25-34 ┆ other                ┆ IL       │\n",
       "│ 1448    ┆ F      ┆ 25-34 ┆ clerical-admin       ┆ PA       │\n",
       "│ 917     ┆ M      ┆ 50-55 ┆ doctor-health care   ┆ CA       │\n",
       "│ 2942    ┆ F      ┆ 50-55 ┆ academic-educator    ┆ CA       │\n",
       "└─────────┴────────┴───────┴──────────────────────┴──────────┘"
      ]
     },
     "execution_count": 21,
     "metadata": {},
     "output_type": "execute_result"
    }
   ],
   "source": [
    "df = pl.read_csv(MOVIE_LENS_DATA)\n",
    "unique_users = df.select(MOVIE_LENS_USER_ATTRIBUTES).unique()\n",
    "unique_users"
   ]
  },
  {
   "cell_type": "code",
   "execution_count": 22,
   "metadata": {},
   "outputs": [],
   "source": [
    "def extract_unique_features(df: pl.DataFrame, col: str) -> list:\n",
    "    return df.select(col).to_series().unique().to_list()\n",
    "\n",
    "occupations = extract_unique_features(unique_users, \"occupation\")\n",
    "genders = extract_unique_features(unique_users, \"gender\")\n",
    "ages = extract_unique_features(unique_users, \"age\")\n",
    "locations = extract_unique_features(unique_users, \"location\")"
   ]
  },
  {
   "cell_type": "code",
   "execution_count": 29,
   "metadata": {},
   "outputs": [
    {
     "data": {
      "text/plain": [
       "16464"
      ]
     },
     "execution_count": 29,
     "metadata": {},
     "output_type": "execute_result"
    }
   ],
   "source": [
    "len(occupations) * len(genders) * len(ages) * len(locations)"
   ]
  },
  {
   "cell_type": "markdown",
   "metadata": {},
   "source": [
    "Since there's a lot of different possibilities,\n",
    "I'll try and get the user count *ad hoc*."
   ]
  },
  {
   "cell_type": "code",
   "execution_count": 42,
   "metadata": {},
   "outputs": [
    {
     "data": {
      "text/plain": [
       "{'age': '18-24',\n",
       " 'gender': 'M',\n",
       " 'genre': 'Drama',\n",
       " 'occupation': 'college-grad student',\n",
       " 'runtime_minutes': 'Long',\n",
       " 'year': '90s'}"
      ]
     },
     "execution_count": 42,
     "metadata": {},
     "output_type": "execute_result"
    }
   ],
   "source": [
    "h_df = pl.read_csv(\"../data/movie_lens.csv\")\n",
    "hs = hr.HypothesisRow.df_to_list(h_df)\n",
    "hs[13].parent"
   ]
  },
  {
   "cell_type": "code",
   "execution_count": 40,
   "metadata": {},
   "outputs": [
    {
     "data": {
      "text/plain": [
       "1709"
      ]
     },
     "execution_count": 40,
     "metadata": {},
     "output_type": "execute_result"
    }
   ],
   "source": [
    "def get_count_for_attribute(df: pl.DataFrame, col: str, val: str) -> int:\n",
    "    return len(df.select(col).filter(pl.col(col) == val))\n",
    "\n",
    "get_count_for_attribute(unique_users, \"gender\", \"F\")"
   ]
  },
  {
   "cell_type": "code",
   "execution_count": 54,
   "metadata": {},
   "outputs": [
    {
     "data": {
      "text/plain": [
       "371"
      ]
     },
     "execution_count": 54,
     "metadata": {},
     "output_type": "execute_result"
    }
   ],
   "source": [
    "from polars.exceptions import ColumnNotFoundError\n",
    "\n",
    "\n",
    "def get_user_count(df: pl.DataFrame, group: dict) -> int:\n",
    "    \"\"\"\n",
    "    Gets user count for a certain group.\n",
    "\n",
    "    Args:\n",
    "        df (pl.DataFrame): DataFrame containing unique users.\n",
    "        \n",
    "        groups (dict): attribute dictionary for a group.\n",
    "\n",
    "    Returns:\n",
    "        int: user count for that group.\n",
    "    \"\"\"\n",
    "    filtered_df = df\n",
    "    for k, v in group.items():\n",
    "        try: \n",
    "            filtered_df = filtered_df.filter(pl.col(k) == v)\n",
    "        except ColumnNotFoundError:\n",
    "            continue\n",
    "    return len(filtered_df)\n",
    "\n",
    "get_user_count(unique_users, hs[13].parent)"
   ]
  },
  {
   "cell_type": "code",
   "execution_count": 56,
   "metadata": {},
   "outputs": [
    {
     "data": {
      "text/html": [
       "<div><style>\n",
       ".dataframe > thead > tr,\n",
       ".dataframe > tbody > tr {\n",
       "  text-align: right;\n",
       "  white-space: pre-wrap;\n",
       "}\n",
       "</style>\n",
       "<small>shape: (371, 5)</small><table border=\"1\" class=\"dataframe\"><thead><tr><th>user_id</th><th>gender</th><th>age</th><th>occupation</th><th>location</th></tr><tr><td>i64</td><td>str</td><td>str</td><td>str</td><td>str</td></tr></thead><tbody><tr><td>787</td><td>&quot;M&quot;</td><td>&quot;18-24&quot;</td><td>&quot;college-grad student&quot;</td><td>&quot;TX&quot;</td></tr><tr><td>2083</td><td>&quot;M&quot;</td><td>&quot;18-24&quot;</td><td>&quot;college-grad student&quot;</td><td>&quot;N/A&quot;</td></tr><tr><td>4949</td><td>&quot;M&quot;</td><td>&quot;18-24&quot;</td><td>&quot;college-grad student&quot;</td><td>&quot;MN&quot;</td></tr><tr><td>3069</td><td>&quot;M&quot;</td><td>&quot;18-24&quot;</td><td>&quot;college-grad student&quot;</td><td>&quot;OR&quot;</td></tr><tr><td>3844</td><td>&quot;M&quot;</td><td>&quot;18-24&quot;</td><td>&quot;college-grad student&quot;</td><td>&quot;OK&quot;</td></tr><tr><td>&hellip;</td><td>&hellip;</td><td>&hellip;</td><td>&hellip;</td><td>&hellip;</td></tr><tr><td>1081</td><td>&quot;M&quot;</td><td>&quot;18-24&quot;</td><td>&quot;college-grad student&quot;</td><td>&quot;N/A&quot;</td></tr><tr><td>3659</td><td>&quot;M&quot;</td><td>&quot;18-24&quot;</td><td>&quot;college-grad student&quot;</td><td>&quot;SC&quot;</td></tr><tr><td>3033</td><td>&quot;M&quot;</td><td>&quot;18-24&quot;</td><td>&quot;college-grad student&quot;</td><td>&quot;RI&quot;</td></tr><tr><td>5891</td><td>&quot;M&quot;</td><td>&quot;18-24&quot;</td><td>&quot;college-grad student&quot;</td><td>&quot;MN&quot;</td></tr><tr><td>1785</td><td>&quot;M&quot;</td><td>&quot;18-24&quot;</td><td>&quot;college-grad student&quot;</td><td>&quot;ME&quot;</td></tr></tbody></table></div>"
      ],
      "text/plain": [
       "shape: (371, 5)\n",
       "┌─────────┬────────┬───────┬──────────────────────┬──────────┐\n",
       "│ user_id ┆ gender ┆ age   ┆ occupation           ┆ location │\n",
       "│ ---     ┆ ---    ┆ ---   ┆ ---                  ┆ ---      │\n",
       "│ i64     ┆ str    ┆ str   ┆ str                  ┆ str      │\n",
       "╞═════════╪════════╪═══════╪══════════════════════╪══════════╡\n",
       "│ 787     ┆ M      ┆ 18-24 ┆ college-grad student ┆ TX       │\n",
       "│ 2083    ┆ M      ┆ 18-24 ┆ college-grad student ┆ N/A      │\n",
       "│ 4949    ┆ M      ┆ 18-24 ┆ college-grad student ┆ MN       │\n",
       "│ 3069    ┆ M      ┆ 18-24 ┆ college-grad student ┆ OR       │\n",
       "│ 3844    ┆ M      ┆ 18-24 ┆ college-grad student ┆ OK       │\n",
       "│ …       ┆ …      ┆ …     ┆ …                    ┆ …        │\n",
       "│ 1081    ┆ M      ┆ 18-24 ┆ college-grad student ┆ N/A      │\n",
       "│ 3659    ┆ M      ┆ 18-24 ┆ college-grad student ┆ SC       │\n",
       "│ 3033    ┆ M      ┆ 18-24 ┆ college-grad student ┆ RI       │\n",
       "│ 5891    ┆ M      ┆ 18-24 ┆ college-grad student ┆ MN       │\n",
       "│ 1785    ┆ M      ┆ 18-24 ┆ college-grad student ┆ ME       │\n",
       "└─────────┴────────┴───────┴──────────────────────┴──────────┘"
      ]
     },
     "execution_count": 56,
     "metadata": {},
     "output_type": "execute_result"
    }
   ],
   "source": [
    "tmp_df = unique_users.filter(pl.col(\"gender\") == \"M\")\n",
    "tmp_df = tmp_df.filter(pl.col(\"age\") == \"18-24\")\n",
    "tmp_df = tmp_df.filter(pl.col(\"occupation\") == \"college-grad student\")\n",
    "tmp_df"
   ]
  },
  {
   "cell_type": "code",
   "execution_count": 64,
   "metadata": {},
   "outputs": [
    {
     "data": {
      "text/plain": [
       "8305"
      ]
     },
     "execution_count": 64,
     "metadata": {},
     "output_type": "execute_result"
    }
   ],
   "source": [
    "book_df = pl.read_csv(BOOK_CROSSING_DATA)\n",
    "book_df.select(\"user_id\", \"age\").unique()\n",
    "get_user_count(book_df.select(\"user_id\", \"age\").unique(), {\"age\": \"35-44\"})"
   ]
  },
  {
   "cell_type": "code",
   "execution_count": 63,
   "metadata": {},
   "outputs": [
    {
     "data": {
      "text/html": [
       "<div><style>\n",
       ".dataframe > thead > tr,\n",
       ".dataframe > tbody > tr {\n",
       "  text-align: right;\n",
       "  white-space: pre-wrap;\n",
       "}\n",
       "</style>\n",
       "<small>shape: (64_803, 2)</small><table border=\"1\" class=\"dataframe\"><thead><tr><th>user_id</th><th>age</th></tr><tr><td>i64</td><td>str</td></tr></thead><tbody><tr><td>65550</td><td>&quot;25-34&quot;</td></tr><tr><td>35687</td><td>&quot;25-34&quot;</td></tr><tr><td>54052</td><td>&quot;25-34&quot;</td></tr><tr><td>21056</td><td>&quot;25-34&quot;</td></tr><tr><td>16924</td><td>&quot;35-44&quot;</td></tr><tr><td>&hellip;</td><td>&hellip;</td></tr><tr><td>34470</td><td>&quot;25-34&quot;</td></tr><tr><td>59375</td><td>&quot;25-34&quot;</td></tr><tr><td>3569</td><td>&quot;18-24&quot;</td></tr><tr><td>48192</td><td>&quot;25-34&quot;</td></tr><tr><td>27853</td><td>&quot;25-34&quot;</td></tr></tbody></table></div>"
      ],
      "text/plain": [
       "shape: (64_803, 2)\n",
       "┌─────────┬───────┐\n",
       "│ user_id ┆ age   │\n",
       "│ ---     ┆ ---   │\n",
       "│ i64     ┆ str   │\n",
       "╞═════════╪═══════╡\n",
       "│ 65550   ┆ 25-34 │\n",
       "│ 35687   ┆ 25-34 │\n",
       "│ 54052   ┆ 25-34 │\n",
       "│ 21056   ┆ 25-34 │\n",
       "│ 16924   ┆ 35-44 │\n",
       "│ …       ┆ …     │\n",
       "│ 34470   ┆ 25-34 │\n",
       "│ 59375   ┆ 25-34 │\n",
       "│ 3569    ┆ 18-24 │\n",
       "│ 48192   ┆ 25-34 │\n",
       "│ 27853   ┆ 25-34 │\n",
       "└─────────┴───────┘"
      ]
     },
     "execution_count": 63,
     "metadata": {},
     "output_type": "execute_result"
    }
   ],
   "source": [
    "book_df.select(\"user_id\", \"age\").unique()"
   ]
  },
  {
   "cell_type": "markdown",
   "metadata": {},
   "source": [
    "Since everything seems to be working, we'll now save the CSVs with unique users."
   ]
  },
  {
   "cell_type": "code",
   "execution_count": 70,
   "metadata": {},
   "outputs": [],
   "source": [
    "movie_df = pl.read_csv(MOVIE_LENS_DATA)\n",
    "yelp_df = pl.read_csv(YELP_DATA)\n",
    "book_df = pl.read_csv(BOOK_CROSSING_DATA)\n",
    "\n",
    "movie_users = movie_df.select(MOVIE_LENS_USER_ATTRIBUTES).unique()\n",
    "yelp_users = yelp_df.select(YELP_USER_ATTRIBUTES).unique()\n",
    "book_users = book_df.select(BOOK_CROSSING_USER_ATTRIBUTES).unique()\n",
    "\n",
    "USER_COUNT_PATH = \"../data/user_counts/\"\n",
    "\n",
    "movie_users.write_csv(USER_COUNT_PATH + \"movie_lens.csv\")\n",
    "yelp_users.write_csv(USER_COUNT_PATH + \"yelp.csv\")\n",
    "book_users.write_csv(USER_COUNT_PATH + \"book_crossing.csv\")"
   ]
  }
 ],
 "metadata": {
  "kernelspec": {
   "display_name": "Python 3",
   "language": "python",
   "name": "python3"
  },
  "language_info": {
   "codemirror_mode": {
    "name": "ipython",
    "version": 3
   },
   "file_extension": ".py",
   "mimetype": "text/x-python",
   "name": "python",
   "nbconvert_exporter": "python",
   "pygments_lexer": "ipython3",
   "version": "3.12.8"
  }
 },
 "nbformat": 4,
 "nbformat_minor": 2
}
