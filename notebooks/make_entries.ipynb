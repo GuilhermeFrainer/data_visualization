{
 "cells": [
  {
   "cell_type": "markdown",
   "metadata": {},
   "source": [
    "This file's objective is to create files containing only the unique entries of reviewed\n",
    "objects in the datasets studied with the exception of the Yelp dataset."
   ]
  },
  {
   "cell_type": "code",
   "execution_count": 1,
   "metadata": {},
   "outputs": [],
   "source": [
    "import polars as pl\n",
    "\n",
    "DATA_PATH = \"../data/original_datasets\"\n",
    "OUT_PATH = \"../data/entries\""
   ]
  },
  {
   "cell_type": "code",
   "execution_count": 7,
   "metadata": {},
   "outputs": [],
   "source": [
    "df = pl.read_csv(DATA_PATH + \"/MovieLens.csv\")\n",
    "df = df.unique(\"item_id\")\n",
    "df.write_csv(OUT_PATH + \"/movies.csv\")"
   ]
  },
  {
   "cell_type": "code",
   "execution_count": 8,
   "metadata": {},
   "outputs": [],
   "source": [
    "df = pl.read_csv(DATA_PATH + \"/BookCrossing.csv\")\n",
    "df = df.unique(\"book_id\")\n",
    "df.write_csv(OUT_PATH + \"/books.csv\")"
   ]
  }
 ],
 "metadata": {
  "kernelspec": {
   "display_name": "Python 3",
   "language": "python",
   "name": "python3"
  },
  "language_info": {
   "codemirror_mode": {
    "name": "ipython",
    "version": 3
   },
   "file_extension": ".py",
   "mimetype": "text/x-python",
   "name": "python",
   "nbconvert_exporter": "python",
   "pygments_lexer": "ipython3",
   "version": "3.12.8"
  }
 },
 "nbformat": 4,
 "nbformat_minor": 2
}
