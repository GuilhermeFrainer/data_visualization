{
 "cells": [
  {
   "cell_type": "markdown",
   "metadata": {},
   "source": [
    "This notebook's goal is to make the user count for a certain group be reflected in the area for the treemap"
   ]
  },
  {
   "cell_type": "code",
   "execution_count": 1,
   "metadata": {},
   "outputs": [],
   "source": [
    "from utils import mount_src\n",
    "mount_src()\n",
    "import polars as pl\n",
    "import hypothesis_row as hr\n",
    "import treemap as tm\n",
    "\n",
    "DATA = \"../data/movie_lens.csv\"\n",
    "USER_COUNT = \"../data/user_counts/movie_lens.csv\""
   ]
  },
  {
   "cell_type": "code",
   "execution_count": 2,
   "metadata": {},
   "outputs": [
    {
     "data": {
      "text/html": [
       "<div><style>\n",
       ".dataframe > thead > tr,\n",
       ".dataframe > tbody > tr {\n",
       "  text-align: right;\n",
       "  white-space: pre-wrap;\n",
       "}\n",
       "</style>\n",
       "<small>shape: (70, 8)</small><table border=\"1\" class=\"dataframe\"><thead><tr><th>algorithm</th><th>step</th><th>g_in</th><th>h</th><th>G_out</th><th>coverage</th><th>diversity</th><th>normalized_diversity</th></tr><tr><td>str</td><td>i64</td><td>str</td><td>str</td><td>str</td><td>f64</td><td>f64</td><td>f64</td></tr></thead><tbody><tr><td>&quot;Greedy-HEP&quot;</td><td>0</td><td>&quot;All users&quot;</td><td>&quot;Mean is greater than 3.5&quot;</td><td>&quot;runtime_minutes:Long, location…</td><td>1.0</td><td>2.99255</td><td>0.997517</td></tr><tr><td>&quot;Greedy-HEP&quot;</td><td>1</td><td>&quot;runtime_minutes:Long&quot;</td><td>&quot;Mean is greater than 3.5&quot;</td><td>&quot;location:HI|runtime_minutes:Lo…</td><td>0.999503</td><td>2.992712</td><td>0.997571</td></tr><tr><td>&quot;Greedy-HEP&quot;</td><td>2</td><td>&quot;genre:Drama|runtime_minutes:Lo…</td><td>&quot;Mean is greater than 3.5&quot;</td><td>&quot;genre:Drama|runtime_minutes:Lo…</td><td>0.989399</td><td>2.992968</td><td>0.997656</td></tr><tr><td>&quot;Greedy-HEP&quot;</td><td>3</td><td>&quot;genre:Drama|runtime_minutes:Lo…</td><td>&quot;Mean is greater than 3.5&quot;</td><td>&quot;gender:F|genre:Drama|runtime_m…</td><td>1.0</td><td>2.993106</td><td>0.997702</td></tr><tr><td>&quot;Greedy-HEP&quot;</td><td>4</td><td>&quot;gender:M|genre:Drama|runtime_m…</td><td>&quot;Mean is greater than 3.5&quot;</td><td>&quot;age:25-34|gender:M|genre:Drama…</td><td>0.740014</td><td>3.0</td><td>1.0</td></tr><tr><td>&hellip;</td><td>&hellip;</td><td>&hellip;</td><td>&hellip;</td><td>&hellip;</td><td>&hellip;</td><td>&hellip;</td><td>&hellip;</td></tr><tr><td>&quot;RL-HEP&quot;</td><td>30</td><td>&quot;age:50-55|location:MN&quot;</td><td>&quot;Mean is greater than 3.5&quot;</td><td>&quot;age:50-55|genre:Action|locatio…</td><td>1.0</td><td>1.158901</td><td>0.3863</td></tr><tr><td>&quot;RL-HEP&quot;</td><td>31</td><td>&quot;age:50-55|genre:Action|locatio…</td><td>&quot;Mean is greater than 3.5&quot;</td><td>&quot;age:50-55|gender:M|genre:Actio…</td><td>1.0</td><td>0.322581</td><td>0.322581</td></tr><tr><td>&quot;RL-HEP&quot;</td><td>32</td><td>&quot;genre:Drama&quot;</td><td>&quot;Mean is greater than 3.5&quot;</td><td>&quot;genre:Drama|location:NE, genre…</td><td>1.0</td><td>2.993043</td><td>0.997681</td></tr><tr><td>&quot;RL-HEP&quot;</td><td>33</td><td>&quot;genre:Drama|location:NE&quot;</td><td>&quot;Mean is greater than 3.5&quot;</td><td>&quot;genre:Drama|location:NE|runtim…</td><td>1.0</td><td>0.0</td><td>0.0</td></tr><tr><td>&quot;RL-HEP&quot;</td><td>34</td><td>&quot;genre:Drama|location:NE|runtim…</td><td>&quot;Mean is greater than 3.5&quot;</td><td>null</td><td>0.0</td><td>0.0</td><td>0.0</td></tr></tbody></table></div>"
      ],
      "text/plain": [
       "shape: (70, 8)\n",
       "┌────────────┬──────┬──────────────┬──────────┬──────────────┬──────────┬───────────┬──────────────┐\n",
       "│ algorithm  ┆ step ┆ g_in         ┆ h        ┆ G_out        ┆ coverage ┆ diversity ┆ normalized_d │\n",
       "│ ---        ┆ ---  ┆ ---          ┆ ---      ┆ ---          ┆ ---      ┆ ---       ┆ iversity     │\n",
       "│ str        ┆ i64  ┆ str          ┆ str      ┆ str          ┆ f64      ┆ f64       ┆ ---          │\n",
       "│            ┆      ┆              ┆          ┆              ┆          ┆           ┆ f64          │\n",
       "╞════════════╪══════╪══════════════╪══════════╪══════════════╪══════════╪═══════════╪══════════════╡\n",
       "│ Greedy-HEP ┆ 0    ┆ All users    ┆ Mean is  ┆ runtime_minu ┆ 1.0      ┆ 2.99255   ┆ 0.997517     │\n",
       "│            ┆      ┆              ┆ greater  ┆ tes:Long,    ┆          ┆           ┆              │\n",
       "│            ┆      ┆              ┆ than 3.5 ┆ location…    ┆          ┆           ┆              │\n",
       "│ Greedy-HEP ┆ 1    ┆ runtime_minu ┆ Mean is  ┆ location:HI| ┆ 0.999503 ┆ 2.992712  ┆ 0.997571     │\n",
       "│            ┆      ┆ tes:Long     ┆ greater  ┆ runtime_minu ┆          ┆           ┆              │\n",
       "│            ┆      ┆              ┆ than 3.5 ┆ tes:Lo…      ┆          ┆           ┆              │\n",
       "│ Greedy-HEP ┆ 2    ┆ genre:Drama| ┆ Mean is  ┆ genre:Drama| ┆ 0.989399 ┆ 2.992968  ┆ 0.997656     │\n",
       "│            ┆      ┆ runtime_minu ┆ greater  ┆ runtime_minu ┆          ┆           ┆              │\n",
       "│            ┆      ┆ tes:Lo…      ┆ than 3.5 ┆ tes:Lo…      ┆          ┆           ┆              │\n",
       "│ Greedy-HEP ┆ 3    ┆ genre:Drama| ┆ Mean is  ┆ gender:F|gen ┆ 1.0      ┆ 2.993106  ┆ 0.997702     │\n",
       "│            ┆      ┆ runtime_minu ┆ greater  ┆ re:Drama|run ┆          ┆           ┆              │\n",
       "│            ┆      ┆ tes:Lo…      ┆ than 3.5 ┆ time_m…      ┆          ┆           ┆              │\n",
       "│ Greedy-HEP ┆ 4    ┆ gender:M|gen ┆ Mean is  ┆ age:25-34|ge ┆ 0.740014 ┆ 3.0       ┆ 1.0          │\n",
       "│            ┆      ┆ re:Drama|run ┆ greater  ┆ nder:M|genre ┆          ┆           ┆              │\n",
       "│            ┆      ┆ time_m…      ┆ than 3.5 ┆ :Drama…      ┆          ┆           ┆              │\n",
       "│ …          ┆ …    ┆ …            ┆ …        ┆ …            ┆ …        ┆ …         ┆ …            │\n",
       "│ RL-HEP     ┆ 30   ┆ age:50-55|lo ┆ Mean is  ┆ age:50-55|ge ┆ 1.0      ┆ 1.158901  ┆ 0.3863       │\n",
       "│            ┆      ┆ cation:MN    ┆ greater  ┆ nre:Action|l ┆          ┆           ┆              │\n",
       "│            ┆      ┆              ┆ than 3.5 ┆ ocatio…      ┆          ┆           ┆              │\n",
       "│ RL-HEP     ┆ 31   ┆ age:50-55|ge ┆ Mean is  ┆ age:50-55|ge ┆ 1.0      ┆ 0.322581  ┆ 0.322581     │\n",
       "│            ┆      ┆ nre:Action|l ┆ greater  ┆ nder:M|genre ┆          ┆           ┆              │\n",
       "│            ┆      ┆ ocatio…      ┆ than 3.5 ┆ :Actio…      ┆          ┆           ┆              │\n",
       "│ RL-HEP     ┆ 32   ┆ genre:Drama  ┆ Mean is  ┆ genre:Drama| ┆ 1.0      ┆ 2.993043  ┆ 0.997681     │\n",
       "│            ┆      ┆              ┆ greater  ┆ location:NE, ┆          ┆           ┆              │\n",
       "│            ┆      ┆              ┆ than 3.5 ┆ genre…       ┆          ┆           ┆              │\n",
       "│ RL-HEP     ┆ 33   ┆ genre:Drama| ┆ Mean is  ┆ genre:Drama| ┆ 1.0      ┆ 0.0       ┆ 0.0          │\n",
       "│            ┆      ┆ location:NE  ┆ greater  ┆ location:NE| ┆          ┆           ┆              │\n",
       "│            ┆      ┆              ┆ than 3.5 ┆ runtim…      ┆          ┆           ┆              │\n",
       "│ RL-HEP     ┆ 34   ┆ genre:Drama| ┆ Mean is  ┆ null         ┆ 0.0      ┆ 0.0       ┆ 0.0          │\n",
       "│            ┆      ┆ location:NE| ┆ greater  ┆              ┆          ┆           ┆              │\n",
       "│            ┆      ┆ runtim…      ┆ than 3.5 ┆              ┆          ┆           ┆              │\n",
       "└────────────┴──────┴──────────────┴──────────┴──────────────┴──────────┴───────────┴──────────────┘"
      ]
     },
     "execution_count": 2,
     "metadata": {},
     "output_type": "execute_result"
    }
   ],
   "source": [
    "df = pl.read_csv(DATA)\n",
    "users = pl.read_csv(USER_COUNT)\n",
    "\n",
    "df"
   ]
  },
  {
   "cell_type": "code",
   "execution_count": 3,
   "metadata": {},
   "outputs": [
    {
     "data": {
      "text/html": [
       "<div><style>\n",
       ".dataframe > thead > tr,\n",
       ".dataframe > tbody > tr {\n",
       "  text-align: right;\n",
       "  white-space: pre-wrap;\n",
       "}\n",
       "</style>\n",
       "<small>shape: (4, 5)</small><table border=\"1\" class=\"dataframe\"><thead><tr><th>parent</th><th>child</th><th>label</th><th>hypothesis</th><th>count</th></tr><tr><td>str</td><td>str</td><td>str</td><td>str</td><td>i64</td></tr></thead><tbody><tr><td>&quot;&quot;</td><td>&quot;all_users:all&quot;</td><td>&quot;all&quot;</td><td>&quot;Mean is greater than 3.5&quot;</td><td>6040</td></tr><tr><td>&quot;all_users:all&quot;</td><td>&quot;runtime_minutes:Long&quot;</td><td>&quot;Long&quot;</td><td>&quot;Mean is greater than 3.5&quot;</td><td>6040</td></tr><tr><td>&quot;all_users:all&quot;</td><td>&quot;location:AL&quot;</td><td>&quot;AL&quot;</td><td>&quot;Mean is greater than 3.5&quot;</td><td>23</td></tr><tr><td>&quot;all_users:all&quot;</td><td>&quot;location:RI&quot;</td><td>&quot;RI&quot;</td><td>&quot;Mean is greater than 3.5&quot;</td><td>22</td></tr></tbody></table></div>"
      ],
      "text/plain": [
       "shape: (4, 5)\n",
       "┌───────────────┬──────────────────────┬───────┬──────────────────────────┬───────┐\n",
       "│ parent        ┆ child                ┆ label ┆ hypothesis               ┆ count │\n",
       "│ ---           ┆ ---                  ┆ ---   ┆ ---                      ┆ ---   │\n",
       "│ str           ┆ str                  ┆ str   ┆ str                      ┆ i64   │\n",
       "╞═══════════════╪══════════════════════╪═══════╪══════════════════════════╪═══════╡\n",
       "│               ┆ all_users:all        ┆ all   ┆ Mean is greater than 3.5 ┆ 6040  │\n",
       "│ all_users:all ┆ runtime_minutes:Long ┆ Long  ┆ Mean is greater than 3.5 ┆ 6040  │\n",
       "│ all_users:all ┆ location:AL          ┆ AL    ┆ Mean is greater than 3.5 ┆ 23    │\n",
       "│ all_users:all ┆ location:RI          ┆ RI    ┆ Mean is greater than 3.5 ┆ 22    │\n",
       "└───────────────┴──────────────────────┴───────┴──────────────────────────┴───────┘"
      ]
     },
     "execution_count": 3,
     "metadata": {},
     "output_type": "execute_result"
    }
   ],
   "source": [
    "hs = hr.HypothesisRow.df_to_list(df, users)\n",
    "hs[0].get_parent_child_df()"
   ]
  },
  {
   "cell_type": "code",
   "execution_count": 4,
   "metadata": {},
   "outputs": [
    {
     "data": {
      "application/vnd.plotly.v1+json": {
       "config": {
        "plotlyServerURL": "https://plot.ly"
       },
       "data": [
        {
         "ids": [
          "all_users:all",
          "runtime_minutes:Long",
          "location:AL",
          "location:RI"
         ],
         "labels": [
          "all",
          "Long",
          "AL",
          "RI"
         ],
         "parents": [
          "",
          "all_users:all",
          "all_users:all",
          "all_users:all"
         ],
         "type": "treemap",
         "values": [
          6040,
          6040,
          23,
          22
         ]
        }
       ],
       "layout": {
        "template": {
         "data": {
          "bar": [
           {
            "error_x": {
             "color": "#2a3f5f"
            },
            "error_y": {
             "color": "#2a3f5f"
            },
            "marker": {
             "line": {
              "color": "#E5ECF6",
              "width": 0.5
             },
             "pattern": {
              "fillmode": "overlay",
              "size": 10,
              "solidity": 0.2
             }
            },
            "type": "bar"
           }
          ],
          "barpolar": [
           {
            "marker": {
             "line": {
              "color": "#E5ECF6",
              "width": 0.5
             },
             "pattern": {
              "fillmode": "overlay",
              "size": 10,
              "solidity": 0.2
             }
            },
            "type": "barpolar"
           }
          ],
          "carpet": [
           {
            "aaxis": {
             "endlinecolor": "#2a3f5f",
             "gridcolor": "white",
             "linecolor": "white",
             "minorgridcolor": "white",
             "startlinecolor": "#2a3f5f"
            },
            "baxis": {
             "endlinecolor": "#2a3f5f",
             "gridcolor": "white",
             "linecolor": "white",
             "minorgridcolor": "white",
             "startlinecolor": "#2a3f5f"
            },
            "type": "carpet"
           }
          ],
          "choropleth": [
           {
            "colorbar": {
             "outlinewidth": 0,
             "ticks": ""
            },
            "type": "choropleth"
           }
          ],
          "contour": [
           {
            "colorbar": {
             "outlinewidth": 0,
             "ticks": ""
            },
            "colorscale": [
             [
              0,
              "#0d0887"
             ],
             [
              0.1111111111111111,
              "#46039f"
             ],
             [
              0.2222222222222222,
              "#7201a8"
             ],
             [
              0.3333333333333333,
              "#9c179e"
             ],
             [
              0.4444444444444444,
              "#bd3786"
             ],
             [
              0.5555555555555556,
              "#d8576b"
             ],
             [
              0.6666666666666666,
              "#ed7953"
             ],
             [
              0.7777777777777778,
              "#fb9f3a"
             ],
             [
              0.8888888888888888,
              "#fdca26"
             ],
             [
              1,
              "#f0f921"
             ]
            ],
            "type": "contour"
           }
          ],
          "contourcarpet": [
           {
            "colorbar": {
             "outlinewidth": 0,
             "ticks": ""
            },
            "type": "contourcarpet"
           }
          ],
          "heatmap": [
           {
            "colorbar": {
             "outlinewidth": 0,
             "ticks": ""
            },
            "colorscale": [
             [
              0,
              "#0d0887"
             ],
             [
              0.1111111111111111,
              "#46039f"
             ],
             [
              0.2222222222222222,
              "#7201a8"
             ],
             [
              0.3333333333333333,
              "#9c179e"
             ],
             [
              0.4444444444444444,
              "#bd3786"
             ],
             [
              0.5555555555555556,
              "#d8576b"
             ],
             [
              0.6666666666666666,
              "#ed7953"
             ],
             [
              0.7777777777777778,
              "#fb9f3a"
             ],
             [
              0.8888888888888888,
              "#fdca26"
             ],
             [
              1,
              "#f0f921"
             ]
            ],
            "type": "heatmap"
           }
          ],
          "heatmapgl": [
           {
            "colorbar": {
             "outlinewidth": 0,
             "ticks": ""
            },
            "colorscale": [
             [
              0,
              "#0d0887"
             ],
             [
              0.1111111111111111,
              "#46039f"
             ],
             [
              0.2222222222222222,
              "#7201a8"
             ],
             [
              0.3333333333333333,
              "#9c179e"
             ],
             [
              0.4444444444444444,
              "#bd3786"
             ],
             [
              0.5555555555555556,
              "#d8576b"
             ],
             [
              0.6666666666666666,
              "#ed7953"
             ],
             [
              0.7777777777777778,
              "#fb9f3a"
             ],
             [
              0.8888888888888888,
              "#fdca26"
             ],
             [
              1,
              "#f0f921"
             ]
            ],
            "type": "heatmapgl"
           }
          ],
          "histogram": [
           {
            "marker": {
             "pattern": {
              "fillmode": "overlay",
              "size": 10,
              "solidity": 0.2
             }
            },
            "type": "histogram"
           }
          ],
          "histogram2d": [
           {
            "colorbar": {
             "outlinewidth": 0,
             "ticks": ""
            },
            "colorscale": [
             [
              0,
              "#0d0887"
             ],
             [
              0.1111111111111111,
              "#46039f"
             ],
             [
              0.2222222222222222,
              "#7201a8"
             ],
             [
              0.3333333333333333,
              "#9c179e"
             ],
             [
              0.4444444444444444,
              "#bd3786"
             ],
             [
              0.5555555555555556,
              "#d8576b"
             ],
             [
              0.6666666666666666,
              "#ed7953"
             ],
             [
              0.7777777777777778,
              "#fb9f3a"
             ],
             [
              0.8888888888888888,
              "#fdca26"
             ],
             [
              1,
              "#f0f921"
             ]
            ],
            "type": "histogram2d"
           }
          ],
          "histogram2dcontour": [
           {
            "colorbar": {
             "outlinewidth": 0,
             "ticks": ""
            },
            "colorscale": [
             [
              0,
              "#0d0887"
             ],
             [
              0.1111111111111111,
              "#46039f"
             ],
             [
              0.2222222222222222,
              "#7201a8"
             ],
             [
              0.3333333333333333,
              "#9c179e"
             ],
             [
              0.4444444444444444,
              "#bd3786"
             ],
             [
              0.5555555555555556,
              "#d8576b"
             ],
             [
              0.6666666666666666,
              "#ed7953"
             ],
             [
              0.7777777777777778,
              "#fb9f3a"
             ],
             [
              0.8888888888888888,
              "#fdca26"
             ],
             [
              1,
              "#f0f921"
             ]
            ],
            "type": "histogram2dcontour"
           }
          ],
          "mesh3d": [
           {
            "colorbar": {
             "outlinewidth": 0,
             "ticks": ""
            },
            "type": "mesh3d"
           }
          ],
          "parcoords": [
           {
            "line": {
             "colorbar": {
              "outlinewidth": 0,
              "ticks": ""
             }
            },
            "type": "parcoords"
           }
          ],
          "pie": [
           {
            "automargin": true,
            "type": "pie"
           }
          ],
          "scatter": [
           {
            "fillpattern": {
             "fillmode": "overlay",
             "size": 10,
             "solidity": 0.2
            },
            "type": "scatter"
           }
          ],
          "scatter3d": [
           {
            "line": {
             "colorbar": {
              "outlinewidth": 0,
              "ticks": ""
             }
            },
            "marker": {
             "colorbar": {
              "outlinewidth": 0,
              "ticks": ""
             }
            },
            "type": "scatter3d"
           }
          ],
          "scattercarpet": [
           {
            "marker": {
             "colorbar": {
              "outlinewidth": 0,
              "ticks": ""
             }
            },
            "type": "scattercarpet"
           }
          ],
          "scattergeo": [
           {
            "marker": {
             "colorbar": {
              "outlinewidth": 0,
              "ticks": ""
             }
            },
            "type": "scattergeo"
           }
          ],
          "scattergl": [
           {
            "marker": {
             "colorbar": {
              "outlinewidth": 0,
              "ticks": ""
             }
            },
            "type": "scattergl"
           }
          ],
          "scattermapbox": [
           {
            "marker": {
             "colorbar": {
              "outlinewidth": 0,
              "ticks": ""
             }
            },
            "type": "scattermapbox"
           }
          ],
          "scatterpolar": [
           {
            "marker": {
             "colorbar": {
              "outlinewidth": 0,
              "ticks": ""
             }
            },
            "type": "scatterpolar"
           }
          ],
          "scatterpolargl": [
           {
            "marker": {
             "colorbar": {
              "outlinewidth": 0,
              "ticks": ""
             }
            },
            "type": "scatterpolargl"
           }
          ],
          "scatterternary": [
           {
            "marker": {
             "colorbar": {
              "outlinewidth": 0,
              "ticks": ""
             }
            },
            "type": "scatterternary"
           }
          ],
          "surface": [
           {
            "colorbar": {
             "outlinewidth": 0,
             "ticks": ""
            },
            "colorscale": [
             [
              0,
              "#0d0887"
             ],
             [
              0.1111111111111111,
              "#46039f"
             ],
             [
              0.2222222222222222,
              "#7201a8"
             ],
             [
              0.3333333333333333,
              "#9c179e"
             ],
             [
              0.4444444444444444,
              "#bd3786"
             ],
             [
              0.5555555555555556,
              "#d8576b"
             ],
             [
              0.6666666666666666,
              "#ed7953"
             ],
             [
              0.7777777777777778,
              "#fb9f3a"
             ],
             [
              0.8888888888888888,
              "#fdca26"
             ],
             [
              1,
              "#f0f921"
             ]
            ],
            "type": "surface"
           }
          ],
          "table": [
           {
            "cells": {
             "fill": {
              "color": "#EBF0F8"
             },
             "line": {
              "color": "white"
             }
            },
            "header": {
             "fill": {
              "color": "#C8D4E3"
             },
             "line": {
              "color": "white"
             }
            },
            "type": "table"
           }
          ]
         },
         "layout": {
          "annotationdefaults": {
           "arrowcolor": "#2a3f5f",
           "arrowhead": 0,
           "arrowwidth": 1
          },
          "autotypenumbers": "strict",
          "coloraxis": {
           "colorbar": {
            "outlinewidth": 0,
            "ticks": ""
           }
          },
          "colorscale": {
           "diverging": [
            [
             0,
             "#8e0152"
            ],
            [
             0.1,
             "#c51b7d"
            ],
            [
             0.2,
             "#de77ae"
            ],
            [
             0.3,
             "#f1b6da"
            ],
            [
             0.4,
             "#fde0ef"
            ],
            [
             0.5,
             "#f7f7f7"
            ],
            [
             0.6,
             "#e6f5d0"
            ],
            [
             0.7,
             "#b8e186"
            ],
            [
             0.8,
             "#7fbc41"
            ],
            [
             0.9,
             "#4d9221"
            ],
            [
             1,
             "#276419"
            ]
           ],
           "sequential": [
            [
             0,
             "#0d0887"
            ],
            [
             0.1111111111111111,
             "#46039f"
            ],
            [
             0.2222222222222222,
             "#7201a8"
            ],
            [
             0.3333333333333333,
             "#9c179e"
            ],
            [
             0.4444444444444444,
             "#bd3786"
            ],
            [
             0.5555555555555556,
             "#d8576b"
            ],
            [
             0.6666666666666666,
             "#ed7953"
            ],
            [
             0.7777777777777778,
             "#fb9f3a"
            ],
            [
             0.8888888888888888,
             "#fdca26"
            ],
            [
             1,
             "#f0f921"
            ]
           ],
           "sequentialminus": [
            [
             0,
             "#0d0887"
            ],
            [
             0.1111111111111111,
             "#46039f"
            ],
            [
             0.2222222222222222,
             "#7201a8"
            ],
            [
             0.3333333333333333,
             "#9c179e"
            ],
            [
             0.4444444444444444,
             "#bd3786"
            ],
            [
             0.5555555555555556,
             "#d8576b"
            ],
            [
             0.6666666666666666,
             "#ed7953"
            ],
            [
             0.7777777777777778,
             "#fb9f3a"
            ],
            [
             0.8888888888888888,
             "#fdca26"
            ],
            [
             1,
             "#f0f921"
            ]
           ]
          },
          "colorway": [
           "#636efa",
           "#EF553B",
           "#00cc96",
           "#ab63fa",
           "#FFA15A",
           "#19d3f3",
           "#FF6692",
           "#B6E880",
           "#FF97FF",
           "#FECB52"
          ],
          "font": {
           "color": "#2a3f5f"
          },
          "geo": {
           "bgcolor": "white",
           "lakecolor": "white",
           "landcolor": "#E5ECF6",
           "showlakes": true,
           "showland": true,
           "subunitcolor": "white"
          },
          "hoverlabel": {
           "align": "left"
          },
          "hovermode": "closest",
          "mapbox": {
           "style": "light"
          },
          "paper_bgcolor": "white",
          "plot_bgcolor": "#E5ECF6",
          "polar": {
           "angularaxis": {
            "gridcolor": "white",
            "linecolor": "white",
            "ticks": ""
           },
           "bgcolor": "#E5ECF6",
           "radialaxis": {
            "gridcolor": "white",
            "linecolor": "white",
            "ticks": ""
           }
          },
          "scene": {
           "xaxis": {
            "backgroundcolor": "#E5ECF6",
            "gridcolor": "white",
            "gridwidth": 2,
            "linecolor": "white",
            "showbackground": true,
            "ticks": "",
            "zerolinecolor": "white"
           },
           "yaxis": {
            "backgroundcolor": "#E5ECF6",
            "gridcolor": "white",
            "gridwidth": 2,
            "linecolor": "white",
            "showbackground": true,
            "ticks": "",
            "zerolinecolor": "white"
           },
           "zaxis": {
            "backgroundcolor": "#E5ECF6",
            "gridcolor": "white",
            "gridwidth": 2,
            "linecolor": "white",
            "showbackground": true,
            "ticks": "",
            "zerolinecolor": "white"
           }
          },
          "shapedefaults": {
           "line": {
            "color": "#2a3f5f"
           }
          },
          "ternary": {
           "aaxis": {
            "gridcolor": "white",
            "linecolor": "white",
            "ticks": ""
           },
           "baxis": {
            "gridcolor": "white",
            "linecolor": "white",
            "ticks": ""
           },
           "bgcolor": "#E5ECF6",
           "caxis": {
            "gridcolor": "white",
            "linecolor": "white",
            "ticks": ""
           }
          },
          "title": {
           "x": 0.05
          },
          "xaxis": {
           "automargin": true,
           "gridcolor": "white",
           "linecolor": "white",
           "ticks": "",
           "title": {
            "standoff": 15
           },
           "zerolinecolor": "white",
           "zerolinewidth": 2
          },
          "yaxis": {
           "automargin": true,
           "gridcolor": "white",
           "linecolor": "white",
           "ticks": "",
           "title": {
            "standoff": 15
           },
           "zerolinecolor": "white",
           "zerolinewidth": 2
          }
         }
        }
       }
      }
     },
     "metadata": {},
     "output_type": "display_data"
    }
   ],
   "source": [
    "tm.make_treemap_from_range(hs, 0, 1)"
   ]
  }
 ],
 "metadata": {
  "kernelspec": {
   "display_name": "Python 3",
   "language": "python",
   "name": "python3"
  },
  "language_info": {
   "codemirror_mode": {
    "name": "ipython",
    "version": 3
   },
   "file_extension": ".py",
   "mimetype": "text/x-python",
   "name": "python",
   "nbconvert_exporter": "python",
   "pygments_lexer": "ipython3",
   "version": "3.12.8"
  }
 },
 "nbformat": 4,
 "nbformat_minor": 2
}
