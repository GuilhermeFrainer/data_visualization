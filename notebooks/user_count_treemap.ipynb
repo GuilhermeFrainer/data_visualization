{
 "cells": [
  {
   "cell_type": "markdown",
   "metadata": {},
   "source": [
    "This notebook's goal is to make the user count for a certain group be reflected in the area for the treemap"
   ]
  },
  {
   "cell_type": "code",
   "execution_count": 13,
   "metadata": {},
   "outputs": [],
   "source": [
    "from utils import mount_src\n",
    "mount_src()\n",
    "import polars as pl\n",
    "import hypothesis_row as hr\n",
    "import treemap as tm\n",
    "\n",
    "DATA = \"../data/movie_lens.csv\"\n",
    "USER_COUNT = \"../data/user_counts/movie_lens.csv\""
   ]
  },
  {
   "cell_type": "code",
   "execution_count": 14,
   "metadata": {},
   "outputs": [
    {
     "data": {
      "text/html": [
       "<div><style>\n",
       ".dataframe > thead > tr,\n",
       ".dataframe > tbody > tr {\n",
       "  text-align: right;\n",
       "  white-space: pre-wrap;\n",
       "}\n",
       "</style>\n",
       "<small>shape: (70, 8)</small><table border=\"1\" class=\"dataframe\"><thead><tr><th>algorithm</th><th>step</th><th>g_in</th><th>h</th><th>G_out</th><th>coverage</th><th>diversity</th><th>normalized_diversity</th></tr><tr><td>str</td><td>i64</td><td>str</td><td>str</td><td>str</td><td>f64</td><td>f64</td><td>f64</td></tr></thead><tbody><tr><td>&quot;Greedy-HEP&quot;</td><td>0</td><td>&quot;All users&quot;</td><td>&quot;Mean is greater than 3.5&quot;</td><td>&quot;runtime_minutes:Long, location…</td><td>1.0</td><td>2.99255</td><td>0.997517</td></tr><tr><td>&quot;Greedy-HEP&quot;</td><td>1</td><td>&quot;runtime_minutes:Long&quot;</td><td>&quot;Mean is greater than 3.5&quot;</td><td>&quot;location:HI|runtime_minutes:Lo…</td><td>0.999503</td><td>2.992712</td><td>0.997571</td></tr><tr><td>&quot;Greedy-HEP&quot;</td><td>2</td><td>&quot;genre:Drama|runtime_minutes:Lo…</td><td>&quot;Mean is greater than 3.5&quot;</td><td>&quot;genre:Drama|runtime_minutes:Lo…</td><td>0.989399</td><td>2.992968</td><td>0.997656</td></tr><tr><td>&quot;Greedy-HEP&quot;</td><td>3</td><td>&quot;genre:Drama|runtime_minutes:Lo…</td><td>&quot;Mean is greater than 3.5&quot;</td><td>&quot;gender:F|genre:Drama|runtime_m…</td><td>1.0</td><td>2.993106</td><td>0.997702</td></tr><tr><td>&quot;Greedy-HEP&quot;</td><td>4</td><td>&quot;gender:M|genre:Drama|runtime_m…</td><td>&quot;Mean is greater than 3.5&quot;</td><td>&quot;age:25-34|gender:M|genre:Drama…</td><td>0.740014</td><td>3.0</td><td>1.0</td></tr><tr><td>&hellip;</td><td>&hellip;</td><td>&hellip;</td><td>&hellip;</td><td>&hellip;</td><td>&hellip;</td><td>&hellip;</td><td>&hellip;</td></tr><tr><td>&quot;RL-HEP&quot;</td><td>30</td><td>&quot;age:50-55|location:MN&quot;</td><td>&quot;Mean is greater than 3.5&quot;</td><td>&quot;age:50-55|genre:Action|locatio…</td><td>1.0</td><td>1.158901</td><td>0.3863</td></tr><tr><td>&quot;RL-HEP&quot;</td><td>31</td><td>&quot;age:50-55|genre:Action|locatio…</td><td>&quot;Mean is greater than 3.5&quot;</td><td>&quot;age:50-55|gender:M|genre:Actio…</td><td>1.0</td><td>0.322581</td><td>0.322581</td></tr><tr><td>&quot;RL-HEP&quot;</td><td>32</td><td>&quot;genre:Drama&quot;</td><td>&quot;Mean is greater than 3.5&quot;</td><td>&quot;genre:Drama|location:NE, genre…</td><td>1.0</td><td>2.993043</td><td>0.997681</td></tr><tr><td>&quot;RL-HEP&quot;</td><td>33</td><td>&quot;genre:Drama|location:NE&quot;</td><td>&quot;Mean is greater than 3.5&quot;</td><td>&quot;genre:Drama|location:NE|runtim…</td><td>1.0</td><td>0.0</td><td>0.0</td></tr><tr><td>&quot;RL-HEP&quot;</td><td>34</td><td>&quot;genre:Drama|location:NE|runtim…</td><td>&quot;Mean is greater than 3.5&quot;</td><td>null</td><td>0.0</td><td>0.0</td><td>0.0</td></tr></tbody></table></div>"
      ],
      "text/plain": [
       "shape: (70, 8)\n",
       "┌────────────┬──────┬──────────────┬──────────┬──────────────┬──────────┬───────────┬──────────────┐\n",
       "│ algorithm  ┆ step ┆ g_in         ┆ h        ┆ G_out        ┆ coverage ┆ diversity ┆ normalized_d │\n",
       "│ ---        ┆ ---  ┆ ---          ┆ ---      ┆ ---          ┆ ---      ┆ ---       ┆ iversity     │\n",
       "│ str        ┆ i64  ┆ str          ┆ str      ┆ str          ┆ f64      ┆ f64       ┆ ---          │\n",
       "│            ┆      ┆              ┆          ┆              ┆          ┆           ┆ f64          │\n",
       "╞════════════╪══════╪══════════════╪══════════╪══════════════╪══════════╪═══════════╪══════════════╡\n",
       "│ Greedy-HEP ┆ 0    ┆ All users    ┆ Mean is  ┆ runtime_minu ┆ 1.0      ┆ 2.99255   ┆ 0.997517     │\n",
       "│            ┆      ┆              ┆ greater  ┆ tes:Long,    ┆          ┆           ┆              │\n",
       "│            ┆      ┆              ┆ than 3.5 ┆ location…    ┆          ┆           ┆              │\n",
       "│ Greedy-HEP ┆ 1    ┆ runtime_minu ┆ Mean is  ┆ location:HI| ┆ 0.999503 ┆ 2.992712  ┆ 0.997571     │\n",
       "│            ┆      ┆ tes:Long     ┆ greater  ┆ runtime_minu ┆          ┆           ┆              │\n",
       "│            ┆      ┆              ┆ than 3.5 ┆ tes:Lo…      ┆          ┆           ┆              │\n",
       "│ Greedy-HEP ┆ 2    ┆ genre:Drama| ┆ Mean is  ┆ genre:Drama| ┆ 0.989399 ┆ 2.992968  ┆ 0.997656     │\n",
       "│            ┆      ┆ runtime_minu ┆ greater  ┆ runtime_minu ┆          ┆           ┆              │\n",
       "│            ┆      ┆ tes:Lo…      ┆ than 3.5 ┆ tes:Lo…      ┆          ┆           ┆              │\n",
       "│ Greedy-HEP ┆ 3    ┆ genre:Drama| ┆ Mean is  ┆ gender:F|gen ┆ 1.0      ┆ 2.993106  ┆ 0.997702     │\n",
       "│            ┆      ┆ runtime_minu ┆ greater  ┆ re:Drama|run ┆          ┆           ┆              │\n",
       "│            ┆      ┆ tes:Lo…      ┆ than 3.5 ┆ time_m…      ┆          ┆           ┆              │\n",
       "│ Greedy-HEP ┆ 4    ┆ gender:M|gen ┆ Mean is  ┆ age:25-34|ge ┆ 0.740014 ┆ 3.0       ┆ 1.0          │\n",
       "│            ┆      ┆ re:Drama|run ┆ greater  ┆ nder:M|genre ┆          ┆           ┆              │\n",
       "│            ┆      ┆ time_m…      ┆ than 3.5 ┆ :Drama…      ┆          ┆           ┆              │\n",
       "│ …          ┆ …    ┆ …            ┆ …        ┆ …            ┆ …        ┆ …         ┆ …            │\n",
       "│ RL-HEP     ┆ 30   ┆ age:50-55|lo ┆ Mean is  ┆ age:50-55|ge ┆ 1.0      ┆ 1.158901  ┆ 0.3863       │\n",
       "│            ┆      ┆ cation:MN    ┆ greater  ┆ nre:Action|l ┆          ┆           ┆              │\n",
       "│            ┆      ┆              ┆ than 3.5 ┆ ocatio…      ┆          ┆           ┆              │\n",
       "│ RL-HEP     ┆ 31   ┆ age:50-55|ge ┆ Mean is  ┆ age:50-55|ge ┆ 1.0      ┆ 0.322581  ┆ 0.322581     │\n",
       "│            ┆      ┆ nre:Action|l ┆ greater  ┆ nder:M|genre ┆          ┆           ┆              │\n",
       "│            ┆      ┆ ocatio…      ┆ than 3.5 ┆ :Actio…      ┆          ┆           ┆              │\n",
       "│ RL-HEP     ┆ 32   ┆ genre:Drama  ┆ Mean is  ┆ genre:Drama| ┆ 1.0      ┆ 2.993043  ┆ 0.997681     │\n",
       "│            ┆      ┆              ┆ greater  ┆ location:NE, ┆          ┆           ┆              │\n",
       "│            ┆      ┆              ┆ than 3.5 ┆ genre…       ┆          ┆           ┆              │\n",
       "│ RL-HEP     ┆ 33   ┆ genre:Drama| ┆ Mean is  ┆ genre:Drama| ┆ 1.0      ┆ 0.0       ┆ 0.0          │\n",
       "│            ┆      ┆ location:NE  ┆ greater  ┆ location:NE| ┆          ┆           ┆              │\n",
       "│            ┆      ┆              ┆ than 3.5 ┆ runtim…      ┆          ┆           ┆              │\n",
       "│ RL-HEP     ┆ 34   ┆ genre:Drama| ┆ Mean is  ┆ null         ┆ 0.0      ┆ 0.0       ┆ 0.0          │\n",
       "│            ┆      ┆ location:NE| ┆ greater  ┆              ┆          ┆           ┆              │\n",
       "│            ┆      ┆ runtim…      ┆ than 3.5 ┆              ┆          ┆           ┆              │\n",
       "└────────────┴──────┴──────────────┴──────────┴──────────────┴──────────┴───────────┴──────────────┘"
      ]
     },
     "execution_count": 14,
     "metadata": {},
     "output_type": "execute_result"
    }
   ],
   "source": [
    "df = pl.read_csv(DATA)\n",
    "users = pl.read_csv(USER_COUNT)\n",
    "\n",
    "df"
   ]
  },
  {
   "cell_type": "code",
   "execution_count": 15,
   "metadata": {},
   "outputs": [
    {
     "data": {
      "text/html": [
       "<div><style>\n",
       ".dataframe > thead > tr,\n",
       ".dataframe > tbody > tr {\n",
       "  text-align: right;\n",
       "  white-space: pre-wrap;\n",
       "}\n",
       "</style>\n",
       "<small>shape: (4, 5)</small><table border=\"1\" class=\"dataframe\"><thead><tr><th>parent</th><th>child</th><th>label</th><th>hypothesis</th><th>count</th></tr><tr><td>str</td><td>str</td><td>str</td><td>str</td><td>i64</td></tr></thead><tbody><tr><td>&quot;&quot;</td><td>&quot;all_users:all&quot;</td><td>&quot;all&quot;</td><td>&quot;Mean is greater than 3.5&quot;</td><td>6040</td></tr><tr><td>&quot;all_users:all&quot;</td><td>&quot;runtime_minutes:Long&quot;</td><td>&quot;Long&quot;</td><td>&quot;Mean is greater than 3.5&quot;</td><td>6040</td></tr><tr><td>&quot;all_users:all&quot;</td><td>&quot;location:AL&quot;</td><td>&quot;AL&quot;</td><td>&quot;Mean is greater than 3.5&quot;</td><td>23</td></tr><tr><td>&quot;all_users:all&quot;</td><td>&quot;location:RI&quot;</td><td>&quot;RI&quot;</td><td>&quot;Mean is greater than 3.5&quot;</td><td>22</td></tr></tbody></table></div>"
      ],
      "text/plain": [
       "shape: (4, 5)\n",
       "┌───────────────┬──────────────────────┬───────┬──────────────────────────┬───────┐\n",
       "│ parent        ┆ child                ┆ label ┆ hypothesis               ┆ count │\n",
       "│ ---           ┆ ---                  ┆ ---   ┆ ---                      ┆ ---   │\n",
       "│ str           ┆ str                  ┆ str   ┆ str                      ┆ i64   │\n",
       "╞═══════════════╪══════════════════════╪═══════╪══════════════════════════╪═══════╡\n",
       "│               ┆ all_users:all        ┆ all   ┆ Mean is greater than 3.5 ┆ 6040  │\n",
       "│ all_users:all ┆ runtime_minutes:Long ┆ Long  ┆ Mean is greater than 3.5 ┆ 6040  │\n",
       "│ all_users:all ┆ location:AL          ┆ AL    ┆ Mean is greater than 3.5 ┆ 23    │\n",
       "│ all_users:all ┆ location:RI          ┆ RI    ┆ Mean is greater than 3.5 ┆ 22    │\n",
       "└───────────────┴──────────────────────┴───────┴──────────────────────────┴───────┘"
      ]
     },
     "execution_count": 15,
     "metadata": {},
     "output_type": "execute_result"
    }
   ],
   "source": [
    "hs = hr.HypothesisRow.df_to_list(df, users)\n",
    "hs[0].get_parent_child_df()"
   ]
  },
  {
   "cell_type": "code",
   "execution_count": 16,
   "metadata": {},
   "outputs": [
    {
     "ename": "InvalidOperationError",
     "evalue": "`pow` operation not supported for dtype `struct[1]` as exponent",
     "output_type": "error",
     "traceback": [
      "\u001b[1;31m---------------------------------------------------------------------------\u001b[0m",
      "\u001b[1;31mInvalidOperationError\u001b[0m                     Traceback (most recent call last)",
      "Cell \u001b[1;32mIn[16], line 1\u001b[0m\n\u001b[1;32m----> 1\u001b[0m \u001b[43mtm\u001b[49m\u001b[38;5;241;43m.\u001b[39;49m\u001b[43mmake_treemap_from_range\u001b[49m\u001b[43m(\u001b[49m\u001b[43mhs\u001b[49m\u001b[43m,\u001b[49m\u001b[43m \u001b[49m\u001b[38;5;241;43m0\u001b[39;49m\u001b[43m,\u001b[49m\u001b[43m \u001b[49m\u001b[38;5;241;43m0\u001b[39;49m\u001b[43m,\u001b[49m\u001b[43m \u001b[49m\u001b[43mbranchvalues\u001b[49m\u001b[38;5;241;43m=\u001b[39;49m\u001b[38;5;124;43m\"\u001b[39;49m\u001b[38;5;124;43mtotal\u001b[39;49m\u001b[38;5;124;43m\"\u001b[39;49m\u001b[43m)\u001b[49m\n",
      "File \u001b[1;32me:\\30-39 Estudos\\36 Mestrado\\36.05 Visual analytics for data science\\project\\src\\treemap.py:46\u001b[0m, in \u001b[0;36mmake_treemap_from_range\u001b[1;34m(hs, start, end, **kwargs)\u001b[0m\n\u001b[0;32m     38\u001b[0m     df \u001b[38;5;241m=\u001b[39m __add_subroot_to_df(df, h)\n\u001b[0;32m     40\u001b[0m fig \u001b[38;5;241m=\u001b[39m go\u001b[38;5;241m.\u001b[39mFigure()\n\u001b[0;32m     41\u001b[0m fig\u001b[38;5;241m.\u001b[39madd_trace(\n\u001b[0;32m     42\u001b[0m     go\u001b[38;5;241m.\u001b[39mTreemap(\n\u001b[0;32m     43\u001b[0m         ids\u001b[38;5;241m=\u001b[39mdf[\u001b[38;5;124m\"\u001b[39m\u001b[38;5;124mchild\u001b[39m\u001b[38;5;124m\"\u001b[39m],\n\u001b[0;32m     44\u001b[0m         parents\u001b[38;5;241m=\u001b[39mdf[\u001b[38;5;124m\"\u001b[39m\u001b[38;5;124mparent\u001b[39m\u001b[38;5;124m\"\u001b[39m],\n\u001b[0;32m     45\u001b[0m         labels\u001b[38;5;241m=\u001b[39mdf[\u001b[38;5;124m\"\u001b[39m\u001b[38;5;124mlabel\u001b[39m\u001b[38;5;124m\"\u001b[39m],\n\u001b[1;32m---> 46\u001b[0m         values\u001b[38;5;241m=\u001b[39m\u001b[43mdf\u001b[49m\u001b[43m[\u001b[49m\u001b[38;5;124;43m\"\u001b[39;49m\u001b[38;5;124;43mcount\u001b[39;49m\u001b[38;5;124;43m\"\u001b[39;49m\u001b[43m]\u001b[49m\n\u001b[0;32m     47\u001b[0m \u001b[43m        \u001b[49m\u001b[38;5;241;43m*\u001b[39;49m\u001b[38;5;241;43m*\u001b[39;49m\u001b[43mkwargs\u001b[49m\n\u001b[0;32m     48\u001b[0m     )\n\u001b[0;32m     49\u001b[0m )\n\u001b[0;32m     50\u001b[0m \u001b[38;5;28;01mreturn\u001b[39;00m fig\n",
      "File \u001b[1;32m~\\AppData\\Local\\Packages\\PythonSoftwareFoundation.Python.3.12_qbz5n2kfra8p0\\LocalCache\\local-packages\\Python312\\site-packages\\polars\\series\\series.py:1192\u001b[0m, in \u001b[0;36mSeries.__pow__\u001b[1;34m(self, exponent)\u001b[0m\n\u001b[0;32m   1191\u001b[0m \u001b[38;5;28;01mdef\u001b[39;00m \u001b[38;5;21m__pow__\u001b[39m(\u001b[38;5;28mself\u001b[39m, exponent: \u001b[38;5;28mint\u001b[39m \u001b[38;5;241m|\u001b[39m \u001b[38;5;28mfloat\u001b[39m \u001b[38;5;241m|\u001b[39m Series) \u001b[38;5;241m-\u001b[39m\u001b[38;5;241m>\u001b[39m Series:\n\u001b[1;32m-> 1192\u001b[0m     \u001b[38;5;28;01mreturn\u001b[39;00m \u001b[38;5;28;43mself\u001b[39;49m\u001b[38;5;241;43m.\u001b[39;49m\u001b[43mpow\u001b[49m\u001b[43m(\u001b[49m\u001b[43mexponent\u001b[49m\u001b[43m)\u001b[49m\n",
      "File \u001b[1;32m~\\AppData\\Local\\Packages\\PythonSoftwareFoundation.Python.3.12_qbz5n2kfra8p0\\LocalCache\\local-packages\\Python312\\site-packages\\polars\\series\\series.py:2015\u001b[0m, in \u001b[0;36mSeries.pow\u001b[1;34m(self, exponent)\u001b[0m\n\u001b[0;32m   2013\u001b[0m \u001b[38;5;28;01mif\u001b[39;00m _check_for_numpy(exponent) \u001b[38;5;129;01mand\u001b[39;00m \u001b[38;5;28misinstance\u001b[39m(exponent, np\u001b[38;5;241m.\u001b[39mndarray):\n\u001b[0;32m   2014\u001b[0m     exponent \u001b[38;5;241m=\u001b[39m Series(exponent)\n\u001b[1;32m-> 2015\u001b[0m \u001b[38;5;28;01mreturn\u001b[39;00m \u001b[38;5;28;43mself\u001b[39;49m\u001b[38;5;241;43m.\u001b[39;49m\u001b[43mto_frame\u001b[49m\u001b[43m(\u001b[49m\u001b[43m)\u001b[49m\u001b[38;5;241;43m.\u001b[39;49m\u001b[43mselect_seq\u001b[49m\u001b[43m(\u001b[49m\u001b[43mF\u001b[49m\u001b[38;5;241;43m.\u001b[39;49m\u001b[43mcol\u001b[49m\u001b[43m(\u001b[49m\u001b[38;5;28;43mself\u001b[39;49m\u001b[38;5;241;43m.\u001b[39;49m\u001b[43mname\u001b[49m\u001b[43m)\u001b[49m\u001b[38;5;241;43m.\u001b[39;49m\u001b[43mpow\u001b[49m\u001b[43m(\u001b[49m\u001b[43mexponent\u001b[49m\u001b[43m)\u001b[49m\u001b[43m)\u001b[49m\u001b[38;5;241m.\u001b[39mto_series()\n",
      "File \u001b[1;32m~\\AppData\\Local\\Packages\\PythonSoftwareFoundation.Python.3.12_qbz5n2kfra8p0\\LocalCache\\local-packages\\Python312\\site-packages\\polars\\dataframe\\frame.py:9046\u001b[0m, in \u001b[0;36mDataFrame.select_seq\u001b[1;34m(self, *exprs, **named_exprs)\u001b[0m\n\u001b[0;32m   9023\u001b[0m \u001b[38;5;28;01mdef\u001b[39;00m \u001b[38;5;21mselect_seq\u001b[39m(\n\u001b[0;32m   9024\u001b[0m     \u001b[38;5;28mself\u001b[39m, \u001b[38;5;241m*\u001b[39mexprs: IntoExpr \u001b[38;5;241m|\u001b[39m Iterable[IntoExpr], \u001b[38;5;241m*\u001b[39m\u001b[38;5;241m*\u001b[39mnamed_exprs: IntoExpr\n\u001b[0;32m   9025\u001b[0m ) \u001b[38;5;241m-\u001b[39m\u001b[38;5;241m>\u001b[39m DataFrame:\n\u001b[0;32m   9026\u001b[0m \u001b[38;5;250m    \u001b[39m\u001b[38;5;124;03m\"\"\"\u001b[39;00m\n\u001b[0;32m   9027\u001b[0m \u001b[38;5;124;03m    Select columns from this DataFrame.\u001b[39;00m\n\u001b[0;32m   9028\u001b[0m \n\u001b[1;32m   (...)\u001b[0m\n\u001b[0;32m   9044\u001b[0m \u001b[38;5;124;03m    select\u001b[39;00m\n\u001b[0;32m   9045\u001b[0m \u001b[38;5;124;03m    \"\"\"\u001b[39;00m\n\u001b[1;32m-> 9046\u001b[0m     \u001b[38;5;28;01mreturn\u001b[39;00m \u001b[38;5;28;43mself\u001b[39;49m\u001b[38;5;241;43m.\u001b[39;49m\u001b[43mlazy\u001b[49m\u001b[43m(\u001b[49m\u001b[43m)\u001b[49m\u001b[38;5;241;43m.\u001b[39;49m\u001b[43mselect_seq\u001b[49m\u001b[43m(\u001b[49m\u001b[38;5;241;43m*\u001b[39;49m\u001b[43mexprs\u001b[49m\u001b[43m,\u001b[49m\u001b[43m \u001b[49m\u001b[38;5;241;43m*\u001b[39;49m\u001b[38;5;241;43m*\u001b[39;49m\u001b[43mnamed_exprs\u001b[49m\u001b[43m)\u001b[49m\u001b[38;5;241;43m.\u001b[39;49m\u001b[43mcollect\u001b[49m\u001b[43m(\u001b[49m\u001b[43m_eager\u001b[49m\u001b[38;5;241;43m=\u001b[39;49m\u001b[38;5;28;43;01mTrue\u001b[39;49;00m\u001b[43m)\u001b[49m\n",
      "File \u001b[1;32m~\\AppData\\Local\\Packages\\PythonSoftwareFoundation.Python.3.12_qbz5n2kfra8p0\\LocalCache\\local-packages\\Python312\\site-packages\\polars\\lazyframe\\frame.py:2055\u001b[0m, in \u001b[0;36mLazyFrame.collect\u001b[1;34m(self, type_coercion, predicate_pushdown, projection_pushdown, simplify_expression, slice_pushdown, comm_subplan_elim, comm_subexpr_elim, cluster_with_columns, collapse_joins, no_optimization, streaming, engine, background, _eager, **_kwargs)\u001b[0m\n\u001b[0;32m   2053\u001b[0m \u001b[38;5;66;03m# Only for testing purposes\u001b[39;00m\n\u001b[0;32m   2054\u001b[0m callback \u001b[38;5;241m=\u001b[39m _kwargs\u001b[38;5;241m.\u001b[39mget(\u001b[38;5;124m\"\u001b[39m\u001b[38;5;124mpost_opt_callback\u001b[39m\u001b[38;5;124m\"\u001b[39m, callback)\n\u001b[1;32m-> 2055\u001b[0m \u001b[38;5;28;01mreturn\u001b[39;00m wrap_df(\u001b[43mldf\u001b[49m\u001b[38;5;241;43m.\u001b[39;49m\u001b[43mcollect\u001b[49m\u001b[43m(\u001b[49m\u001b[43mcallback\u001b[49m\u001b[43m)\u001b[49m)\n",
      "\u001b[1;31mInvalidOperationError\u001b[0m: `pow` operation not supported for dtype `struct[1]` as exponent"
     ]
    }
   ],
   "source": [
    "tm.make_treemap_from_range(hs, 0, 1)"
   ]
  }
 ],
 "metadata": {
  "kernelspec": {
   "display_name": "Python 3",
   "language": "python",
   "name": "python3"
  },
  "language_info": {
   "codemirror_mode": {
    "name": "ipython",
    "version": 3
   },
   "file_extension": ".py",
   "mimetype": "text/x-python",
   "name": "python",
   "nbconvert_exporter": "python",
   "pygments_lexer": "ipython3",
   "version": "3.12.8"
  }
 },
 "nbformat": 4,
 "nbformat_minor": 2
}
