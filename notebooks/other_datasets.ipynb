{
 "cells": [
  {
   "cell_type": "markdown",
   "metadata": {},
   "source": [
    "O objetivo desse arquivo é criar um treemap com outros conjuntos de dados além do dos resultados do MovieLens"
   ]
  },
  {
   "cell_type": "code",
   "execution_count": 1,
   "metadata": {},
   "outputs": [],
   "source": [
    "import polars as pl\n",
    "from utils import mount_src\n",
    "mount_src()\n",
    "\n",
    "import hypothesis_row as hr\n",
    "import treemap as tm\n",
    "\n",
    "\n",
    "DATA_DIR = \"../data/\"\n",
    "YELP_DATA = DATA_DIR + \"yelp.csv\"\n",
    "BOOK_CROSSING_DATA = DATA_DIR + \"book_crossing.csv\""
   ]
  },
  {
   "cell_type": "code",
   "execution_count": 2,
   "metadata": {},
   "outputs": [
    {
     "data": {
      "text/html": [
       "<div><style>\n",
       ".dataframe > thead > tr,\n",
       ".dataframe > tbody > tr {\n",
       "  text-align: right;\n",
       "  white-space: pre-wrap;\n",
       "}\n",
       "</style>\n",
       "<small>shape: (70, 8)</small><table border=\"1\" class=\"dataframe\"><thead><tr><th>algorithm</th><th>step</th><th>g_in</th><th>h</th><th>G_out</th><th>coverage</th><th>diversity</th><th>normalized_diversity</th></tr><tr><td>str</td><td>i64</td><td>str</td><td>str</td><td>str</td><td>f64</td><td>f64</td><td>f64</td></tr></thead><tbody><tr><td>&quot;Greedy-HEP&quot;</td><td>0</td><td>&quot;All users&quot;</td><td>&quot;Mean is greater than 2&quot;</td><td>&quot;language:de, language:en, coun…</td><td>0.976621</td><td>2.989956</td><td>0.996652</td></tr><tr><td>&quot;Greedy-HEP&quot;</td><td>1</td><td>&quot;language:de&quot;</td><td>&quot;Mean is greater than 2&quot;</td><td>&quot;age:&lt;18|language:de, category:…</td><td>0.919781</td><td>2.932937</td><td>0.977646</td></tr><tr><td>&quot;Greedy-HEP&quot;</td><td>2</td><td>&quot;category:other|language:de&quot;</td><td>&quot;Mean is greater than 2&quot;</td><td>&quot;category:other|country:austria…</td><td>0.96014</td><td>3.0</td><td>1.0</td></tr><tr><td>&quot;Greedy-HEP&quot;</td><td>3</td><td>&quot;language:en&quot;</td><td>&quot;Mean is greater than 2&quot;</td><td>&quot;country:romania|language:en, c…</td><td>0.739571</td><td>2.999189</td><td>0.99973</td></tr><tr><td>&quot;Greedy-HEP&quot;</td><td>4</td><td>&quot;category:Fiction|language:en&quot;</td><td>&quot;Mean is greater than 2&quot;</td><td>&quot;category:Fiction|country:canad…</td><td>0.903694</td><td>3.0</td><td>1.0</td></tr><tr><td>&hellip;</td><td>&hellip;</td><td>&hellip;</td><td>&hellip;</td><td>&hellip;</td><td>&hellip;</td><td>&hellip;</td><td>&hellip;</td></tr><tr><td>&quot;RL-HEP&quot;</td><td>30</td><td>&quot;language:es|year_of_publicatio…</td><td>&quot;Mean is greater than 2&quot;</td><td>&quot;country:spain|language:es|year…</td><td>0.978261</td><td>0.4</td><td>0.4</td></tr><tr><td>&quot;RL-HEP&quot;</td><td>31</td><td>&quot;country:spain|language:es|year…</td><td>&quot;Mean is greater than 2&quot;</td><td>&quot;category:Fiction|country:spain…</td><td>0.675</td><td>0.0</td><td>0.0</td></tr><tr><td>&quot;RL-HEP&quot;</td><td>32</td><td>&quot;age:35-44&quot;</td><td>&quot;Mean is greater than 2&quot;</td><td>&quot;age:35-44|language:en, age:35-…</td><td>0.978085</td><td>2.978394</td><td>0.992798</td></tr><tr><td>&quot;RL-HEP&quot;</td><td>33</td><td>&quot;age:35-44|language:en&quot;</td><td>&quot;Mean is greater than 2&quot;</td><td>&quot;age:35-44|category:Fiction|lan…</td><td>0.776794</td><td>2.994044</td><td>0.998015</td></tr><tr><td>&quot;RL-HEP&quot;</td><td>34</td><td>&quot;age:35-44|category:Fiction|lan…</td><td>&quot;Mean is greater than 2&quot;</td><td>&quot;age:35-44|category:Fiction|cou…</td><td>0.894964</td><td>3.0</td><td>1.0</td></tr></tbody></table></div>"
      ],
      "text/plain": [
       "shape: (70, 8)\n",
       "┌────────────┬──────┬───────────────┬─────────┬──────────────┬──────────┬───────────┬──────────────┐\n",
       "│ algorithm  ┆ step ┆ g_in          ┆ h       ┆ G_out        ┆ coverage ┆ diversity ┆ normalized_d │\n",
       "│ ---        ┆ ---  ┆ ---           ┆ ---     ┆ ---          ┆ ---      ┆ ---       ┆ iversity     │\n",
       "│ str        ┆ i64  ┆ str           ┆ str     ┆ str          ┆ f64      ┆ f64       ┆ ---          │\n",
       "│            ┆      ┆               ┆         ┆              ┆          ┆           ┆ f64          │\n",
       "╞════════════╪══════╪═══════════════╪═════════╪══════════════╪══════════╪═══════════╪══════════════╡\n",
       "│ Greedy-HEP ┆ 0    ┆ All users     ┆ Mean is ┆ language:de, ┆ 0.976621 ┆ 2.989956  ┆ 0.996652     │\n",
       "│            ┆      ┆               ┆ greater ┆ language:en, ┆          ┆           ┆              │\n",
       "│            ┆      ┆               ┆ than 2  ┆ coun…        ┆          ┆           ┆              │\n",
       "│ Greedy-HEP ┆ 1    ┆ language:de   ┆ Mean is ┆ age:<18|lang ┆ 0.919781 ┆ 2.932937  ┆ 0.977646     │\n",
       "│            ┆      ┆               ┆ greater ┆ uage:de,     ┆          ┆           ┆              │\n",
       "│            ┆      ┆               ┆ than 2  ┆ category:…   ┆          ┆           ┆              │\n",
       "│ Greedy-HEP ┆ 2    ┆ category:othe ┆ Mean is ┆ category:oth ┆ 0.96014  ┆ 3.0       ┆ 1.0          │\n",
       "│            ┆      ┆ r|language:de ┆ greater ┆ er|country:a ┆          ┆           ┆              │\n",
       "│            ┆      ┆               ┆ than 2  ┆ ustria…      ┆          ┆           ┆              │\n",
       "│ Greedy-HEP ┆ 3    ┆ language:en   ┆ Mean is ┆ country:roma ┆ 0.739571 ┆ 2.999189  ┆ 0.99973      │\n",
       "│            ┆      ┆               ┆ greater ┆ nia|language ┆          ┆           ┆              │\n",
       "│            ┆      ┆               ┆ than 2  ┆ :en, c…      ┆          ┆           ┆              │\n",
       "│ Greedy-HEP ┆ 4    ┆ category:Fict ┆ Mean is ┆ category:Fic ┆ 0.903694 ┆ 3.0       ┆ 1.0          │\n",
       "│            ┆      ┆ ion|language: ┆ greater ┆ tion|country ┆          ┆           ┆              │\n",
       "│            ┆      ┆ en            ┆ than 2  ┆ :canad…      ┆          ┆           ┆              │\n",
       "│ …          ┆ …    ┆ …             ┆ …       ┆ …            ┆ …        ┆ …         ┆ …            │\n",
       "│ RL-HEP     ┆ 30   ┆ language:es|y ┆ Mean is ┆ country:spai ┆ 0.978261 ┆ 0.4       ┆ 0.4          │\n",
       "│            ┆      ┆ ear_of_public ┆ greater ┆ n|language:e ┆          ┆           ┆              │\n",
       "│            ┆      ┆ atio…         ┆ than 2  ┆ s|year…      ┆          ┆           ┆              │\n",
       "│ RL-HEP     ┆ 31   ┆ country:spain ┆ Mean is ┆ category:Fic ┆ 0.675    ┆ 0.0       ┆ 0.0          │\n",
       "│            ┆      ┆ |language:es| ┆ greater ┆ tion|country ┆          ┆           ┆              │\n",
       "│            ┆      ┆ year…         ┆ than 2  ┆ :spain…      ┆          ┆           ┆              │\n",
       "│ RL-HEP     ┆ 32   ┆ age:35-44     ┆ Mean is ┆ age:35-44|la ┆ 0.978085 ┆ 2.978394  ┆ 0.992798     │\n",
       "│            ┆      ┆               ┆ greater ┆ nguage:en,   ┆          ┆           ┆              │\n",
       "│            ┆      ┆               ┆ than 2  ┆ age:35-…     ┆          ┆           ┆              │\n",
       "│ RL-HEP     ┆ 33   ┆ age:35-44|lan ┆ Mean is ┆ age:35-44|ca ┆ 0.776794 ┆ 2.994044  ┆ 0.998015     │\n",
       "│            ┆      ┆ guage:en      ┆ greater ┆ tegory:Ficti ┆          ┆           ┆              │\n",
       "│            ┆      ┆               ┆ than 2  ┆ on|lan…      ┆          ┆           ┆              │\n",
       "│ RL-HEP     ┆ 34   ┆ age:35-44|cat ┆ Mean is ┆ age:35-44|ca ┆ 0.894964 ┆ 3.0       ┆ 1.0          │\n",
       "│            ┆      ┆ egory:Fiction ┆ greater ┆ tegory:Ficti ┆          ┆           ┆              │\n",
       "│            ┆      ┆ |lan…         ┆ than 2  ┆ on|cou…      ┆          ┆           ┆              │\n",
       "└────────────┴──────┴───────────────┴─────────┴──────────────┴──────────┴───────────┴──────────────┘"
      ]
     },
     "execution_count": 2,
     "metadata": {},
     "output_type": "execute_result"
    }
   ],
   "source": [
    "book_df = pl.read_csv(BOOK_CROSSING_DATA)\n",
    "book_df"
   ]
  },
  {
   "cell_type": "code",
   "execution_count": 5,
   "metadata": {},
   "outputs": [
    {
     "data": {
      "application/vnd.plotly.v1+json": {
       "config": {
        "plotlyServerURL": "https://plot.ly"
       },
       "data": [
        {
         "domain": {
          "x": [
           0,
           1
          ],
          "y": [
           0,
           1
          ]
         },
         "hovertemplate": "label=%{label}<br>parent=%{parent}<extra></extra>",
         "labels": [
          "all_users:all",
          "language:de",
          "language:en",
          "country:romania",
          "age:<18,language:de",
          "category:other,language:de",
          "age:45-49,language:de",
          "category:other,country:austria,language:de",
          "category:other,country:germany,language:de",
          "category:other,country:switzerland,language:de",
          "country:romania,language:en",
          "country:norway,language:en",
          "category:Fiction,language:en",
          "category:Fiction,country:canada,language:en",
          "category:Fiction,country:united kingdom,language:en",
          "category:Fiction,country:usa,language:en",
          "age:<18,category:Fiction,country:canada,language:en",
          "category:Fiction,country:canada,language:en,year_of_publication:90s",
          "age:50-55,category:Fiction,country:canada,language:en",
          "age:18-24,category:Fiction,country:canada,language:en,year_of_publication:90s",
          "age:35-44,category:Fiction,country:canada,language:en,year_of_publication:90s",
          "age:25-34,category:Fiction,country:canada,language:en,year_of_publication:90s",
          "category:Fiction,country:usa,language:en,year_of_publication:90s",
          "age:<18,category:Fiction,country:usa,language:en",
          "category:Fiction,country:usa,language:en,year_of_publication:60s",
          "age:25-34,category:Fiction,country:usa,language:en,year_of_publication:90s",
          "age:18-24,category:Fiction,country:usa,language:en,year_of_publication:90s",
          "age:35-44,category:Fiction,country:usa,language:en,year_of_publication:90s",
          "category:other,country:germany,language:de,year_of_publication:2000s",
          "age:<18,category:other,country:germany,language:de",
          "age:50-55,category:other,country:germany,language:de",
          "age:35-44,category:other,country:germany,language:de,year_of_publication:2000s",
          "age:25-34,category:other,country:germany,language:de,year_of_publication:2000s",
          "age:18-24,category:other,country:germany,language:de,year_of_publication:2000s",
          "category:Fiction,country:united kingdom,language:en,year_of_publication:2000s",
          "category:Fiction,country:united kingdom,language:en,year_of_publication:70s",
          "age:>56,category:Fiction,country:united kingdom,language:en",
          "age:35-44,category:Fiction,country:united kingdom,language:en,year_of_publication:2000s",
          "age:25-34,category:Fiction,country:united kingdom,language:en,year_of_publication:2000s",
          "age:18-24,category:Fiction,country:united kingdom,language:en,year_of_publication:2000s",
          "age:35-44,category:other,country:switzerland,language:de",
          "category:other,country:switzerland,language:de,year_of_publication:2000s",
          "age:18-24,category:other,country:switzerland,language:de",
          "age:<18,category:Fiction,country:usa,language:en,year_of_publication:90s",
          "age:<18,category:Fiction,country:usa,language:en,year_of_publication:2000s",
          "age:<18,category:Fiction,country:usa,language:en,year_of_publication:80s",
          "age:<18,language:de,year_of_publication:90s",
          "age:<18,category:other,language:de",
          "age:<18,language:de,year_of_publication:2000s",
          "age:45-49,language:de,year_of_publication:90s",
          "age:45-49,category:other,language:de",
          "age:45-49,language:de,year_of_publication:2000s",
          "age:45-49,category:other,language:de,year_of_publication:2000s",
          "age:45-49,category:other,country:germany,language:de",
          "age:45-49,category:other,language:de,year_of_publication:90s",
          "country:romania,language:en",
          "country:romania,year_of_publication:90s",
          "country:romania,year_of_publication:2000s",
          "age:>56,category:Fiction,country:united kingdom,language:en,year_of_publication:90s",
          "age:>56,category:Fiction,country:united kingdom,language:en,year_of_publication:2000s"
         ],
         "name": "",
         "parents": [
          "",
          "all_users:all",
          "all_users:all",
          "all_users:all",
          "language:de",
          "language:de",
          "language:de",
          "category:other,language:de",
          "category:other,language:de",
          "category:other,language:de",
          "language:en",
          "language:en",
          "language:en",
          "category:Fiction,language:en",
          "category:Fiction,language:en",
          "category:Fiction,language:en",
          "category:Fiction,country:canada,language:en",
          "category:Fiction,country:canada,language:en",
          "category:Fiction,country:canada,language:en",
          "category:Fiction,country:canada,language:en,year_of_publication:90s",
          "category:Fiction,country:canada,language:en,year_of_publication:90s",
          "category:Fiction,country:canada,language:en,year_of_publication:90s",
          "category:Fiction,country:usa,language:en",
          "category:Fiction,country:usa,language:en",
          "category:Fiction,country:usa,language:en",
          "category:Fiction,country:usa,language:en,year_of_publication:90s",
          "category:Fiction,country:usa,language:en,year_of_publication:90s",
          "category:Fiction,country:usa,language:en,year_of_publication:90s",
          "category:other,country:germany,language:de",
          "category:other,country:germany,language:de",
          "category:other,country:germany,language:de",
          "category:other,country:germany,language:de,year_of_publication:2000s",
          "category:other,country:germany,language:de,year_of_publication:2000s",
          "category:other,country:germany,language:de,year_of_publication:2000s",
          "category:Fiction,country:united kingdom,language:en",
          "category:Fiction,country:united kingdom,language:en",
          "category:Fiction,country:united kingdom,language:en",
          "category:Fiction,country:united kingdom,language:en,year_of_publication:2000s",
          "category:Fiction,country:united kingdom,language:en,year_of_publication:2000s",
          "category:Fiction,country:united kingdom,language:en,year_of_publication:2000s",
          "category:other,country:switzerland,language:de",
          "category:other,country:switzerland,language:de",
          "category:other,country:switzerland,language:de",
          "age:<18,category:Fiction,country:usa,language:en",
          "age:<18,category:Fiction,country:usa,language:en",
          "age:<18,category:Fiction,country:usa,language:en",
          "age:<18,language:de",
          "age:<18,language:de",
          "age:<18,language:de",
          "age:45-49,language:de",
          "age:45-49,language:de",
          "age:45-49,language:de",
          "age:45-49,category:other,language:de",
          "age:45-49,category:other,language:de",
          "age:45-49,category:other,language:de",
          "country:romania",
          "country:romania",
          "country:romania",
          "age:>56,category:Fiction,country:united kingdom,language:en",
          "age:>56,category:Fiction,country:united kingdom,language:en"
         ],
         "type": "treemap"
        }
       ],
       "layout": {
        "legend": {
         "tracegroupgap": 0
        },
        "margin": {
         "t": 60
        },
        "template": {
         "data": {
          "bar": [
           {
            "error_x": {
             "color": "#2a3f5f"
            },
            "error_y": {
             "color": "#2a3f5f"
            },
            "marker": {
             "line": {
              "color": "#E5ECF6",
              "width": 0.5
             },
             "pattern": {
              "fillmode": "overlay",
              "size": 10,
              "solidity": 0.2
             }
            },
            "type": "bar"
           }
          ],
          "barpolar": [
           {
            "marker": {
             "line": {
              "color": "#E5ECF6",
              "width": 0.5
             },
             "pattern": {
              "fillmode": "overlay",
              "size": 10,
              "solidity": 0.2
             }
            },
            "type": "barpolar"
           }
          ],
          "carpet": [
           {
            "aaxis": {
             "endlinecolor": "#2a3f5f",
             "gridcolor": "white",
             "linecolor": "white",
             "minorgridcolor": "white",
             "startlinecolor": "#2a3f5f"
            },
            "baxis": {
             "endlinecolor": "#2a3f5f",
             "gridcolor": "white",
             "linecolor": "white",
             "minorgridcolor": "white",
             "startlinecolor": "#2a3f5f"
            },
            "type": "carpet"
           }
          ],
          "choropleth": [
           {
            "colorbar": {
             "outlinewidth": 0,
             "ticks": ""
            },
            "type": "choropleth"
           }
          ],
          "contour": [
           {
            "colorbar": {
             "outlinewidth": 0,
             "ticks": ""
            },
            "colorscale": [
             [
              0,
              "#0d0887"
             ],
             [
              0.1111111111111111,
              "#46039f"
             ],
             [
              0.2222222222222222,
              "#7201a8"
             ],
             [
              0.3333333333333333,
              "#9c179e"
             ],
             [
              0.4444444444444444,
              "#bd3786"
             ],
             [
              0.5555555555555556,
              "#d8576b"
             ],
             [
              0.6666666666666666,
              "#ed7953"
             ],
             [
              0.7777777777777778,
              "#fb9f3a"
             ],
             [
              0.8888888888888888,
              "#fdca26"
             ],
             [
              1,
              "#f0f921"
             ]
            ],
            "type": "contour"
           }
          ],
          "contourcarpet": [
           {
            "colorbar": {
             "outlinewidth": 0,
             "ticks": ""
            },
            "type": "contourcarpet"
           }
          ],
          "heatmap": [
           {
            "colorbar": {
             "outlinewidth": 0,
             "ticks": ""
            },
            "colorscale": [
             [
              0,
              "#0d0887"
             ],
             [
              0.1111111111111111,
              "#46039f"
             ],
             [
              0.2222222222222222,
              "#7201a8"
             ],
             [
              0.3333333333333333,
              "#9c179e"
             ],
             [
              0.4444444444444444,
              "#bd3786"
             ],
             [
              0.5555555555555556,
              "#d8576b"
             ],
             [
              0.6666666666666666,
              "#ed7953"
             ],
             [
              0.7777777777777778,
              "#fb9f3a"
             ],
             [
              0.8888888888888888,
              "#fdca26"
             ],
             [
              1,
              "#f0f921"
             ]
            ],
            "type": "heatmap"
           }
          ],
          "heatmapgl": [
           {
            "colorbar": {
             "outlinewidth": 0,
             "ticks": ""
            },
            "colorscale": [
             [
              0,
              "#0d0887"
             ],
             [
              0.1111111111111111,
              "#46039f"
             ],
             [
              0.2222222222222222,
              "#7201a8"
             ],
             [
              0.3333333333333333,
              "#9c179e"
             ],
             [
              0.4444444444444444,
              "#bd3786"
             ],
             [
              0.5555555555555556,
              "#d8576b"
             ],
             [
              0.6666666666666666,
              "#ed7953"
             ],
             [
              0.7777777777777778,
              "#fb9f3a"
             ],
             [
              0.8888888888888888,
              "#fdca26"
             ],
             [
              1,
              "#f0f921"
             ]
            ],
            "type": "heatmapgl"
           }
          ],
          "histogram": [
           {
            "marker": {
             "pattern": {
              "fillmode": "overlay",
              "size": 10,
              "solidity": 0.2
             }
            },
            "type": "histogram"
           }
          ],
          "histogram2d": [
           {
            "colorbar": {
             "outlinewidth": 0,
             "ticks": ""
            },
            "colorscale": [
             [
              0,
              "#0d0887"
             ],
             [
              0.1111111111111111,
              "#46039f"
             ],
             [
              0.2222222222222222,
              "#7201a8"
             ],
             [
              0.3333333333333333,
              "#9c179e"
             ],
             [
              0.4444444444444444,
              "#bd3786"
             ],
             [
              0.5555555555555556,
              "#d8576b"
             ],
             [
              0.6666666666666666,
              "#ed7953"
             ],
             [
              0.7777777777777778,
              "#fb9f3a"
             ],
             [
              0.8888888888888888,
              "#fdca26"
             ],
             [
              1,
              "#f0f921"
             ]
            ],
            "type": "histogram2d"
           }
          ],
          "histogram2dcontour": [
           {
            "colorbar": {
             "outlinewidth": 0,
             "ticks": ""
            },
            "colorscale": [
             [
              0,
              "#0d0887"
             ],
             [
              0.1111111111111111,
              "#46039f"
             ],
             [
              0.2222222222222222,
              "#7201a8"
             ],
             [
              0.3333333333333333,
              "#9c179e"
             ],
             [
              0.4444444444444444,
              "#bd3786"
             ],
             [
              0.5555555555555556,
              "#d8576b"
             ],
             [
              0.6666666666666666,
              "#ed7953"
             ],
             [
              0.7777777777777778,
              "#fb9f3a"
             ],
             [
              0.8888888888888888,
              "#fdca26"
             ],
             [
              1,
              "#f0f921"
             ]
            ],
            "type": "histogram2dcontour"
           }
          ],
          "mesh3d": [
           {
            "colorbar": {
             "outlinewidth": 0,
             "ticks": ""
            },
            "type": "mesh3d"
           }
          ],
          "parcoords": [
           {
            "line": {
             "colorbar": {
              "outlinewidth": 0,
              "ticks": ""
             }
            },
            "type": "parcoords"
           }
          ],
          "pie": [
           {
            "automargin": true,
            "type": "pie"
           }
          ],
          "scatter": [
           {
            "fillpattern": {
             "fillmode": "overlay",
             "size": 10,
             "solidity": 0.2
            },
            "type": "scatter"
           }
          ],
          "scatter3d": [
           {
            "line": {
             "colorbar": {
              "outlinewidth": 0,
              "ticks": ""
             }
            },
            "marker": {
             "colorbar": {
              "outlinewidth": 0,
              "ticks": ""
             }
            },
            "type": "scatter3d"
           }
          ],
          "scattercarpet": [
           {
            "marker": {
             "colorbar": {
              "outlinewidth": 0,
              "ticks": ""
             }
            },
            "type": "scattercarpet"
           }
          ],
          "scattergeo": [
           {
            "marker": {
             "colorbar": {
              "outlinewidth": 0,
              "ticks": ""
             }
            },
            "type": "scattergeo"
           }
          ],
          "scattergl": [
           {
            "marker": {
             "colorbar": {
              "outlinewidth": 0,
              "ticks": ""
             }
            },
            "type": "scattergl"
           }
          ],
          "scattermapbox": [
           {
            "marker": {
             "colorbar": {
              "outlinewidth": 0,
              "ticks": ""
             }
            },
            "type": "scattermapbox"
           }
          ],
          "scatterpolar": [
           {
            "marker": {
             "colorbar": {
              "outlinewidth": 0,
              "ticks": ""
             }
            },
            "type": "scatterpolar"
           }
          ],
          "scatterpolargl": [
           {
            "marker": {
             "colorbar": {
              "outlinewidth": 0,
              "ticks": ""
             }
            },
            "type": "scatterpolargl"
           }
          ],
          "scatterternary": [
           {
            "marker": {
             "colorbar": {
              "outlinewidth": 0,
              "ticks": ""
             }
            },
            "type": "scatterternary"
           }
          ],
          "surface": [
           {
            "colorbar": {
             "outlinewidth": 0,
             "ticks": ""
            },
            "colorscale": [
             [
              0,
              "#0d0887"
             ],
             [
              0.1111111111111111,
              "#46039f"
             ],
             [
              0.2222222222222222,
              "#7201a8"
             ],
             [
              0.3333333333333333,
              "#9c179e"
             ],
             [
              0.4444444444444444,
              "#bd3786"
             ],
             [
              0.5555555555555556,
              "#d8576b"
             ],
             [
              0.6666666666666666,
              "#ed7953"
             ],
             [
              0.7777777777777778,
              "#fb9f3a"
             ],
             [
              0.8888888888888888,
              "#fdca26"
             ],
             [
              1,
              "#f0f921"
             ]
            ],
            "type": "surface"
           }
          ],
          "table": [
           {
            "cells": {
             "fill": {
              "color": "#EBF0F8"
             },
             "line": {
              "color": "white"
             }
            },
            "header": {
             "fill": {
              "color": "#C8D4E3"
             },
             "line": {
              "color": "white"
             }
            },
            "type": "table"
           }
          ]
         },
         "layout": {
          "annotationdefaults": {
           "arrowcolor": "#2a3f5f",
           "arrowhead": 0,
           "arrowwidth": 1
          },
          "autotypenumbers": "strict",
          "coloraxis": {
           "colorbar": {
            "outlinewidth": 0,
            "ticks": ""
           }
          },
          "colorscale": {
           "diverging": [
            [
             0,
             "#8e0152"
            ],
            [
             0.1,
             "#c51b7d"
            ],
            [
             0.2,
             "#de77ae"
            ],
            [
             0.3,
             "#f1b6da"
            ],
            [
             0.4,
             "#fde0ef"
            ],
            [
             0.5,
             "#f7f7f7"
            ],
            [
             0.6,
             "#e6f5d0"
            ],
            [
             0.7,
             "#b8e186"
            ],
            [
             0.8,
             "#7fbc41"
            ],
            [
             0.9,
             "#4d9221"
            ],
            [
             1,
             "#276419"
            ]
           ],
           "sequential": [
            [
             0,
             "#0d0887"
            ],
            [
             0.1111111111111111,
             "#46039f"
            ],
            [
             0.2222222222222222,
             "#7201a8"
            ],
            [
             0.3333333333333333,
             "#9c179e"
            ],
            [
             0.4444444444444444,
             "#bd3786"
            ],
            [
             0.5555555555555556,
             "#d8576b"
            ],
            [
             0.6666666666666666,
             "#ed7953"
            ],
            [
             0.7777777777777778,
             "#fb9f3a"
            ],
            [
             0.8888888888888888,
             "#fdca26"
            ],
            [
             1,
             "#f0f921"
            ]
           ],
           "sequentialminus": [
            [
             0,
             "#0d0887"
            ],
            [
             0.1111111111111111,
             "#46039f"
            ],
            [
             0.2222222222222222,
             "#7201a8"
            ],
            [
             0.3333333333333333,
             "#9c179e"
            ],
            [
             0.4444444444444444,
             "#bd3786"
            ],
            [
             0.5555555555555556,
             "#d8576b"
            ],
            [
             0.6666666666666666,
             "#ed7953"
            ],
            [
             0.7777777777777778,
             "#fb9f3a"
            ],
            [
             0.8888888888888888,
             "#fdca26"
            ],
            [
             1,
             "#f0f921"
            ]
           ]
          },
          "colorway": [
           "#636efa",
           "#EF553B",
           "#00cc96",
           "#ab63fa",
           "#FFA15A",
           "#19d3f3",
           "#FF6692",
           "#B6E880",
           "#FF97FF",
           "#FECB52"
          ],
          "font": {
           "color": "#2a3f5f"
          },
          "geo": {
           "bgcolor": "white",
           "lakecolor": "white",
           "landcolor": "#E5ECF6",
           "showlakes": true,
           "showland": true,
           "subunitcolor": "white"
          },
          "hoverlabel": {
           "align": "left"
          },
          "hovermode": "closest",
          "mapbox": {
           "style": "light"
          },
          "paper_bgcolor": "white",
          "plot_bgcolor": "#E5ECF6",
          "polar": {
           "angularaxis": {
            "gridcolor": "white",
            "linecolor": "white",
            "ticks": ""
           },
           "bgcolor": "#E5ECF6",
           "radialaxis": {
            "gridcolor": "white",
            "linecolor": "white",
            "ticks": ""
           }
          },
          "scene": {
           "xaxis": {
            "backgroundcolor": "#E5ECF6",
            "gridcolor": "white",
            "gridwidth": 2,
            "linecolor": "white",
            "showbackground": true,
            "ticks": "",
            "zerolinecolor": "white"
           },
           "yaxis": {
            "backgroundcolor": "#E5ECF6",
            "gridcolor": "white",
            "gridwidth": 2,
            "linecolor": "white",
            "showbackground": true,
            "ticks": "",
            "zerolinecolor": "white"
           },
           "zaxis": {
            "backgroundcolor": "#E5ECF6",
            "gridcolor": "white",
            "gridwidth": 2,
            "linecolor": "white",
            "showbackground": true,
            "ticks": "",
            "zerolinecolor": "white"
           }
          },
          "shapedefaults": {
           "line": {
            "color": "#2a3f5f"
           }
          },
          "ternary": {
           "aaxis": {
            "gridcolor": "white",
            "linecolor": "white",
            "ticks": ""
           },
           "baxis": {
            "gridcolor": "white",
            "linecolor": "white",
            "ticks": ""
           },
           "bgcolor": "#E5ECF6",
           "caxis": {
            "gridcolor": "white",
            "linecolor": "white",
            "ticks": ""
           }
          },
          "title": {
           "x": 0.05
          },
          "xaxis": {
           "automargin": true,
           "gridcolor": "white",
           "linecolor": "white",
           "ticks": "",
           "title": {
            "standoff": 15
           },
           "zerolinecolor": "white",
           "zerolinewidth": 2
          },
          "yaxis": {
           "automargin": true,
           "gridcolor": "white",
           "linecolor": "white",
           "ticks": "",
           "title": {
            "standoff": 15
           },
           "zerolinecolor": "white",
           "zerolinewidth": 2
          }
         }
        }
       }
      }
     },
     "metadata": {},
     "output_type": "display_data"
    }
   ],
   "source": [
    "book_hs = hr.HypothesisRow.df_to_list(book_df)\n",
    "book_treemap = tm.make_treemap_from_range(book_hs, 0, 20)\n",
    "book_treemap"
   ]
  },
  {
   "cell_type": "code",
   "execution_count": 6,
   "metadata": {},
   "outputs": [
    {
     "data": {
      "text/html": [
       "<div><style>\n",
       ".dataframe > thead > tr,\n",
       ".dataframe > tbody > tr {\n",
       "  text-align: right;\n",
       "  white-space: pre-wrap;\n",
       "}\n",
       "</style>\n",
       "<small>shape: (70, 8)</small><table border=\"1\" class=\"dataframe\"><thead><tr><th>algorithm</th><th>step</th><th>g_in</th><th>h</th><th>G_out</th><th>coverage</th><th>diversity</th><th>normalized_diversity</th></tr><tr><td>str</td><td>i64</td><td>str</td><td>str</td><td>str</td><td>f64</td><td>f64</td><td>f64</td></tr></thead><tbody><tr><td>&quot;Greedy-HEP&quot;</td><td>0</td><td>&quot;All users&quot;</td><td>&quot;Mean is greater than 3.5&quot;</td><td>&quot;fans:semipopular, fans:popular…</td><td>1.0</td><td>3.0</td><td>1.0</td></tr><tr><td>&quot;Greedy-HEP&quot;</td><td>1</td><td>&quot;fans:popular&quot;</td><td>&quot;Mean is greater than 3.5&quot;</td><td>&quot;category:Restaurant|fans:popul…</td><td>0.915297</td><td>2.934273</td><td>0.978091</td></tr><tr><td>&quot;Greedy-HEP&quot;</td><td>2</td><td>&quot;fans:semipopular&quot;</td><td>&quot;Mean is greater than 3.5&quot;</td><td>&quot;category:Restaurant|fans:semip…</td><td>0.81476</td><td>2.975129</td><td>0.99171</td></tr><tr><td>&quot;Greedy-HEP&quot;</td><td>3</td><td>&quot;category:Restaurant|fans:semip…</td><td>&quot;Mean is greater than 3.5&quot;</td><td>&quot;category:Restaurant|fans:semip…</td><td>1.0</td><td>2.973106</td><td>0.991035</td></tr><tr><td>&quot;Greedy-HEP&quot;</td><td>4</td><td>&quot;category:Religious Organizatio…</td><td>&quot;Mean is greater than 3.5&quot;</td><td>&quot;category:Religious Organizatio…</td><td>1.0</td><td>2.963935</td><td>0.987978</td></tr><tr><td>&hellip;</td><td>&hellip;</td><td>&hellip;</td><td>&hellip;</td><td>&hellip;</td><td>&hellip;</td><td>&hellip;</td><td>&hellip;</td></tr><tr><td>&quot;RL-HEP&quot;</td><td>30</td><td>&quot;city:Tempe&quot;</td><td>&quot;Mean is greater than 3.5&quot;</td><td>&quot;city:Tempe|fans:semipopular, c…</td><td>1.0</td><td>3.0</td><td>1.0</td></tr><tr><td>&quot;RL-HEP&quot;</td><td>31</td><td>&quot;city:Tempe|fans:unpopular&quot;</td><td>&quot;Mean is greater than 3.5&quot;</td><td>&quot;category:Restaurant|city:Tempe…</td><td>0.625778</td><td>2.967516</td><td>0.989172</td></tr><tr><td>&quot;RL-HEP&quot;</td><td>32</td><td>&quot;category:Religious Organizatio…</td><td>&quot;Mean is greater than 3.5&quot;</td><td>&quot;category:Religious Organizatio…</td><td>0.470588</td><td>0.0</td><td>0.0</td></tr><tr><td>&quot;RL-HEP&quot;</td><td>33</td><td>&quot;city:Henderson&quot;</td><td>&quot;Mean is greater than 3.5&quot;</td><td>&quot;city:Henderson|fans:popular, c…</td><td>1.0</td><td>3.0</td><td>1.0</td></tr><tr><td>&quot;RL-HEP&quot;</td><td>34</td><td>&quot;city:Henderson|fans:semipopula…</td><td>&quot;Mean is greater than 3.5&quot;</td><td>&quot;category:Restaurants|city:Hend…</td><td>0.693272</td><td>2.938026</td><td>0.979342</td></tr></tbody></table></div>"
      ],
      "text/plain": [
       "shape: (70, 8)\n",
       "┌────────────┬──────┬──────────────┬──────────┬──────────────┬──────────┬───────────┬──────────────┐\n",
       "│ algorithm  ┆ step ┆ g_in         ┆ h        ┆ G_out        ┆ coverage ┆ diversity ┆ normalized_d │\n",
       "│ ---        ┆ ---  ┆ ---          ┆ ---      ┆ ---          ┆ ---      ┆ ---       ┆ iversity     │\n",
       "│ str        ┆ i64  ┆ str          ┆ str      ┆ str          ┆ f64      ┆ f64       ┆ ---          │\n",
       "│            ┆      ┆              ┆          ┆              ┆          ┆           ┆ f64          │\n",
       "╞════════════╪══════╪══════════════╪══════════╪══════════════╪══════════╪═══════════╪══════════════╡\n",
       "│ Greedy-HEP ┆ 0    ┆ All users    ┆ Mean is  ┆ fans:semipop ┆ 1.0      ┆ 3.0       ┆ 1.0          │\n",
       "│            ┆      ┆              ┆ greater  ┆ ular, fans:p ┆          ┆           ┆              │\n",
       "│            ┆      ┆              ┆ than 3.5 ┆ opular…      ┆          ┆           ┆              │\n",
       "│ Greedy-HEP ┆ 1    ┆ fans:popular ┆ Mean is  ┆ category:Res ┆ 0.915297 ┆ 2.934273  ┆ 0.978091     │\n",
       "│            ┆      ┆              ┆ greater  ┆ taurant|fans ┆          ┆           ┆              │\n",
       "│            ┆      ┆              ┆ than 3.5 ┆ :popul…      ┆          ┆           ┆              │\n",
       "│ Greedy-HEP ┆ 2    ┆ fans:semipop ┆ Mean is  ┆ category:Res ┆ 0.81476  ┆ 2.975129  ┆ 0.99171      │\n",
       "│            ┆      ┆ ular         ┆ greater  ┆ taurant|fans ┆          ┆           ┆              │\n",
       "│            ┆      ┆              ┆ than 3.5 ┆ :semip…      ┆          ┆           ┆              │\n",
       "│ Greedy-HEP ┆ 3    ┆ category:Res ┆ Mean is  ┆ category:Res ┆ 1.0      ┆ 2.973106  ┆ 0.991035     │\n",
       "│            ┆      ┆ taurant|fans ┆ greater  ┆ taurant|fans ┆          ┆           ┆              │\n",
       "│            ┆      ┆ :semip…      ┆ than 3.5 ┆ :semip…      ┆          ┆           ┆              │\n",
       "│ Greedy-HEP ┆ 4    ┆ category:Rel ┆ Mean is  ┆ category:Rel ┆ 1.0      ┆ 2.963935  ┆ 0.987978     │\n",
       "│            ┆      ┆ igious       ┆ greater  ┆ igious       ┆          ┆           ┆              │\n",
       "│            ┆      ┆ Organizatio… ┆ than 3.5 ┆ Organizatio… ┆          ┆           ┆              │\n",
       "│ …          ┆ …    ┆ …            ┆ …        ┆ …            ┆ …        ┆ …         ┆ …            │\n",
       "│ RL-HEP     ┆ 30   ┆ city:Tempe   ┆ Mean is  ┆ city:Tempe|f ┆ 1.0      ┆ 3.0       ┆ 1.0          │\n",
       "│            ┆      ┆              ┆ greater  ┆ ans:semipopu ┆          ┆           ┆              │\n",
       "│            ┆      ┆              ┆ than 3.5 ┆ lar, c…      ┆          ┆           ┆              │\n",
       "│ RL-HEP     ┆ 31   ┆ city:Tempe|f ┆ Mean is  ┆ category:Res ┆ 0.625778 ┆ 2.967516  ┆ 0.989172     │\n",
       "│            ┆      ┆ ans:unpopula ┆ greater  ┆ taurant|city ┆          ┆           ┆              │\n",
       "│            ┆      ┆ r            ┆ than 3.5 ┆ :Tempe…      ┆          ┆           ┆              │\n",
       "│ RL-HEP     ┆ 32   ┆ category:Rel ┆ Mean is  ┆ category:Rel ┆ 0.470588 ┆ 0.0       ┆ 0.0          │\n",
       "│            ┆      ┆ igious       ┆ greater  ┆ igious       ┆          ┆           ┆              │\n",
       "│            ┆      ┆ Organizatio… ┆ than 3.5 ┆ Organizatio… ┆          ┆           ┆              │\n",
       "│ RL-HEP     ┆ 33   ┆ city:Henders ┆ Mean is  ┆ city:Henders ┆ 1.0      ┆ 3.0       ┆ 1.0          │\n",
       "│            ┆      ┆ on           ┆ greater  ┆ on|fans:popu ┆          ┆           ┆              │\n",
       "│            ┆      ┆              ┆ than 3.5 ┆ lar, c…      ┆          ┆           ┆              │\n",
       "│ RL-HEP     ┆ 34   ┆ city:Henders ┆ Mean is  ┆ category:Res ┆ 0.693272 ┆ 2.938026  ┆ 0.979342     │\n",
       "│            ┆      ┆ on|fans:semi ┆ greater  ┆ taurants|cit ┆          ┆           ┆              │\n",
       "│            ┆      ┆ popula…      ┆ than 3.5 ┆ y:Hend…      ┆          ┆           ┆              │\n",
       "└────────────┴──────┴──────────────┴──────────┴──────────────┴──────────┴───────────┴──────────────┘"
      ]
     },
     "execution_count": 6,
     "metadata": {},
     "output_type": "execute_result"
    }
   ],
   "source": [
    "yelp_df = pl.read_csv(YELP_DATA)\n",
    "yelp_df"
   ]
  },
  {
   "cell_type": "code",
   "execution_count": 8,
   "metadata": {},
   "outputs": [
    {
     "data": {
      "application/vnd.plotly.v1+json": {
       "config": {
        "plotlyServerURL": "https://plot.ly"
       },
       "data": [
        {
         "domain": {
          "x": [
           0,
           1
          ],
          "y": [
           0,
           1
          ]
         },
         "hovertemplate": "label=%{label}<br>parent=%{parent}<extra></extra>",
         "labels": [
          "all_users:all",
          "fans:semipopular",
          "fans:popular",
          "fans:unpopular",
          "category:Restaurant,fans:popular",
          "category:Mass Media,fans:popular",
          "city:Calgary,fans:popular",
          "category:Restaurant,fans:semipopular",
          "category:Religious Organizations,fans:semipopular",
          "city:Calgary,fans:semipopular",
          "category:Restaurant,fans:semipopular,gender:F",
          "category:Restaurant,city:Calgary,fans:semipopular",
          "category:Restaurant,fans:semipopular,gender:M",
          "category:Religious Organizations,fans:semipopular,gender:F",
          "category:Religious Organizations,city:Mesa,fans:semipopular",
          "category:Religious Organizations,fans:semipopular,gender:M",
          "category:Restaurant,city:Mississauga,fans:popular",
          "category:Restaurant,city:Peoria,fans:popular",
          "category:Restaurant,city:Las Vegas,fans:popular",
          "category:Restaurant,city:Toronto,fans:semipopular,gender:F",
          "category:Restaurant,city:Phoenix,fans:semipopular,gender:F",
          "category:Restaurant,city:Las Vegas,fans:semipopular,gender:F",
          "city:Madison,fans:unpopular",
          "category:Religious Organizations,fans:unpopular",
          "category:Restaurant,fans:unpopular",
          "category:Restaurant,city:Calgary,fans:unpopular",
          "category:Restaurant,fans:unpopular,gender:F",
          "category:Restaurant,fans:unpopular,gender:M",
          "category:Religious Organizations,fans:unpopular,gender:M",
          "category:Religious Organizations,fans:unpopular,gender:F",
          "category:Religious Organizations,city:Montréal,fans:unpopular",
          "category:Pets,city:Madison,fans:unpopular",
          "category:Restaurant,city:Madison,fans:unpopular",
          "category:Education,city:Madison,fans:unpopular",
          "category:Restaurant,city:Phoenix,fans:semipopular,gender:M",
          "category:Restaurant,city:Las Vegas,fans:semipopular,gender:M",
          "category:Restaurant,city:Toronto,fans:semipopular,gender:M",
          "category:Restaurant,city:Toronto,fans:unpopular,gender:F",
          "category:Restaurant,city:Phoenix,fans:unpopular,gender:F",
          "category:Restaurant,city:Las Vegas,fans:unpopular,gender:F",
          "category:Restaurant,city:Calgary,fans:semipopular",
          "category:Education,city:Calgary,fans:semipopular",
          "category:Health & Medical,city:Calgary,fans:semipopular",
          "category:Restaurant,city:Las Vegas,fans:unpopular,gender:M",
          "category:Restaurant,city:Toronto,fans:unpopular,gender:M",
          "category:Restaurant,city:Phoenix,fans:unpopular,gender:M",
          "category:Religious Organizations,city:Las Vegas,fans:semipopular,gender:F",
          "category:Religious Organizations,city:Phoenix,fans:semipopular,gender:F",
          "category:Religious Organizations,city:Pittsburgh,fans:semipopular,gender:F",
          "category:Religious Organizations,city:Pittsburgh,fans:unpopular,gender:F",
          "category:Religious Organizations,city:Las Vegas,fans:unpopular,gender:F",
          "category:Religious Organizations,city:Phoenix,fans:unpopular,gender:F",
          "category:Religious Organizations,city:Pittsburgh,fans:semipopular,gender:M",
          "category:Religious Organizations,city:Las Vegas,fans:semipopular,gender:M",
          "category:Religious Organizations,city:Phoenix,fans:semipopular,gender:M",
          "category:Religious Organizations,city:Phoenix,fans:unpopular,gender:M",
          "category:Religious Organizations,city:Las Vegas,fans:unpopular,gender:M",
          "category:Religious Organizations,city:Pittsburgh,fans:unpopular,gender:M",
          "category:Restaurants,city:Calgary,fans:popular",
          "category:Pets,city:Calgary,fans:popular",
          "category:Public Services & Government,city:Calgary,fans:popular"
         ],
         "name": "",
         "parents": [
          "",
          "all_users:all",
          "all_users:all",
          "all_users:all",
          "fans:popular",
          "fans:popular",
          "fans:popular",
          "fans:semipopular",
          "fans:semipopular",
          "fans:semipopular",
          "category:Restaurant,fans:semipopular",
          "category:Restaurant,fans:semipopular",
          "category:Restaurant,fans:semipopular",
          "category:Religious Organizations,fans:semipopular",
          "category:Religious Organizations,fans:semipopular",
          "category:Religious Organizations,fans:semipopular",
          "category:Restaurant,fans:popular",
          "category:Restaurant,fans:popular",
          "category:Restaurant,fans:popular",
          "category:Restaurant,fans:semipopular,gender:F",
          "category:Restaurant,fans:semipopular,gender:F",
          "category:Restaurant,fans:semipopular,gender:F",
          "fans:unpopular",
          "fans:unpopular",
          "fans:unpopular",
          "category:Restaurant,fans:unpopular",
          "category:Restaurant,fans:unpopular",
          "category:Restaurant,fans:unpopular",
          "category:Religious Organizations,fans:unpopular",
          "category:Religious Organizations,fans:unpopular",
          "category:Religious Organizations,fans:unpopular",
          "city:Madison,fans:unpopular",
          "city:Madison,fans:unpopular",
          "city:Madison,fans:unpopular",
          "category:Restaurant,fans:semipopular,gender:M",
          "category:Restaurant,fans:semipopular,gender:M",
          "category:Restaurant,fans:semipopular,gender:M",
          "category:Restaurant,fans:unpopular,gender:F",
          "category:Restaurant,fans:unpopular,gender:F",
          "category:Restaurant,fans:unpopular,gender:F",
          "city:Calgary,fans:semipopular",
          "city:Calgary,fans:semipopular",
          "city:Calgary,fans:semipopular",
          "category:Restaurant,fans:unpopular,gender:M",
          "category:Restaurant,fans:unpopular,gender:M",
          "category:Restaurant,fans:unpopular,gender:M",
          "category:Religious Organizations,fans:semipopular,gender:F",
          "category:Religious Organizations,fans:semipopular,gender:F",
          "category:Religious Organizations,fans:semipopular,gender:F",
          "category:Religious Organizations,fans:unpopular,gender:F",
          "category:Religious Organizations,fans:unpopular,gender:F",
          "category:Religious Organizations,fans:unpopular,gender:F",
          "category:Religious Organizations,fans:semipopular,gender:M",
          "category:Religious Organizations,fans:semipopular,gender:M",
          "category:Religious Organizations,fans:semipopular,gender:M",
          "category:Religious Organizations,fans:unpopular,gender:M",
          "category:Religious Organizations,fans:unpopular,gender:M",
          "category:Religious Organizations,fans:unpopular,gender:M",
          "city:Calgary,fans:popular",
          "city:Calgary,fans:popular",
          "city:Calgary,fans:popular"
         ],
         "type": "treemap"
        }
       ],
       "layout": {
        "legend": {
         "tracegroupgap": 0
        },
        "margin": {
         "t": 60
        },
        "template": {
         "data": {
          "bar": [
           {
            "error_x": {
             "color": "#2a3f5f"
            },
            "error_y": {
             "color": "#2a3f5f"
            },
            "marker": {
             "line": {
              "color": "#E5ECF6",
              "width": 0.5
             },
             "pattern": {
              "fillmode": "overlay",
              "size": 10,
              "solidity": 0.2
             }
            },
            "type": "bar"
           }
          ],
          "barpolar": [
           {
            "marker": {
             "line": {
              "color": "#E5ECF6",
              "width": 0.5
             },
             "pattern": {
              "fillmode": "overlay",
              "size": 10,
              "solidity": 0.2
             }
            },
            "type": "barpolar"
           }
          ],
          "carpet": [
           {
            "aaxis": {
             "endlinecolor": "#2a3f5f",
             "gridcolor": "white",
             "linecolor": "white",
             "minorgridcolor": "white",
             "startlinecolor": "#2a3f5f"
            },
            "baxis": {
             "endlinecolor": "#2a3f5f",
             "gridcolor": "white",
             "linecolor": "white",
             "minorgridcolor": "white",
             "startlinecolor": "#2a3f5f"
            },
            "type": "carpet"
           }
          ],
          "choropleth": [
           {
            "colorbar": {
             "outlinewidth": 0,
             "ticks": ""
            },
            "type": "choropleth"
           }
          ],
          "contour": [
           {
            "colorbar": {
             "outlinewidth": 0,
             "ticks": ""
            },
            "colorscale": [
             [
              0,
              "#0d0887"
             ],
             [
              0.1111111111111111,
              "#46039f"
             ],
             [
              0.2222222222222222,
              "#7201a8"
             ],
             [
              0.3333333333333333,
              "#9c179e"
             ],
             [
              0.4444444444444444,
              "#bd3786"
             ],
             [
              0.5555555555555556,
              "#d8576b"
             ],
             [
              0.6666666666666666,
              "#ed7953"
             ],
             [
              0.7777777777777778,
              "#fb9f3a"
             ],
             [
              0.8888888888888888,
              "#fdca26"
             ],
             [
              1,
              "#f0f921"
             ]
            ],
            "type": "contour"
           }
          ],
          "contourcarpet": [
           {
            "colorbar": {
             "outlinewidth": 0,
             "ticks": ""
            },
            "type": "contourcarpet"
           }
          ],
          "heatmap": [
           {
            "colorbar": {
             "outlinewidth": 0,
             "ticks": ""
            },
            "colorscale": [
             [
              0,
              "#0d0887"
             ],
             [
              0.1111111111111111,
              "#46039f"
             ],
             [
              0.2222222222222222,
              "#7201a8"
             ],
             [
              0.3333333333333333,
              "#9c179e"
             ],
             [
              0.4444444444444444,
              "#bd3786"
             ],
             [
              0.5555555555555556,
              "#d8576b"
             ],
             [
              0.6666666666666666,
              "#ed7953"
             ],
             [
              0.7777777777777778,
              "#fb9f3a"
             ],
             [
              0.8888888888888888,
              "#fdca26"
             ],
             [
              1,
              "#f0f921"
             ]
            ],
            "type": "heatmap"
           }
          ],
          "heatmapgl": [
           {
            "colorbar": {
             "outlinewidth": 0,
             "ticks": ""
            },
            "colorscale": [
             [
              0,
              "#0d0887"
             ],
             [
              0.1111111111111111,
              "#46039f"
             ],
             [
              0.2222222222222222,
              "#7201a8"
             ],
             [
              0.3333333333333333,
              "#9c179e"
             ],
             [
              0.4444444444444444,
              "#bd3786"
             ],
             [
              0.5555555555555556,
              "#d8576b"
             ],
             [
              0.6666666666666666,
              "#ed7953"
             ],
             [
              0.7777777777777778,
              "#fb9f3a"
             ],
             [
              0.8888888888888888,
              "#fdca26"
             ],
             [
              1,
              "#f0f921"
             ]
            ],
            "type": "heatmapgl"
           }
          ],
          "histogram": [
           {
            "marker": {
             "pattern": {
              "fillmode": "overlay",
              "size": 10,
              "solidity": 0.2
             }
            },
            "type": "histogram"
           }
          ],
          "histogram2d": [
           {
            "colorbar": {
             "outlinewidth": 0,
             "ticks": ""
            },
            "colorscale": [
             [
              0,
              "#0d0887"
             ],
             [
              0.1111111111111111,
              "#46039f"
             ],
             [
              0.2222222222222222,
              "#7201a8"
             ],
             [
              0.3333333333333333,
              "#9c179e"
             ],
             [
              0.4444444444444444,
              "#bd3786"
             ],
             [
              0.5555555555555556,
              "#d8576b"
             ],
             [
              0.6666666666666666,
              "#ed7953"
             ],
             [
              0.7777777777777778,
              "#fb9f3a"
             ],
             [
              0.8888888888888888,
              "#fdca26"
             ],
             [
              1,
              "#f0f921"
             ]
            ],
            "type": "histogram2d"
           }
          ],
          "histogram2dcontour": [
           {
            "colorbar": {
             "outlinewidth": 0,
             "ticks": ""
            },
            "colorscale": [
             [
              0,
              "#0d0887"
             ],
             [
              0.1111111111111111,
              "#46039f"
             ],
             [
              0.2222222222222222,
              "#7201a8"
             ],
             [
              0.3333333333333333,
              "#9c179e"
             ],
             [
              0.4444444444444444,
              "#bd3786"
             ],
             [
              0.5555555555555556,
              "#d8576b"
             ],
             [
              0.6666666666666666,
              "#ed7953"
             ],
             [
              0.7777777777777778,
              "#fb9f3a"
             ],
             [
              0.8888888888888888,
              "#fdca26"
             ],
             [
              1,
              "#f0f921"
             ]
            ],
            "type": "histogram2dcontour"
           }
          ],
          "mesh3d": [
           {
            "colorbar": {
             "outlinewidth": 0,
             "ticks": ""
            },
            "type": "mesh3d"
           }
          ],
          "parcoords": [
           {
            "line": {
             "colorbar": {
              "outlinewidth": 0,
              "ticks": ""
             }
            },
            "type": "parcoords"
           }
          ],
          "pie": [
           {
            "automargin": true,
            "type": "pie"
           }
          ],
          "scatter": [
           {
            "fillpattern": {
             "fillmode": "overlay",
             "size": 10,
             "solidity": 0.2
            },
            "type": "scatter"
           }
          ],
          "scatter3d": [
           {
            "line": {
             "colorbar": {
              "outlinewidth": 0,
              "ticks": ""
             }
            },
            "marker": {
             "colorbar": {
              "outlinewidth": 0,
              "ticks": ""
             }
            },
            "type": "scatter3d"
           }
          ],
          "scattercarpet": [
           {
            "marker": {
             "colorbar": {
              "outlinewidth": 0,
              "ticks": ""
             }
            },
            "type": "scattercarpet"
           }
          ],
          "scattergeo": [
           {
            "marker": {
             "colorbar": {
              "outlinewidth": 0,
              "ticks": ""
             }
            },
            "type": "scattergeo"
           }
          ],
          "scattergl": [
           {
            "marker": {
             "colorbar": {
              "outlinewidth": 0,
              "ticks": ""
             }
            },
            "type": "scattergl"
           }
          ],
          "scattermapbox": [
           {
            "marker": {
             "colorbar": {
              "outlinewidth": 0,
              "ticks": ""
             }
            },
            "type": "scattermapbox"
           }
          ],
          "scatterpolar": [
           {
            "marker": {
             "colorbar": {
              "outlinewidth": 0,
              "ticks": ""
             }
            },
            "type": "scatterpolar"
           }
          ],
          "scatterpolargl": [
           {
            "marker": {
             "colorbar": {
              "outlinewidth": 0,
              "ticks": ""
             }
            },
            "type": "scatterpolargl"
           }
          ],
          "scatterternary": [
           {
            "marker": {
             "colorbar": {
              "outlinewidth": 0,
              "ticks": ""
             }
            },
            "type": "scatterternary"
           }
          ],
          "surface": [
           {
            "colorbar": {
             "outlinewidth": 0,
             "ticks": ""
            },
            "colorscale": [
             [
              0,
              "#0d0887"
             ],
             [
              0.1111111111111111,
              "#46039f"
             ],
             [
              0.2222222222222222,
              "#7201a8"
             ],
             [
              0.3333333333333333,
              "#9c179e"
             ],
             [
              0.4444444444444444,
              "#bd3786"
             ],
             [
              0.5555555555555556,
              "#d8576b"
             ],
             [
              0.6666666666666666,
              "#ed7953"
             ],
             [
              0.7777777777777778,
              "#fb9f3a"
             ],
             [
              0.8888888888888888,
              "#fdca26"
             ],
             [
              1,
              "#f0f921"
             ]
            ],
            "type": "surface"
           }
          ],
          "table": [
           {
            "cells": {
             "fill": {
              "color": "#EBF0F8"
             },
             "line": {
              "color": "white"
             }
            },
            "header": {
             "fill": {
              "color": "#C8D4E3"
             },
             "line": {
              "color": "white"
             }
            },
            "type": "table"
           }
          ]
         },
         "layout": {
          "annotationdefaults": {
           "arrowcolor": "#2a3f5f",
           "arrowhead": 0,
           "arrowwidth": 1
          },
          "autotypenumbers": "strict",
          "coloraxis": {
           "colorbar": {
            "outlinewidth": 0,
            "ticks": ""
           }
          },
          "colorscale": {
           "diverging": [
            [
             0,
             "#8e0152"
            ],
            [
             0.1,
             "#c51b7d"
            ],
            [
             0.2,
             "#de77ae"
            ],
            [
             0.3,
             "#f1b6da"
            ],
            [
             0.4,
             "#fde0ef"
            ],
            [
             0.5,
             "#f7f7f7"
            ],
            [
             0.6,
             "#e6f5d0"
            ],
            [
             0.7,
             "#b8e186"
            ],
            [
             0.8,
             "#7fbc41"
            ],
            [
             0.9,
             "#4d9221"
            ],
            [
             1,
             "#276419"
            ]
           ],
           "sequential": [
            [
             0,
             "#0d0887"
            ],
            [
             0.1111111111111111,
             "#46039f"
            ],
            [
             0.2222222222222222,
             "#7201a8"
            ],
            [
             0.3333333333333333,
             "#9c179e"
            ],
            [
             0.4444444444444444,
             "#bd3786"
            ],
            [
             0.5555555555555556,
             "#d8576b"
            ],
            [
             0.6666666666666666,
             "#ed7953"
            ],
            [
             0.7777777777777778,
             "#fb9f3a"
            ],
            [
             0.8888888888888888,
             "#fdca26"
            ],
            [
             1,
             "#f0f921"
            ]
           ],
           "sequentialminus": [
            [
             0,
             "#0d0887"
            ],
            [
             0.1111111111111111,
             "#46039f"
            ],
            [
             0.2222222222222222,
             "#7201a8"
            ],
            [
             0.3333333333333333,
             "#9c179e"
            ],
            [
             0.4444444444444444,
             "#bd3786"
            ],
            [
             0.5555555555555556,
             "#d8576b"
            ],
            [
             0.6666666666666666,
             "#ed7953"
            ],
            [
             0.7777777777777778,
             "#fb9f3a"
            ],
            [
             0.8888888888888888,
             "#fdca26"
            ],
            [
             1,
             "#f0f921"
            ]
           ]
          },
          "colorway": [
           "#636efa",
           "#EF553B",
           "#00cc96",
           "#ab63fa",
           "#FFA15A",
           "#19d3f3",
           "#FF6692",
           "#B6E880",
           "#FF97FF",
           "#FECB52"
          ],
          "font": {
           "color": "#2a3f5f"
          },
          "geo": {
           "bgcolor": "white",
           "lakecolor": "white",
           "landcolor": "#E5ECF6",
           "showlakes": true,
           "showland": true,
           "subunitcolor": "white"
          },
          "hoverlabel": {
           "align": "left"
          },
          "hovermode": "closest",
          "mapbox": {
           "style": "light"
          },
          "paper_bgcolor": "white",
          "plot_bgcolor": "#E5ECF6",
          "polar": {
           "angularaxis": {
            "gridcolor": "white",
            "linecolor": "white",
            "ticks": ""
           },
           "bgcolor": "#E5ECF6",
           "radialaxis": {
            "gridcolor": "white",
            "linecolor": "white",
            "ticks": ""
           }
          },
          "scene": {
           "xaxis": {
            "backgroundcolor": "#E5ECF6",
            "gridcolor": "white",
            "gridwidth": 2,
            "linecolor": "white",
            "showbackground": true,
            "ticks": "",
            "zerolinecolor": "white"
           },
           "yaxis": {
            "backgroundcolor": "#E5ECF6",
            "gridcolor": "white",
            "gridwidth": 2,
            "linecolor": "white",
            "showbackground": true,
            "ticks": "",
            "zerolinecolor": "white"
           },
           "zaxis": {
            "backgroundcolor": "#E5ECF6",
            "gridcolor": "white",
            "gridwidth": 2,
            "linecolor": "white",
            "showbackground": true,
            "ticks": "",
            "zerolinecolor": "white"
           }
          },
          "shapedefaults": {
           "line": {
            "color": "#2a3f5f"
           }
          },
          "ternary": {
           "aaxis": {
            "gridcolor": "white",
            "linecolor": "white",
            "ticks": ""
           },
           "baxis": {
            "gridcolor": "white",
            "linecolor": "white",
            "ticks": ""
           },
           "bgcolor": "#E5ECF6",
           "caxis": {
            "gridcolor": "white",
            "linecolor": "white",
            "ticks": ""
           }
          },
          "title": {
           "x": 0.05
          },
          "xaxis": {
           "automargin": true,
           "gridcolor": "white",
           "linecolor": "white",
           "ticks": "",
           "title": {
            "standoff": 15
           },
           "zerolinecolor": "white",
           "zerolinewidth": 2
          },
          "yaxis": {
           "automargin": true,
           "gridcolor": "white",
           "linecolor": "white",
           "ticks": "",
           "title": {
            "standoff": 15
           },
           "zerolinecolor": "white",
           "zerolinewidth": 2
          }
         }
        }
       }
      }
     },
     "metadata": {},
     "output_type": "display_data"
    }
   ],
   "source": [
    "yelp_hs = hr.HypothesisRow.df_to_list(yelp_df)\n",
    "yelp_treemap = tm.make_treemap_from_range(yelp_hs, 0, 20)\n",
    "yelp_treemap"
   ]
  }
 ],
 "metadata": {
  "kernelspec": {
   "display_name": "Python 3",
   "language": "python",
   "name": "python3"
  },
  "language_info": {
   "codemirror_mode": {
    "name": "ipython",
    "version": 3
   },
   "file_extension": ".py",
   "mimetype": "text/x-python",
   "name": "python",
   "nbconvert_exporter": "python",
   "pygments_lexer": "ipython3",
   "version": "3.12.8"
  }
 },
 "nbformat": 4,
 "nbformat_minor": 2
}
