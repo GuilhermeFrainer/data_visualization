{
 "cells": [
  {
   "cell_type": "markdown",
   "metadata": {},
   "source": [
    "O objetivo aqui é fazer o treemap funcionar quando há maior \"profundidade\" para os dados"
   ]
  },
  {
   "cell_type": "code",
   "execution_count": 1,
   "metadata": {},
   "outputs": [],
   "source": [
    "import plotly.express as px\n",
    "import polars as pl\n",
    "import plotly\n",
    "%run ../hypothesis_row_copy.py\n",
    "\n",
    "DATA_DIR = \"../data/\"\n",
    "DATA_FILE = \"rl_vs_greedy_stepwise_results.csv\""
   ]
  },
  {
   "cell_type": "code",
   "execution_count": 2,
   "metadata": {},
   "outputs": [
    {
     "data": {
      "text/html": [
       "<div><style>\n",
       ".dataframe > thead > tr,\n",
       ".dataframe > tbody > tr {\n",
       "  text-align: right;\n",
       "  white-space: pre-wrap;\n",
       "}\n",
       "</style>\n",
       "<small>shape: (70, 8)</small><table border=\"1\" class=\"dataframe\"><thead><tr><th>algorithm</th><th>step</th><th>g_in</th><th>h</th><th>G_out</th><th>coverage</th><th>diversity</th><th>normalized_diversity</th></tr><tr><td>str</td><td>i64</td><td>str</td><td>str</td><td>str</td><td>f64</td><td>f64</td><td>f64</td></tr></thead><tbody><tr><td>&quot;Greedy-HEP&quot;</td><td>0</td><td>&quot;All users&quot;</td><td>&quot;Mean is greater than 3.5&quot;</td><td>&quot;runtime_minutes:Long, location…</td><td>1.0</td><td>2.99255</td><td>0.997517</td></tr><tr><td>&quot;Greedy-HEP&quot;</td><td>1</td><td>&quot;runtime_minutes:Long&quot;</td><td>&quot;Mean is greater than 3.5&quot;</td><td>&quot;location:HI|runtime_minutes:Lo…</td><td>0.999503</td><td>2.992712</td><td>0.997571</td></tr><tr><td>&quot;Greedy-HEP&quot;</td><td>2</td><td>&quot;genre:Drama|runtime_minutes:Lo…</td><td>&quot;Mean is greater than 3.5&quot;</td><td>&quot;genre:Drama|runtime_minutes:Lo…</td><td>0.989399</td><td>2.992968</td><td>0.997656</td></tr><tr><td>&quot;Greedy-HEP&quot;</td><td>3</td><td>&quot;genre:Drama|runtime_minutes:Lo…</td><td>&quot;Mean is greater than 3.5&quot;</td><td>&quot;gender:F|genre:Drama|runtime_m…</td><td>1.0</td><td>2.993106</td><td>0.997702</td></tr><tr><td>&quot;Greedy-HEP&quot;</td><td>4</td><td>&quot;gender:M|genre:Drama|runtime_m…</td><td>&quot;Mean is greater than 3.5&quot;</td><td>&quot;age:25-34|gender:M|genre:Drama…</td><td>0.740014</td><td>3.0</td><td>1.0</td></tr><tr><td>&hellip;</td><td>&hellip;</td><td>&hellip;</td><td>&hellip;</td><td>&hellip;</td><td>&hellip;</td><td>&hellip;</td><td>&hellip;</td></tr><tr><td>&quot;RL-HEP&quot;</td><td>30</td><td>&quot;age:50-55|location:MN&quot;</td><td>&quot;Mean is greater than 3.5&quot;</td><td>&quot;age:50-55|genre:Action|locatio…</td><td>1.0</td><td>1.158901</td><td>0.3863</td></tr><tr><td>&quot;RL-HEP&quot;</td><td>31</td><td>&quot;age:50-55|genre:Action|locatio…</td><td>&quot;Mean is greater than 3.5&quot;</td><td>&quot;age:50-55|gender:M|genre:Actio…</td><td>1.0</td><td>0.322581</td><td>0.322581</td></tr><tr><td>&quot;RL-HEP&quot;</td><td>32</td><td>&quot;genre:Drama&quot;</td><td>&quot;Mean is greater than 3.5&quot;</td><td>&quot;genre:Drama|location:NE, genre…</td><td>1.0</td><td>2.993043</td><td>0.997681</td></tr><tr><td>&quot;RL-HEP&quot;</td><td>33</td><td>&quot;genre:Drama|location:NE&quot;</td><td>&quot;Mean is greater than 3.5&quot;</td><td>&quot;genre:Drama|location:NE|runtim…</td><td>1.0</td><td>0.0</td><td>0.0</td></tr><tr><td>&quot;RL-HEP&quot;</td><td>34</td><td>&quot;genre:Drama|location:NE|runtim…</td><td>&quot;Mean is greater than 3.5&quot;</td><td>null</td><td>0.0</td><td>0.0</td><td>0.0</td></tr></tbody></table></div>"
      ],
      "text/plain": [
       "shape: (70, 8)\n",
       "┌────────────┬──────┬──────────────┬──────────┬──────────────┬──────────┬───────────┬──────────────┐\n",
       "│ algorithm  ┆ step ┆ g_in         ┆ h        ┆ G_out        ┆ coverage ┆ diversity ┆ normalized_d │\n",
       "│ ---        ┆ ---  ┆ ---          ┆ ---      ┆ ---          ┆ ---      ┆ ---       ┆ iversity     │\n",
       "│ str        ┆ i64  ┆ str          ┆ str      ┆ str          ┆ f64      ┆ f64       ┆ ---          │\n",
       "│            ┆      ┆              ┆          ┆              ┆          ┆           ┆ f64          │\n",
       "╞════════════╪══════╪══════════════╪══════════╪══════════════╪══════════╪═══════════╪══════════════╡\n",
       "│ Greedy-HEP ┆ 0    ┆ All users    ┆ Mean is  ┆ runtime_minu ┆ 1.0      ┆ 2.99255   ┆ 0.997517     │\n",
       "│            ┆      ┆              ┆ greater  ┆ tes:Long,    ┆          ┆           ┆              │\n",
       "│            ┆      ┆              ┆ than 3.5 ┆ location…    ┆          ┆           ┆              │\n",
       "│ Greedy-HEP ┆ 1    ┆ runtime_minu ┆ Mean is  ┆ location:HI| ┆ 0.999503 ┆ 2.992712  ┆ 0.997571     │\n",
       "│            ┆      ┆ tes:Long     ┆ greater  ┆ runtime_minu ┆          ┆           ┆              │\n",
       "│            ┆      ┆              ┆ than 3.5 ┆ tes:Lo…      ┆          ┆           ┆              │\n",
       "│ Greedy-HEP ┆ 2    ┆ genre:Drama| ┆ Mean is  ┆ genre:Drama| ┆ 0.989399 ┆ 2.992968  ┆ 0.997656     │\n",
       "│            ┆      ┆ runtime_minu ┆ greater  ┆ runtime_minu ┆          ┆           ┆              │\n",
       "│            ┆      ┆ tes:Lo…      ┆ than 3.5 ┆ tes:Lo…      ┆          ┆           ┆              │\n",
       "│ Greedy-HEP ┆ 3    ┆ genre:Drama| ┆ Mean is  ┆ gender:F|gen ┆ 1.0      ┆ 2.993106  ┆ 0.997702     │\n",
       "│            ┆      ┆ runtime_minu ┆ greater  ┆ re:Drama|run ┆          ┆           ┆              │\n",
       "│            ┆      ┆ tes:Lo…      ┆ than 3.5 ┆ time_m…      ┆          ┆           ┆              │\n",
       "│ Greedy-HEP ┆ 4    ┆ gender:M|gen ┆ Mean is  ┆ age:25-34|ge ┆ 0.740014 ┆ 3.0       ┆ 1.0          │\n",
       "│            ┆      ┆ re:Drama|run ┆ greater  ┆ nder:M|genre ┆          ┆           ┆              │\n",
       "│            ┆      ┆ time_m…      ┆ than 3.5 ┆ :Drama…      ┆          ┆           ┆              │\n",
       "│ …          ┆ …    ┆ …            ┆ …        ┆ …            ┆ …        ┆ …         ┆ …            │\n",
       "│ RL-HEP     ┆ 30   ┆ age:50-55|lo ┆ Mean is  ┆ age:50-55|ge ┆ 1.0      ┆ 1.158901  ┆ 0.3863       │\n",
       "│            ┆      ┆ cation:MN    ┆ greater  ┆ nre:Action|l ┆          ┆           ┆              │\n",
       "│            ┆      ┆              ┆ than 3.5 ┆ ocatio…      ┆          ┆           ┆              │\n",
       "│ RL-HEP     ┆ 31   ┆ age:50-55|ge ┆ Mean is  ┆ age:50-55|ge ┆ 1.0      ┆ 0.322581  ┆ 0.322581     │\n",
       "│            ┆      ┆ nre:Action|l ┆ greater  ┆ nder:M|genre ┆          ┆           ┆              │\n",
       "│            ┆      ┆ ocatio…      ┆ than 3.5 ┆ :Actio…      ┆          ┆           ┆              │\n",
       "│ RL-HEP     ┆ 32   ┆ genre:Drama  ┆ Mean is  ┆ genre:Drama| ┆ 1.0      ┆ 2.993043  ┆ 0.997681     │\n",
       "│            ┆      ┆              ┆ greater  ┆ location:NE, ┆          ┆           ┆              │\n",
       "│            ┆      ┆              ┆ than 3.5 ┆ genre…       ┆          ┆           ┆              │\n",
       "│ RL-HEP     ┆ 33   ┆ genre:Drama| ┆ Mean is  ┆ genre:Drama| ┆ 1.0      ┆ 0.0       ┆ 0.0          │\n",
       "│            ┆      ┆ location:NE  ┆ greater  ┆ location:NE| ┆          ┆           ┆              │\n",
       "│            ┆      ┆              ┆ than 3.5 ┆ runtim…      ┆          ┆           ┆              │\n",
       "│ RL-HEP     ┆ 34   ┆ genre:Drama| ┆ Mean is  ┆ null         ┆ 0.0      ┆ 0.0       ┆ 0.0          │\n",
       "│            ┆      ┆ location:NE| ┆ greater  ┆              ┆          ┆           ┆              │\n",
       "│            ┆      ┆ runtim…      ┆ than 3.5 ┆              ┆          ┆           ┆              │\n",
       "└────────────┴──────┴──────────────┴──────────┴──────────────┴──────────┴───────────┴──────────────┘"
      ]
     },
     "execution_count": 2,
     "metadata": {},
     "output_type": "execute_result"
    }
   ],
   "source": [
    "df = pl.read_csv(DATA_DIR + DATA_FILE)\n",
    "df"
   ]
  },
  {
   "cell_type": "code",
   "execution_count": 3,
   "metadata": {},
   "outputs": [
    {
     "data": {
      "text/plain": [
       "[<__main__.HypothesisRow at 0x211254cb770>,\n",
       " <__main__.HypothesisRow at 0x21106755460>]"
      ]
     },
     "execution_count": 3,
     "metadata": {},
     "output_type": "execute_result"
    }
   ],
   "source": [
    "hypotheses = HypothesisRow.df_to_list(df[1:3])\n",
    "hypotheses"
   ]
  },
  {
   "cell_type": "code",
   "execution_count": 5,
   "metadata": {},
   "outputs": [
    {
     "data": {
      "text/html": [
       "<div><style>\n",
       ".dataframe > thead > tr,\n",
       ".dataframe > tbody > tr {\n",
       "  text-align: right;\n",
       "  white-space: pre-wrap;\n",
       "}\n",
       "</style>\n",
       "<small>shape: (4, 2)</small><table border=\"1\" class=\"dataframe\"><thead><tr><th>parent</th><th>child</th></tr><tr><td>str</td><td>str</td></tr></thead><tbody><tr><td>&quot;&quot;</td><td>&quot;genre:Drama,runtime_minutes:Lo…</td></tr><tr><td>&quot;genre:Drama,runtime_minutes:Lo…</td><td>&quot;genre:Drama,runtime_minutes:Lo…</td></tr><tr><td>&quot;genre:Drama,runtime_minutes:Lo…</td><td>&quot;genre:Drama,location:NE,runtim…</td></tr><tr><td>&quot;genre:Drama,runtime_minutes:Lo…</td><td>&quot;genre:Drama,location:AL,runtim…</td></tr></tbody></table></div>"
      ],
      "text/plain": [
       "shape: (4, 2)\n",
       "┌─────────────────────────────────┬─────────────────────────────────┐\n",
       "│ parent                          ┆ child                           │\n",
       "│ ---                             ┆ ---                             │\n",
       "│ str                             ┆ str                             │\n",
       "╞═════════════════════════════════╪═════════════════════════════════╡\n",
       "│                                 ┆ genre:Drama,runtime_minutes:Lo… │\n",
       "│ genre:Drama,runtime_minutes:Lo… ┆ genre:Drama,runtime_minutes:Lo… │\n",
       "│ genre:Drama,runtime_minutes:Lo… ┆ genre:Drama,location:NE,runtim… │\n",
       "│ genre:Drama,runtime_minutes:Lo… ┆ genre:Drama,location:AL,runtim… │\n",
       "└─────────────────────────────────┴─────────────────────────────────┘"
      ]
     },
     "execution_count": 5,
     "metadata": {},
     "output_type": "execute_result"
    }
   ],
   "source": [
    "hypotheses[1].get_parent_child_df()"
   ]
  },
  {
   "cell_type": "code",
   "execution_count": 6,
   "metadata": {},
   "outputs": [
    {
     "data": {
      "text/html": [
       "<div><style>\n",
       ".dataframe > thead > tr,\n",
       ".dataframe > tbody > tr {\n",
       "  text-align: right;\n",
       "  white-space: pre-wrap;\n",
       "}\n",
       "</style>\n",
       "<small>shape: (1, 2)</small><table border=\"1\" class=\"dataframe\"><thead><tr><th>parent</th><th>child</th></tr><tr><td>str</td><td>str</td></tr></thead><tbody><tr><td>&quot;runtime_minutes:Long&quot;</td><td>&quot;genre:Drama,runtime_minutes:Lo…</td></tr></tbody></table></div>"
      ],
      "text/plain": [
       "shape: (1, 2)\n",
       "┌──────────────────────┬─────────────────────────────────┐\n",
       "│ parent               ┆ child                           │\n",
       "│ ---                  ┆ ---                             │\n",
       "│ str                  ┆ str                             │\n",
       "╞══════════════════════╪═════════════════════════════════╡\n",
       "│ runtime_minutes:Long ┆ genre:Drama,runtime_minutes:Lo… │\n",
       "└──────────────────────┴─────────────────────────────────┘"
      ]
     },
     "execution_count": 6,
     "metadata": {},
     "output_type": "execute_result"
    }
   ],
   "source": [
    "new_df = hypotheses[0].get_parent_child_df()\n",
    "# Extracts subroot from HypothesisRow\n",
    "subroot = hypotheses[1].get_parent_child_df()[\"child\"][0]\n",
    "filtered_df = new_df.filter(pl.col(\"child\") == subroot)\n",
    "filtered_df"
   ]
  },
  {
   "cell_type": "code",
   "execution_count": 7,
   "metadata": {},
   "outputs": [
    {
     "data": {
      "text/html": [
       "<div><style>\n",
       ".dataframe > thead > tr,\n",
       ".dataframe > tbody > tr {\n",
       "  text-align: right;\n",
       "  white-space: pre-wrap;\n",
       "}\n",
       "</style>\n",
       "<small>shape: (7, 2)</small><table border=\"1\" class=\"dataframe\"><thead><tr><th>parent</th><th>child</th></tr><tr><td>str</td><td>str</td></tr></thead><tbody><tr><td>&quot;&quot;</td><td>&quot;runtime_minutes:Long&quot;</td></tr><tr><td>&quot;runtime_minutes:Long&quot;</td><td>&quot;location:HI,runtime_minutes:Lo…</td></tr><tr><td>&quot;runtime_minutes:Long&quot;</td><td>&quot;location:RI,runtime_minutes:Lo…</td></tr><tr><td>&quot;runtime_minutes:Long&quot;</td><td>&quot;genre:Drama,runtime_minutes:Lo…</td></tr><tr><td>&quot;genre:Drama,runtime_minutes:Lo…</td><td>&quot;genre:Drama,runtime_minutes:Lo…</td></tr><tr><td>&quot;genre:Drama,runtime_minutes:Lo…</td><td>&quot;genre:Drama,location:NE,runtim…</td></tr><tr><td>&quot;genre:Drama,runtime_minutes:Lo…</td><td>&quot;genre:Drama,location:AL,runtim…</td></tr></tbody></table></div>"
      ],
      "text/plain": [
       "shape: (7, 2)\n",
       "┌─────────────────────────────────┬─────────────────────────────────┐\n",
       "│ parent                          ┆ child                           │\n",
       "│ ---                             ┆ ---                             │\n",
       "│ str                             ┆ str                             │\n",
       "╞═════════════════════════════════╪═════════════════════════════════╡\n",
       "│                                 ┆ runtime_minutes:Long            │\n",
       "│ runtime_minutes:Long            ┆ location:HI,runtime_minutes:Lo… │\n",
       "│ runtime_minutes:Long            ┆ location:RI,runtime_minutes:Lo… │\n",
       "│ runtime_minutes:Long            ┆ genre:Drama,runtime_minutes:Lo… │\n",
       "│ genre:Drama,runtime_minutes:Lo… ┆ genre:Drama,runtime_minutes:Lo… │\n",
       "│ genre:Drama,runtime_minutes:Lo… ┆ genre:Drama,location:NE,runtim… │\n",
       "│ genre:Drama,runtime_minutes:Lo… ┆ genre:Drama,location:AL,runtim… │\n",
       "└─────────────────────────────────┴─────────────────────────────────┘"
      ]
     },
     "execution_count": 7,
     "metadata": {},
     "output_type": "execute_result"
    }
   ],
   "source": [
    "# Adds a subroot to the DataFrame\n",
    "def add_subroot_to_df(df: pl.DataFrame, subroot: HypothesisRow) -> pl.DataFrame:\n",
    "    subroot_df = subroot.get_parent_child_df()\n",
    "    subroot_name = subroot_df[\"child\"][0]\n",
    "    filtered_df = df.filter(pl.col(\"child\") == subroot_name)\n",
    "    if len(filtered_df) == 0:\n",
    "        return pl.concat([df, subroot_df])\n",
    "    else:\n",
    "        return pl.concat([df, subroot_df[1:]])\n",
    "\n",
    "test_df = add_subroot_to_df(new_df, hypotheses[1])\n",
    "test_df\n"
   ]
  },
  {
   "cell_type": "code",
   "execution_count": null,
   "metadata": {},
   "outputs": [],
   "source": [
    "fig = px.treemap(names=test_df[\"child\"], parents=test_df[\"parent\"])\n",
    "fig.show()"
   ]
  }
 ],
 "metadata": {
  "kernelspec": {
   "display_name": "Python 3",
   "language": "python",
   "name": "python3"
  },
  "language_info": {
   "codemirror_mode": {
    "name": "ipython",
    "version": 3
   },
   "file_extension": ".py",
   "mimetype": "text/x-python",
   "name": "python",
   "nbconvert_exporter": "python",
   "pygments_lexer": "ipython3",
   "version": "3.12.8"
  }
 },
 "nbformat": 4,
 "nbformat_minor": 2
}
