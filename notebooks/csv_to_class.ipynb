{
 "cells": [
  {
   "cell_type": "markdown",
   "metadata": {},
   "source": [
    "This file's objective is to prototype an internal representation of the data for ease of use."
   ]
  },
  {
   "cell_type": "code",
   "execution_count": 1,
   "metadata": {},
   "outputs": [],
   "source": [
    "import polars as pl\n",
    "\n",
    "DATA_DIR = \"../data/\"\n",
    "FILE_PATH = \"alpha_investing_new.csv\""
   ]
  },
  {
   "cell_type": "code",
   "execution_count": 2,
   "metadata": {},
   "outputs": [
    {
     "data": {
      "text/html": [
       "<div><style>\n",
       ".dataframe > thead > tr,\n",
       ".dataframe > tbody > tr {\n",
       "  text-align: right;\n",
       "  white-space: pre-wrap;\n",
       "}\n",
       "</style>\n",
       "<small>shape: (40, 10)</small><table border=\"1\" class=\"dataframe\"><thead><tr><th>algorithm</th><th>n</th><th>g_in</th><th>h</th><th>G_out</th><th>coverage</th><th>diversity</th><th>power</th><th>fdr</th><th>time</th></tr><tr><td>str</td><td>i64</td><td>str</td><td>str</td><td>str</td><td>f64</td><td>f64</td><td>f64</td><td>f64</td><td>f64</td></tr></thead><tbody><tr><td>&quot;covdiv_alpha&quot;</td><td>1</td><td>&quot;gender:F&quot;</td><td>&quot;Mean is greater than 3.9&quot;</td><td>&quot;gender:F|year:50s&quot;</td><td>0.681685</td><td>0.0</td><td>1.0</td><td>0.0</td><td>1.814997</td></tr><tr><td>&quot;covdiv_alpha&quot;</td><td>2</td><td>&quot;gender:F&quot;</td><td>&quot;Mean is greater than 3.9&quot;</td><td>&quot;gender:F|year:50s, gender:F|ru…</td><td>0.725571</td><td>0.695968</td><td>1.0</td><td>0.0</td><td>2.036166</td></tr><tr><td>&quot;covdiv_alpha&quot;</td><td>3</td><td>&quot;gender:F&quot;</td><td>&quot;Mean is greater than 3.9&quot;</td><td>&quot;gender:F|runtime_minutes:Short…</td><td>0.761849</td><td>1.983853</td><td>1.0</td><td>0.0</td><td>1.968691</td></tr><tr><td>&quot;covdiv_alpha&quot;</td><td>4</td><td>&quot;gender:F&quot;</td><td>&quot;Mean is greater than 3.9&quot;</td><td>&quot;gender:F|runtime_minutes:Short…</td><td>0.854886</td><td>3.694056</td><td>1.0</td><td>0.0</td><td>2.120133</td></tr><tr><td>&quot;covdiv_alpha&quot;</td><td>5</td><td>&quot;gender:F&quot;</td><td>&quot;Mean is greater than 3.9&quot;</td><td>&quot;gender:F|year:30s, gender:F|ru…</td><td>0.873025</td><td>5.645222</td><td>1.0</td><td>0.0</td><td>2.093583</td></tr><tr><td>&hellip;</td><td>&hellip;</td><td>&hellip;</td><td>&hellip;</td><td>&hellip;</td><td>&hellip;</td><td>&hellip;</td><td>&hellip;</td><td>&hellip;</td><td>&hellip;</td></tr><tr><td>&quot;cover_alpha&quot;</td><td>16</td><td>&quot;gender:F&quot;</td><td>&quot;Mean is greater than 3.9&quot;</td><td>&quot;gender:F|year:50s, gender:F|ru…</td><td>0.89175</td><td>7.9206</td><td>1.0</td><td>0.0</td><td>2.142911</td></tr><tr><td>&quot;cover_alpha&quot;</td><td>17</td><td>&quot;gender:F&quot;</td><td>&quot;Mean is greater than 3.9&quot;</td><td>&quot;gender:F|runtime_minutes:Short…</td><td>0.89175</td><td>7.9206</td><td>1.0</td><td>0.0</td><td>2.068365</td></tr><tr><td>&quot;cover_alpha&quot;</td><td>18</td><td>&quot;gender:F&quot;</td><td>&quot;Mean is greater than 3.9&quot;</td><td>&quot;gender:F|runtime_minutes:Very …</td><td>0.89175</td><td>7.9206</td><td>1.0</td><td>0.0</td><td>2.158641</td></tr><tr><td>&quot;cover_alpha&quot;</td><td>19</td><td>&quot;gender:F&quot;</td><td>&quot;Mean is greater than 3.9&quot;</td><td>&quot;gender:F|runtime_minutes:Very …</td><td>0.89175</td><td>7.9206</td><td>1.0</td><td>0.0</td><td>2.093523</td></tr><tr><td>&quot;cover_alpha&quot;</td><td>20</td><td>&quot;gender:F&quot;</td><td>&quot;Mean is greater than 3.9&quot;</td><td>&quot;gender:F|year:40s, gender:F|ye…</td><td>0.89175</td><td>7.9206</td><td>1.0</td><td>0.0</td><td>2.054105</td></tr></tbody></table></div>"
      ],
      "text/plain": [
       "shape: (40, 10)\n",
       "┌──────────────┬─────┬──────────┬──────────────────────┬───┬───────────┬───────┬─────┬──────────┐\n",
       "│ algorithm    ┆ n   ┆ g_in     ┆ h                    ┆ … ┆ diversity ┆ power ┆ fdr ┆ time     │\n",
       "│ ---          ┆ --- ┆ ---      ┆ ---                  ┆   ┆ ---       ┆ ---   ┆ --- ┆ ---      │\n",
       "│ str          ┆ i64 ┆ str      ┆ str                  ┆   ┆ f64       ┆ f64   ┆ f64 ┆ f64      │\n",
       "╞══════════════╪═════╪══════════╪══════════════════════╪═══╪═══════════╪═══════╪═════╪══════════╡\n",
       "│ covdiv_alpha ┆ 1   ┆ gender:F ┆ Mean is greater than ┆ … ┆ 0.0       ┆ 1.0   ┆ 0.0 ┆ 1.814997 │\n",
       "│              ┆     ┆          ┆ 3.9                  ┆   ┆           ┆       ┆     ┆          │\n",
       "│ covdiv_alpha ┆ 2   ┆ gender:F ┆ Mean is greater than ┆ … ┆ 0.695968  ┆ 1.0   ┆ 0.0 ┆ 2.036166 │\n",
       "│              ┆     ┆          ┆ 3.9                  ┆   ┆           ┆       ┆     ┆          │\n",
       "│ covdiv_alpha ┆ 3   ┆ gender:F ┆ Mean is greater than ┆ … ┆ 1.983853  ┆ 1.0   ┆ 0.0 ┆ 1.968691 │\n",
       "│              ┆     ┆          ┆ 3.9                  ┆   ┆           ┆       ┆     ┆          │\n",
       "│ covdiv_alpha ┆ 4   ┆ gender:F ┆ Mean is greater than ┆ … ┆ 3.694056  ┆ 1.0   ┆ 0.0 ┆ 2.120133 │\n",
       "│              ┆     ┆          ┆ 3.9                  ┆   ┆           ┆       ┆     ┆          │\n",
       "│ covdiv_alpha ┆ 5   ┆ gender:F ┆ Mean is greater than ┆ … ┆ 5.645222  ┆ 1.0   ┆ 0.0 ┆ 2.093583 │\n",
       "│              ┆     ┆          ┆ 3.9                  ┆   ┆           ┆       ┆     ┆          │\n",
       "│ …            ┆ …   ┆ …        ┆ …                    ┆ … ┆ …         ┆ …     ┆ …   ┆ …        │\n",
       "│ cover_alpha  ┆ 16  ┆ gender:F ┆ Mean is greater than ┆ … ┆ 7.9206    ┆ 1.0   ┆ 0.0 ┆ 2.142911 │\n",
       "│              ┆     ┆          ┆ 3.9                  ┆   ┆           ┆       ┆     ┆          │\n",
       "│ cover_alpha  ┆ 17  ┆ gender:F ┆ Mean is greater than ┆ … ┆ 7.9206    ┆ 1.0   ┆ 0.0 ┆ 2.068365 │\n",
       "│              ┆     ┆          ┆ 3.9                  ┆   ┆           ┆       ┆     ┆          │\n",
       "│ cover_alpha  ┆ 18  ┆ gender:F ┆ Mean is greater than ┆ … ┆ 7.9206    ┆ 1.0   ┆ 0.0 ┆ 2.158641 │\n",
       "│              ┆     ┆          ┆ 3.9                  ┆   ┆           ┆       ┆     ┆          │\n",
       "│ cover_alpha  ┆ 19  ┆ gender:F ┆ Mean is greater than ┆ … ┆ 7.9206    ┆ 1.0   ┆ 0.0 ┆ 2.093523 │\n",
       "│              ┆     ┆          ┆ 3.9                  ┆   ┆           ┆       ┆     ┆          │\n",
       "│ cover_alpha  ┆ 20  ┆ gender:F ┆ Mean is greater than ┆ … ┆ 7.9206    ┆ 1.0   ┆ 0.0 ┆ 2.054105 │\n",
       "│              ┆     ┆          ┆ 3.9                  ┆   ┆           ┆       ┆     ┆          │\n",
       "└──────────────┴─────┴──────────┴──────────────────────┴───┴───────────┴───────┴─────┴──────────┘"
      ]
     },
     "execution_count": 2,
     "metadata": {},
     "output_type": "execute_result"
    }
   ],
   "source": [
    "df = pl.read_csv(DATA_DIR + FILE_PATH)\n",
    "df"
   ]
  },
  {
   "cell_type": "code",
   "execution_count": 3,
   "metadata": {},
   "outputs": [
    {
     "data": {
      "text/plain": [
       "polars.dataframe.frame.DataFrame"
      ]
     },
     "execution_count": 3,
     "metadata": {},
     "output_type": "execute_result"
    }
   ],
   "source": [
    "type(df[15])"
   ]
  },
  {
   "cell_type": "code",
   "execution_count": 16,
   "metadata": {},
   "outputs": [
    {
     "data": {
      "text/plain": [
       "[{'gender': 'F', 'year': '50s'},\n",
       " {' gender': 'F', 'runtime_minutes': 'Very Long'},\n",
       " {' gender': 'F', 'genre': 'Film-Noir'},\n",
       " {' gender': 'F', 'year': '40s'},\n",
       " {' gender': 'F', 'year': '30s'},\n",
       " {' gender': 'F', 'runtime_minutes': 'Short'}]"
      ]
     },
     "execution_count": 16,
     "metadata": {},
     "output_type": "execute_result"
    }
   ],
   "source": [
    "g_out = df[\"G_out\"][15].split(\",\")\n",
    "def groups_from_row(g_out: str) -> dict[str, str]:\n",
    "    new_groups = []\n",
    "    for g in g_out:\n",
    "        chars = g.split(\"|\")\n",
    "        char_dict = {}\n",
    "        for c in chars:\n",
    "            k, v = c.split(\":\")\n",
    "            char_dict[k] = v\n",
    "        new_groups.append(char_dict)\n",
    "    return new_groups\n",
    "groups_from_row(g_out)\n"
   ]
  },
  {
   "cell_type": "code",
   "execution_count": 18,
   "metadata": {},
   "outputs": [],
   "source": [
    "class HypothesisRow:\n",
    "    algorithm: str\n",
    "    n: int\n",
    "    parent: dict[str, str]\n",
    "    hypothesis: str\n",
    "    children: list[dict[str, str]]\n",
    "    coverage: float\n",
    "    diversity: float\n",
    "    power: float\n",
    "    fdr: float\n",
    "    time: float\n",
    "\n",
    "\n",
    "    def __init__(self, row: tuple):\n",
    "        self.algorithm = row[0]\n",
    "        self.n = row[1]\n",
    "        self.parent = HypothesisRow.group_from_str(row[2])\n",
    "        self.hypothesis = row[3]\n",
    "        self.children = HypothesisRow.groups_from_row(row[4])\n",
    "        self.coverage = row[5]\n",
    "        self.diversity = row[6]\n",
    "        self.power = row[7]\n",
    "        self.fdr = row[8]\n",
    "        self.time = row[9]\n",
    "\n",
    "\n",
    "    @staticmethod\n",
    "    def group_from_str(s: str) -> dict[str, str]:\n",
    "        attributes = s.split(\"|\")\n",
    "        attr_dict = {}\n",
    "        for a in attributes:\n",
    "            try:\n",
    "                k, v = a.split(\":\")\n",
    "                attr_dict[k] = v\n",
    "            except:\n",
    "                print(a)\n",
    "                raise ValueError\n",
    "        return attr_dict\n",
    "    \n",
    "\n",
    "    @staticmethod\n",
    "    def groups_from_row(s: str) -> list[dict[str, str]]:\n",
    "        groups = s.split(\",\")\n",
    "        return [HypothesisRow.group_from_str(g) for g in groups]\n"
   ]
  },
  {
   "cell_type": "code",
   "execution_count": 4,
   "metadata": {},
   "outputs": [
    {
     "data": {
      "text/html": [
       "<div><style>\n",
       ".dataframe > thead > tr,\n",
       ".dataframe > tbody > tr {\n",
       "  text-align: right;\n",
       "  white-space: pre-wrap;\n",
       "}\n",
       "</style>\n",
       "<small>shape: (1, 10)</small><table border=\"1\" class=\"dataframe\"><thead><tr><th>algorithm</th><th>n</th><th>g_in</th><th>h</th><th>G_out</th><th>coverage</th><th>diversity</th><th>power</th><th>fdr</th><th>time</th></tr><tr><td>str</td><td>i64</td><td>str</td><td>str</td><td>str</td><td>f64</td><td>f64</td><td>f64</td><td>f64</td><td>f64</td></tr></thead><tbody><tr><td>&quot;covdiv_alpha&quot;</td><td>16</td><td>&quot;gender:F&quot;</td><td>&quot;Mean is greater than 3.9&quot;</td><td>&quot;gender:F|year:50s, gender:F|ru…</td><td>0.89175</td><td>7.9206</td><td>1.0</td><td>0.0</td><td>1.931885</td></tr></tbody></table></div>"
      ],
      "text/plain": [
       "shape: (1, 10)\n",
       "┌──────────────┬─────┬──────────┬──────────────────────┬───┬───────────┬───────┬─────┬──────────┐\n",
       "│ algorithm    ┆ n   ┆ g_in     ┆ h                    ┆ … ┆ diversity ┆ power ┆ fdr ┆ time     │\n",
       "│ ---          ┆ --- ┆ ---      ┆ ---                  ┆   ┆ ---       ┆ ---   ┆ --- ┆ ---      │\n",
       "│ str          ┆ i64 ┆ str      ┆ str                  ┆   ┆ f64       ┆ f64   ┆ f64 ┆ f64      │\n",
       "╞══════════════╪═════╪══════════╪══════════════════════╪═══╪═══════════╪═══════╪═════╪══════════╡\n",
       "│ covdiv_alpha ┆ 16  ┆ gender:F ┆ Mean is greater than ┆ … ┆ 7.9206    ┆ 1.0   ┆ 0.0 ┆ 1.931885 │\n",
       "│              ┆     ┆          ┆ 3.9                  ┆   ┆           ┆       ┆     ┆          │\n",
       "└──────────────┴─────┴──────────┴──────────────────────┴───┴───────────┴───────┴─────┴──────────┘"
      ]
     },
     "execution_count": 4,
     "metadata": {},
     "output_type": "execute_result"
    }
   ],
   "source": [
    "df[15]"
   ]
  },
  {
   "cell_type": "code",
   "execution_count": 5,
   "metadata": {},
   "outputs": [
    {
     "data": {
      "text/plain": [
       "'gender:F|year:50s, gender:F|runtime_minutes:Very Long, gender:F|genre:Film-Noir, gender:F|year:40s, gender:F|year:30s, gender:F|runtime_minutes:Short'"
      ]
     },
     "execution_count": 5,
     "metadata": {},
     "output_type": "execute_result"
    }
   ],
   "source": [
    "df[\"G_out\"][15]"
   ]
  },
  {
   "cell_type": "code",
   "execution_count": 9,
   "metadata": {},
   "outputs": [
    {
     "data": {
      "text/plain": [
       "{'algorithm': 'covdiv_alpha',\n",
       " 'n': 16,\n",
       " 'parent': {'gender': 'F'},\n",
       " 'hypothesis': 'Mean is greater than 3.9',\n",
       " 'children': [{'gender': 'F', 'year': '50s'},\n",
       "  {' gender': 'F', 'runtime_minutes': 'Very Long'},\n",
       "  {' gender': 'F', 'genre': 'Film-Noir'},\n",
       "  {' gender': 'F', 'year': '40s'},\n",
       "  {' gender': 'F', 'year': '30s'},\n",
       "  {' gender': 'F', 'runtime_minutes': 'Short'}],\n",
       " 'coverage': 0.8917495611468695,\n",
       " 'diversity': 7.920599738565601,\n",
       " 'power': 1.0,\n",
       " 'fdr': 0.0,\n",
       " 'time': 1.931885004043579}"
      ]
     },
     "execution_count": 9,
     "metadata": {},
     "output_type": "execute_result"
    }
   ],
   "source": [
    "%run ../hypothesis_row.py\n",
    "\n",
    "i = 0\n",
    "for r in df.iter_rows():\n",
    "    if i < 15:\n",
    "        i += 1\n",
    "        continue\n",
    "    ex = HypothesisRow(r)\n",
    "    break\n",
    "vars(ex)"
   ]
  }
 ],
 "metadata": {
  "kernelspec": {
   "display_name": "Python 3",
   "language": "python",
   "name": "python3"
  },
  "language_info": {
   "codemirror_mode": {
    "name": "ipython",
    "version": 3
   },
   "file_extension": ".py",
   "mimetype": "text/x-python",
   "name": "python",
   "nbconvert_exporter": "python",
   "pygments_lexer": "ipython3",
   "version": "3.12.7"
  }
 },
 "nbformat": 4,
 "nbformat_minor": 2
}
