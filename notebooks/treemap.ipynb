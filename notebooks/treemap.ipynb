{
 "cells": [
  {
   "cell_type": "markdown",
   "metadata": {},
   "source": [
    "O objetivo deste arquivo é experimentar criar um treemap"
   ]
  },
  {
   "cell_type": "code",
   "execution_count": null,
   "metadata": {},
   "outputs": [],
   "source": [
    "import plotly.express as px\n",
    "import polars as pl\n",
    "import plotly\n",
    "%run ../src/hypothesis_row.py\n",
    "\n",
    "DATA_DIR = \"../data/\"\n",
    "DATA_FILE = \"alpha_investing_new.csv\""
   ]
  },
  {
   "cell_type": "code",
   "execution_count": 2,
   "metadata": {},
   "outputs": [
    {
     "data": {
      "text/html": [
       "<div><style>\n",
       ".dataframe > thead > tr,\n",
       ".dataframe > tbody > tr {\n",
       "  text-align: right;\n",
       "  white-space: pre-wrap;\n",
       "}\n",
       "</style>\n",
       "<small>shape: (40, 10)</small><table border=\"1\" class=\"dataframe\"><thead><tr><th>algorithm</th><th>n</th><th>g_in</th><th>h</th><th>G_out</th><th>coverage</th><th>diversity</th><th>power</th><th>fdr</th><th>time</th></tr><tr><td>str</td><td>i64</td><td>str</td><td>str</td><td>str</td><td>f64</td><td>f64</td><td>f64</td><td>f64</td><td>f64</td></tr></thead><tbody><tr><td>&quot;covdiv_alpha&quot;</td><td>1</td><td>&quot;gender:F&quot;</td><td>&quot;Mean is greater than 3.9&quot;</td><td>&quot;gender:F|year:50s&quot;</td><td>0.681685</td><td>0.0</td><td>1.0</td><td>0.0</td><td>1.814997</td></tr><tr><td>&quot;covdiv_alpha&quot;</td><td>2</td><td>&quot;gender:F&quot;</td><td>&quot;Mean is greater than 3.9&quot;</td><td>&quot;gender:F|year:50s, gender:F|ru…</td><td>0.725571</td><td>0.695968</td><td>1.0</td><td>0.0</td><td>2.036166</td></tr><tr><td>&quot;covdiv_alpha&quot;</td><td>3</td><td>&quot;gender:F&quot;</td><td>&quot;Mean is greater than 3.9&quot;</td><td>&quot;gender:F|runtime_minutes:Short…</td><td>0.761849</td><td>1.983853</td><td>1.0</td><td>0.0</td><td>1.968691</td></tr><tr><td>&quot;covdiv_alpha&quot;</td><td>4</td><td>&quot;gender:F&quot;</td><td>&quot;Mean is greater than 3.9&quot;</td><td>&quot;gender:F|runtime_minutes:Short…</td><td>0.854886</td><td>3.694056</td><td>1.0</td><td>0.0</td><td>2.120133</td></tr><tr><td>&quot;covdiv_alpha&quot;</td><td>5</td><td>&quot;gender:F&quot;</td><td>&quot;Mean is greater than 3.9&quot;</td><td>&quot;gender:F|year:30s, gender:F|ru…</td><td>0.873025</td><td>5.645222</td><td>1.0</td><td>0.0</td><td>2.093583</td></tr><tr><td>&hellip;</td><td>&hellip;</td><td>&hellip;</td><td>&hellip;</td><td>&hellip;</td><td>&hellip;</td><td>&hellip;</td><td>&hellip;</td><td>&hellip;</td><td>&hellip;</td></tr><tr><td>&quot;cover_alpha&quot;</td><td>16</td><td>&quot;gender:F&quot;</td><td>&quot;Mean is greater than 3.9&quot;</td><td>&quot;gender:F|year:50s, gender:F|ru…</td><td>0.89175</td><td>7.9206</td><td>1.0</td><td>0.0</td><td>2.142911</td></tr><tr><td>&quot;cover_alpha&quot;</td><td>17</td><td>&quot;gender:F&quot;</td><td>&quot;Mean is greater than 3.9&quot;</td><td>&quot;gender:F|runtime_minutes:Short…</td><td>0.89175</td><td>7.9206</td><td>1.0</td><td>0.0</td><td>2.068365</td></tr><tr><td>&quot;cover_alpha&quot;</td><td>18</td><td>&quot;gender:F&quot;</td><td>&quot;Mean is greater than 3.9&quot;</td><td>&quot;gender:F|runtime_minutes:Very …</td><td>0.89175</td><td>7.9206</td><td>1.0</td><td>0.0</td><td>2.158641</td></tr><tr><td>&quot;cover_alpha&quot;</td><td>19</td><td>&quot;gender:F&quot;</td><td>&quot;Mean is greater than 3.9&quot;</td><td>&quot;gender:F|runtime_minutes:Very …</td><td>0.89175</td><td>7.9206</td><td>1.0</td><td>0.0</td><td>2.093523</td></tr><tr><td>&quot;cover_alpha&quot;</td><td>20</td><td>&quot;gender:F&quot;</td><td>&quot;Mean is greater than 3.9&quot;</td><td>&quot;gender:F|year:40s, gender:F|ye…</td><td>0.89175</td><td>7.9206</td><td>1.0</td><td>0.0</td><td>2.054105</td></tr></tbody></table></div>"
      ],
      "text/plain": [
       "shape: (40, 10)\n",
       "┌──────────────┬─────┬──────────┬──────────────────────┬───┬───────────┬───────┬─────┬──────────┐\n",
       "│ algorithm    ┆ n   ┆ g_in     ┆ h                    ┆ … ┆ diversity ┆ power ┆ fdr ┆ time     │\n",
       "│ ---          ┆ --- ┆ ---      ┆ ---                  ┆   ┆ ---       ┆ ---   ┆ --- ┆ ---      │\n",
       "│ str          ┆ i64 ┆ str      ┆ str                  ┆   ┆ f64       ┆ f64   ┆ f64 ┆ f64      │\n",
       "╞══════════════╪═════╪══════════╪══════════════════════╪═══╪═══════════╪═══════╪═════╪══════════╡\n",
       "│ covdiv_alpha ┆ 1   ┆ gender:F ┆ Mean is greater than ┆ … ┆ 0.0       ┆ 1.0   ┆ 0.0 ┆ 1.814997 │\n",
       "│              ┆     ┆          ┆ 3.9                  ┆   ┆           ┆       ┆     ┆          │\n",
       "│ covdiv_alpha ┆ 2   ┆ gender:F ┆ Mean is greater than ┆ … ┆ 0.695968  ┆ 1.0   ┆ 0.0 ┆ 2.036166 │\n",
       "│              ┆     ┆          ┆ 3.9                  ┆   ┆           ┆       ┆     ┆          │\n",
       "│ covdiv_alpha ┆ 3   ┆ gender:F ┆ Mean is greater than ┆ … ┆ 1.983853  ┆ 1.0   ┆ 0.0 ┆ 1.968691 │\n",
       "│              ┆     ┆          ┆ 3.9                  ┆   ┆           ┆       ┆     ┆          │\n",
       "│ covdiv_alpha ┆ 4   ┆ gender:F ┆ Mean is greater than ┆ … ┆ 3.694056  ┆ 1.0   ┆ 0.0 ┆ 2.120133 │\n",
       "│              ┆     ┆          ┆ 3.9                  ┆   ┆           ┆       ┆     ┆          │\n",
       "│ covdiv_alpha ┆ 5   ┆ gender:F ┆ Mean is greater than ┆ … ┆ 5.645222  ┆ 1.0   ┆ 0.0 ┆ 2.093583 │\n",
       "│              ┆     ┆          ┆ 3.9                  ┆   ┆           ┆       ┆     ┆          │\n",
       "│ …            ┆ …   ┆ …        ┆ …                    ┆ … ┆ …         ┆ …     ┆ …   ┆ …        │\n",
       "│ cover_alpha  ┆ 16  ┆ gender:F ┆ Mean is greater than ┆ … ┆ 7.9206    ┆ 1.0   ┆ 0.0 ┆ 2.142911 │\n",
       "│              ┆     ┆          ┆ 3.9                  ┆   ┆           ┆       ┆     ┆          │\n",
       "│ cover_alpha  ┆ 17  ┆ gender:F ┆ Mean is greater than ┆ … ┆ 7.9206    ┆ 1.0   ┆ 0.0 ┆ 2.068365 │\n",
       "│              ┆     ┆          ┆ 3.9                  ┆   ┆           ┆       ┆     ┆          │\n",
       "│ cover_alpha  ┆ 18  ┆ gender:F ┆ Mean is greater than ┆ … ┆ 7.9206    ┆ 1.0   ┆ 0.0 ┆ 2.158641 │\n",
       "│              ┆     ┆          ┆ 3.9                  ┆   ┆           ┆       ┆     ┆          │\n",
       "│ cover_alpha  ┆ 19  ┆ gender:F ┆ Mean is greater than ┆ … ┆ 7.9206    ┆ 1.0   ┆ 0.0 ┆ 2.093523 │\n",
       "│              ┆     ┆          ┆ 3.9                  ┆   ┆           ┆       ┆     ┆          │\n",
       "│ cover_alpha  ┆ 20  ┆ gender:F ┆ Mean is greater than ┆ … ┆ 7.9206    ┆ 1.0   ┆ 0.0 ┆ 2.054105 │\n",
       "│              ┆     ┆          ┆ 3.9                  ┆   ┆           ┆       ┆     ┆          │\n",
       "└──────────────┴─────┴──────────┴──────────────────────┴───┴───────────┴───────┴─────┴──────────┘"
      ]
     },
     "execution_count": 2,
     "metadata": {},
     "output_type": "execute_result"
    }
   ],
   "source": [
    "df = pl.read_csv(DATA_DIR + DATA_FILE)\n",
    "df"
   ]
  },
  {
   "cell_type": "code",
   "execution_count": 3,
   "metadata": {},
   "outputs": [
    {
     "data": {
      "text/plain": [
       "[<__main__.HypothesisRow at 0x19f587ad7c0>,\n",
       " <__main__.HypothesisRow at 0x19f583dfc20>,\n",
       " <__main__.HypothesisRow at 0x19f587ad8b0>,\n",
       " <__main__.HypothesisRow at 0x19f59f2b7d0>,\n",
       " <__main__.HypothesisRow at 0x19f5a5a0d40>,\n",
       " <__main__.HypothesisRow at 0x19f5a814410>,\n",
       " <__main__.HypothesisRow at 0x19f5a814560>,\n",
       " <__main__.HypothesisRow at 0x19f5a814320>,\n",
       " <__main__.HypothesisRow at 0x19f5a814b00>,\n",
       " <__main__.HypothesisRow at 0x19f5a814e30>,\n",
       " <__main__.HypothesisRow at 0x19f5a815100>,\n",
       " <__main__.HypothesisRow at 0x19f5a815430>,\n",
       " <__main__.HypothesisRow at 0x19f5a815730>,\n",
       " <__main__.HypothesisRow at 0x19f5a815a00>,\n",
       " <__main__.HypothesisRow at 0x19f5a815d30>,\n",
       " <__main__.HypothesisRow at 0x19f5a815fd0>,\n",
       " <__main__.HypothesisRow at 0x19f5a815e20>,\n",
       " <__main__.HypothesisRow at 0x19f5a816600>,\n",
       " <__main__.HypothesisRow at 0x19f5a8168d0>,\n",
       " <__main__.HypothesisRow at 0x19f5a816b40>,\n",
       " <__main__.HypothesisRow at 0x19f5a816ed0>,\n",
       " <__main__.HypothesisRow at 0x19f5a816c90>,\n",
       " <__main__.HypothesisRow at 0x19f5a817290>,\n",
       " <__main__.HypothesisRow at 0x19f5a817590>,\n",
       " <__main__.HypothesisRow at 0x19f5a817170>,\n",
       " <__main__.HypothesisRow at 0x19f5a8178f0>,\n",
       " <__main__.HypothesisRow at 0x19f5a817b30>,\n",
       " <__main__.HypothesisRow at 0x19f5a817d10>,\n",
       " <__main__.HypothesisRow at 0x19f5a828050>,\n",
       " <__main__.HypothesisRow at 0x19f5a828350>,\n",
       " <__main__.HypothesisRow at 0x19f5a828650>,\n",
       " <__main__.HypothesisRow at 0x19f5a828950>,\n",
       " <__main__.HypothesisRow at 0x19f5a828c50>,\n",
       " <__main__.HypothesisRow at 0x19f5a828f50>,\n",
       " <__main__.HypothesisRow at 0x19f5a829250>,\n",
       " <__main__.HypothesisRow at 0x19f5a829550>,\n",
       " <__main__.HypothesisRow at 0x19f5a829850>,\n",
       " <__main__.HypothesisRow at 0x19f5a829b50>,\n",
       " <__main__.HypothesisRow at 0x19f5a829e50>,\n",
       " <__main__.HypothesisRow at 0x19f5a82a150>]"
      ]
     },
     "execution_count": 3,
     "metadata": {},
     "output_type": "execute_result"
    }
   ],
   "source": [
    "hypotheses = HypothesisRow.df_to_list(df)\n",
    "hypotheses"
   ]
  },
  {
   "cell_type": "code",
   "execution_count": 4,
   "metadata": {},
   "outputs": [
    {
     "name": "stdout",
     "output_type": "stream",
     "text": [
      "['gender:F,year:50s', 'gender:F,year:50s', ' gender:F,runtime_minutes:Short', 'gender:F,runtime_minutes:Short', ' gender:F,runtime_minutes:Very Long', ' gender:F,year:50s', 'gender:F,runtime_minutes:Short', ' gender:F,year:50s', ' gender:F,runtime_minutes:Very Long', ' gender:F,genre:Film-Noir', 'gender:F,year:30s', ' gender:F,runtime_minutes:Very Long', ' gender:F,runtime_minutes:Short', ' gender:F,year:50s', ' gender:F,genre:Film-Noir', 'gender:F,year:40s', ' gender:F,runtime_minutes:Very Long', ' gender:F,year:50s', ' gender:F,runtime_minutes:Short', ' gender:F,year:30s', ' gender:F,genre:Film-Noir', 'gender:F,year:50s', ' gender:F,genre:Film-Noir', ' gender:F,runtime_minutes:Very Long', ' gender:F,runtime_minutes:Short', ' gender:F,year:30s', ' gender:F,year:40s', 'gender:F,genre:Film-Noir', ' gender:F,runtime_minutes:Very Long', ' gender:F,year:50s', ' gender:F,year:30s', ' gender:F,year:40s', ' gender:F,runtime_minutes:Short', 'gender:F,runtime_minutes:Short', ' gender:F,year:30s', ' gender:F,year:50s', ' gender:F,runtime_minutes:Very Long', ' gender:F,year:40s', ' gender:F,genre:Film-Noir', 'gender:F,year:40s', ' gender:F,year:30s', ' gender:F,genre:Film-Noir', ' gender:F,year:50s', ' gender:F,runtime_minutes:Short', ' gender:F,runtime_minutes:Very Long', 'gender:F,runtime_minutes:Very Long', ' gender:F,year:30s', ' gender:F,genre:Film-Noir', ' gender:F,runtime_minutes:Short', ' gender:F,year:40s', ' gender:F,year:50s', 'gender:F,runtime_minutes:Short', ' gender:F,year:50s', ' gender:F,genre:Film-Noir', ' gender:F,year:40s', ' gender:F,year:30s', ' gender:F,runtime_minutes:Very Long', 'gender:F,year:40s', ' gender:F,genre:Film-Noir', ' gender:F,runtime_minutes:Very Long', ' gender:F,year:30s', ' gender:F,year:50s', ' gender:F,runtime_minutes:Short', 'gender:F,year:40s', ' gender:F,genre:Film-Noir', ' gender:F,year:50s', ' gender:F,runtime_minutes:Very Long', ' gender:F,runtime_minutes:Short', ' gender:F,year:30s', 'gender:F,year:40s', ' gender:F,runtime_minutes:Short', ' gender:F,runtime_minutes:Very Long', ' gender:F,year:50s', ' gender:F,genre:Film-Noir', ' gender:F,year:30s', 'gender:F,year:50s', ' gender:F,runtime_minutes:Very Long', ' gender:F,genre:Film-Noir', ' gender:F,year:40s', ' gender:F,year:30s', ' gender:F,runtime_minutes:Short', 'gender:F,runtime_minutes:Short', ' gender:F,year:50s', ' gender:F,genre:Film-Noir', ' gender:F,year:40s', ' gender:F,runtime_minutes:Very Long', ' gender:F,year:30s', 'gender:F,year:50s', ' gender:F,year:30s', ' gender:F,runtime_minutes:Short', ' gender:F,year:40s', ' gender:F,genre:Film-Noir', ' gender:F,runtime_minutes:Very Long', 'gender:F,genre:Film-Noir', ' gender:F,year:40s', ' gender:F,runtime_minutes:Very Long', ' gender:F,year:30s', ' gender:F,runtime_minutes:Short', ' gender:F,year:50s', 'gender:F,year:40s', ' gender:F,year:30s', ' gender:F,runtime_minutes:Short', ' gender:F,year:50s', ' gender:F,genre:Film-Noir', ' gender:F,runtime_minutes:Very Long', 'gender:F,year:50s', 'gender:F,year:50s', ' gender:F,genre:Film-Noir', 'gender:F,genre:Film-Noir', ' gender:F,year:30s', ' gender:F,year:50s', 'gender:F,year:30s', ' gender:F,year:40s', ' gender:F,genre:Film-Noir', ' gender:F,year:50s', 'gender:F,runtime_minutes:Short', ' gender:F,year:40s', ' gender:F,year:50s', ' gender:F,year:30s', ' gender:F,genre:Film-Noir', 'gender:F,runtime_minutes:Very Long', ' gender:F,genre:Film-Noir', ' gender:F,year:30s', ' gender:F,year:50s', ' gender:F,year:40s', ' gender:F,runtime_minutes:Short', 'gender:F,year:40s', ' gender:F,runtime_minutes:Very Long', ' gender:F,runtime_minutes:Short', ' gender:F,genre:Film-Noir', ' gender:F,year:50s', ' gender:F,year:30s', 'gender:F,year:30s', ' gender:F,runtime_minutes:Short', ' gender:F,genre:Film-Noir', ' gender:F,year:50s', ' gender:F,runtime_minutes:Very Long', ' gender:F,year:40s', 'gender:F,year:40s', ' gender:F,runtime_minutes:Very Long', ' gender:F,year:50s', ' gender:F,year:30s', ' gender:F,runtime_minutes:Short', ' gender:F,genre:Film-Noir', 'gender:F,runtime_minutes:Short', ' gender:F,year:50s', ' gender:F,year:30s', ' gender:F,year:40s', ' gender:F,runtime_minutes:Very Long', ' gender:F,genre:Film-Noir', 'gender:F,genre:Film-Noir', ' gender:F,runtime_minutes:Short', ' gender:F,runtime_minutes:Very Long', ' gender:F,year:30s', ' gender:F,year:50s', ' gender:F,year:40s', 'gender:F,runtime_minutes:Very Long', ' gender:F,year:50s', ' gender:F,year:40s', ' gender:F,year:30s', ' gender:F,genre:Film-Noir', ' gender:F,runtime_minutes:Short', 'gender:F,runtime_minutes:Very Long', ' gender:F,year:30s', ' gender:F,genre:Film-Noir', ' gender:F,runtime_minutes:Short', ' gender:F,year:40s', ' gender:F,year:50s', 'gender:F,genre:Film-Noir', ' gender:F,runtime_minutes:Very Long', ' gender:F,year:30s', ' gender:F,runtime_minutes:Short', ' gender:F,year:50s', ' gender:F,year:40s', 'gender:F,year:50s', ' gender:F,runtime_minutes:Very Long', ' gender:F,year:40s', ' gender:F,runtime_minutes:Short', ' gender:F,year:30s', ' gender:F,genre:Film-Noir', 'gender:F,year:50s', ' gender:F,runtime_minutes:Very Long', ' gender:F,year:30s', ' gender:F,genre:Film-Noir', ' gender:F,year:40s', ' gender:F,runtime_minutes:Short', 'gender:F,runtime_minutes:Short', ' gender:F,runtime_minutes:Very Long', ' gender:F,year:50s', ' gender:F,genre:Film-Noir', ' gender:F,year:30s', ' gender:F,year:40s', 'gender:F,runtime_minutes:Very Long', ' gender:F,year:30s', ' gender:F,runtime_minutes:Short', ' gender:F,year:50s', ' gender:F,genre:Film-Noir', ' gender:F,year:40s', 'gender:F,runtime_minutes:Very Long', ' gender:F,year:50s', ' gender:F,runtime_minutes:Short', ' gender:F,year:30s', ' gender:F,genre:Film-Noir', ' gender:F,year:40s', 'gender:F,year:40s', ' gender:F,year:50s', ' gender:F,runtime_minutes:Short', ' gender:F,year:30s', ' gender:F,runtime_minutes:Very Long', ' gender:F,genre:Film-Noir']\n",
      "['gender:F', 'gender:F', 'gender:F', 'gender:F', 'gender:F', 'gender:F', 'gender:F', 'gender:F', 'gender:F', 'gender:F', 'gender:F', 'gender:F', 'gender:F', 'gender:F', 'gender:F', 'gender:F', 'gender:F', 'gender:F', 'gender:F', 'gender:F', 'gender:F', 'gender:F', 'gender:F', 'gender:F', 'gender:F', 'gender:F', 'gender:F', 'gender:F', 'gender:F', 'gender:F', 'gender:F', 'gender:F', 'gender:F', 'gender:F', 'gender:F', 'gender:F', 'gender:F', 'gender:F', 'gender:F', 'gender:F', 'gender:F', 'gender:F', 'gender:F', 'gender:F', 'gender:F', 'gender:F', 'gender:F', 'gender:F', 'gender:F', 'gender:F', 'gender:F', 'gender:F', 'gender:F', 'gender:F', 'gender:F', 'gender:F', 'gender:F', 'gender:F', 'gender:F', 'gender:F', 'gender:F', 'gender:F', 'gender:F', 'gender:F', 'gender:F', 'gender:F', 'gender:F', 'gender:F', 'gender:F', 'gender:F', 'gender:F', 'gender:F', 'gender:F', 'gender:F', 'gender:F', 'gender:F', 'gender:F', 'gender:F', 'gender:F', 'gender:F', 'gender:F', 'gender:F', 'gender:F', 'gender:F', 'gender:F', 'gender:F', 'gender:F', 'gender:F', 'gender:F', 'gender:F', 'gender:F', 'gender:F', 'gender:F', 'gender:F', 'gender:F', 'gender:F', 'gender:F', 'gender:F', 'gender:F', 'gender:F', 'gender:F', 'gender:F', 'gender:F', 'gender:F', 'gender:F', 'gender:F', 'gender:F', 'gender:F', 'gender:F', 'gender:F', 'gender:F', 'gender:F', 'gender:F', 'gender:F', 'gender:F', 'gender:F', 'gender:F', 'gender:F', 'gender:F', 'gender:F', 'gender:F', 'gender:F', 'gender:F', 'gender:F', 'gender:F', 'gender:F', 'gender:F', 'gender:F', 'gender:F', 'gender:F', 'gender:F', 'gender:F', 'gender:F', 'gender:F', 'gender:F', 'gender:F', 'gender:F', 'gender:F', 'gender:F', 'gender:F', 'gender:F', 'gender:F', 'gender:F', 'gender:F', 'gender:F', 'gender:F', 'gender:F', 'gender:F', 'gender:F', 'gender:F', 'gender:F', 'gender:F', 'gender:F', 'gender:F', 'gender:F', 'gender:F', 'gender:F', 'gender:F', 'gender:F', 'gender:F', 'gender:F', 'gender:F', 'gender:F', 'gender:F', 'gender:F', 'gender:F', 'gender:F', 'gender:F', 'gender:F', 'gender:F', 'gender:F', 'gender:F', 'gender:F', 'gender:F', 'gender:F', 'gender:F', 'gender:F', 'gender:F', 'gender:F', 'gender:F', 'gender:F', 'gender:F', 'gender:F', 'gender:F', 'gender:F', 'gender:F', 'gender:F', 'gender:F', 'gender:F', 'gender:F', 'gender:F', 'gender:F', 'gender:F', 'gender:F', 'gender:F', 'gender:F', 'gender:F', 'gender:F', 'gender:F', 'gender:F', 'gender:F', 'gender:F', 'gender:F', 'gender:F', 'gender:F', 'gender:F', 'gender:F', 'gender:F', 'gender:F', 'gender:F']\n",
      "210\n",
      "210\n"
     ]
    }
   ],
   "source": [
    "names = []\n",
    "parents = []\n",
    "for h in hypotheses:\n",
    "    for c in h.children_to_strings():\n",
    "        names.append(c)\n",
    "        parents.append(h.parent_to_string())\n",
    "print(names)\n",
    "print(parents)\n",
    "print(len(names))\n",
    "print(len(parents))"
   ]
  },
  {
   "cell_type": "code",
   "execution_count": 5,
   "metadata": {},
   "outputs": [
    {
     "data": {
      "application/vnd.plotly.v1+json": {
       "config": {
        "plotlyServerURL": "https://plot.ly"
       },
       "data": [
        {
         "domain": {
          "x": [
           0,
           1
          ],
          "y": [
           0,
           1
          ]
         },
         "hovertemplate": "label=%{label}<br>parent=%{parent}<extra></extra>",
         "labels": [
          "gender:F,year:50s",
          " gender:F,runtime_minutes:Very Long",
          " gender:F,genre:Film-Noir",
          " gender:F,year:40s",
          " gender:F,year:30s",
          " gender:F,runtime_minutes:Short",
          "gender:F,year:50s,location:CA",
          "gender:F,year:50s,location:WI"
         ],
         "name": "",
         "parents": [
          "gender:F",
          "gender:F",
          "gender:F",
          "gender:F",
          "gender:F",
          "gender:F",
          "gender:F,year:50s",
          "gender:F,year:50s"
         ],
         "type": "treemap"
        }
       ],
       "layout": {
        "legend": {
         "tracegroupgap": 0
        },
        "margin": {
         "t": 60
        },
        "template": {
         "data": {
          "bar": [
           {
            "error_x": {
             "color": "#2a3f5f"
            },
            "error_y": {
             "color": "#2a3f5f"
            },
            "marker": {
             "line": {
              "color": "#E5ECF6",
              "width": 0.5
             },
             "pattern": {
              "fillmode": "overlay",
              "size": 10,
              "solidity": 0.2
             }
            },
            "type": "bar"
           }
          ],
          "barpolar": [
           {
            "marker": {
             "line": {
              "color": "#E5ECF6",
              "width": 0.5
             },
             "pattern": {
              "fillmode": "overlay",
              "size": 10,
              "solidity": 0.2
             }
            },
            "type": "barpolar"
           }
          ],
          "carpet": [
           {
            "aaxis": {
             "endlinecolor": "#2a3f5f",
             "gridcolor": "white",
             "linecolor": "white",
             "minorgridcolor": "white",
             "startlinecolor": "#2a3f5f"
            },
            "baxis": {
             "endlinecolor": "#2a3f5f",
             "gridcolor": "white",
             "linecolor": "white",
             "minorgridcolor": "white",
             "startlinecolor": "#2a3f5f"
            },
            "type": "carpet"
           }
          ],
          "choropleth": [
           {
            "colorbar": {
             "outlinewidth": 0,
             "ticks": ""
            },
            "type": "choropleth"
           }
          ],
          "contour": [
           {
            "colorbar": {
             "outlinewidth": 0,
             "ticks": ""
            },
            "colorscale": [
             [
              0,
              "#0d0887"
             ],
             [
              0.1111111111111111,
              "#46039f"
             ],
             [
              0.2222222222222222,
              "#7201a8"
             ],
             [
              0.3333333333333333,
              "#9c179e"
             ],
             [
              0.4444444444444444,
              "#bd3786"
             ],
             [
              0.5555555555555556,
              "#d8576b"
             ],
             [
              0.6666666666666666,
              "#ed7953"
             ],
             [
              0.7777777777777778,
              "#fb9f3a"
             ],
             [
              0.8888888888888888,
              "#fdca26"
             ],
             [
              1,
              "#f0f921"
             ]
            ],
            "type": "contour"
           }
          ],
          "contourcarpet": [
           {
            "colorbar": {
             "outlinewidth": 0,
             "ticks": ""
            },
            "type": "contourcarpet"
           }
          ],
          "heatmap": [
           {
            "colorbar": {
             "outlinewidth": 0,
             "ticks": ""
            },
            "colorscale": [
             [
              0,
              "#0d0887"
             ],
             [
              0.1111111111111111,
              "#46039f"
             ],
             [
              0.2222222222222222,
              "#7201a8"
             ],
             [
              0.3333333333333333,
              "#9c179e"
             ],
             [
              0.4444444444444444,
              "#bd3786"
             ],
             [
              0.5555555555555556,
              "#d8576b"
             ],
             [
              0.6666666666666666,
              "#ed7953"
             ],
             [
              0.7777777777777778,
              "#fb9f3a"
             ],
             [
              0.8888888888888888,
              "#fdca26"
             ],
             [
              1,
              "#f0f921"
             ]
            ],
            "type": "heatmap"
           }
          ],
          "heatmapgl": [
           {
            "colorbar": {
             "outlinewidth": 0,
             "ticks": ""
            },
            "colorscale": [
             [
              0,
              "#0d0887"
             ],
             [
              0.1111111111111111,
              "#46039f"
             ],
             [
              0.2222222222222222,
              "#7201a8"
             ],
             [
              0.3333333333333333,
              "#9c179e"
             ],
             [
              0.4444444444444444,
              "#bd3786"
             ],
             [
              0.5555555555555556,
              "#d8576b"
             ],
             [
              0.6666666666666666,
              "#ed7953"
             ],
             [
              0.7777777777777778,
              "#fb9f3a"
             ],
             [
              0.8888888888888888,
              "#fdca26"
             ],
             [
              1,
              "#f0f921"
             ]
            ],
            "type": "heatmapgl"
           }
          ],
          "histogram": [
           {
            "marker": {
             "pattern": {
              "fillmode": "overlay",
              "size": 10,
              "solidity": 0.2
             }
            },
            "type": "histogram"
           }
          ],
          "histogram2d": [
           {
            "colorbar": {
             "outlinewidth": 0,
             "ticks": ""
            },
            "colorscale": [
             [
              0,
              "#0d0887"
             ],
             [
              0.1111111111111111,
              "#46039f"
             ],
             [
              0.2222222222222222,
              "#7201a8"
             ],
             [
              0.3333333333333333,
              "#9c179e"
             ],
             [
              0.4444444444444444,
              "#bd3786"
             ],
             [
              0.5555555555555556,
              "#d8576b"
             ],
             [
              0.6666666666666666,
              "#ed7953"
             ],
             [
              0.7777777777777778,
              "#fb9f3a"
             ],
             [
              0.8888888888888888,
              "#fdca26"
             ],
             [
              1,
              "#f0f921"
             ]
            ],
            "type": "histogram2d"
           }
          ],
          "histogram2dcontour": [
           {
            "colorbar": {
             "outlinewidth": 0,
             "ticks": ""
            },
            "colorscale": [
             [
              0,
              "#0d0887"
             ],
             [
              0.1111111111111111,
              "#46039f"
             ],
             [
              0.2222222222222222,
              "#7201a8"
             ],
             [
              0.3333333333333333,
              "#9c179e"
             ],
             [
              0.4444444444444444,
              "#bd3786"
             ],
             [
              0.5555555555555556,
              "#d8576b"
             ],
             [
              0.6666666666666666,
              "#ed7953"
             ],
             [
              0.7777777777777778,
              "#fb9f3a"
             ],
             [
              0.8888888888888888,
              "#fdca26"
             ],
             [
              1,
              "#f0f921"
             ]
            ],
            "type": "histogram2dcontour"
           }
          ],
          "mesh3d": [
           {
            "colorbar": {
             "outlinewidth": 0,
             "ticks": ""
            },
            "type": "mesh3d"
           }
          ],
          "parcoords": [
           {
            "line": {
             "colorbar": {
              "outlinewidth": 0,
              "ticks": ""
             }
            },
            "type": "parcoords"
           }
          ],
          "pie": [
           {
            "automargin": true,
            "type": "pie"
           }
          ],
          "scatter": [
           {
            "fillpattern": {
             "fillmode": "overlay",
             "size": 10,
             "solidity": 0.2
            },
            "type": "scatter"
           }
          ],
          "scatter3d": [
           {
            "line": {
             "colorbar": {
              "outlinewidth": 0,
              "ticks": ""
             }
            },
            "marker": {
             "colorbar": {
              "outlinewidth": 0,
              "ticks": ""
             }
            },
            "type": "scatter3d"
           }
          ],
          "scattercarpet": [
           {
            "marker": {
             "colorbar": {
              "outlinewidth": 0,
              "ticks": ""
             }
            },
            "type": "scattercarpet"
           }
          ],
          "scattergeo": [
           {
            "marker": {
             "colorbar": {
              "outlinewidth": 0,
              "ticks": ""
             }
            },
            "type": "scattergeo"
           }
          ],
          "scattergl": [
           {
            "marker": {
             "colorbar": {
              "outlinewidth": 0,
              "ticks": ""
             }
            },
            "type": "scattergl"
           }
          ],
          "scattermapbox": [
           {
            "marker": {
             "colorbar": {
              "outlinewidth": 0,
              "ticks": ""
             }
            },
            "type": "scattermapbox"
           }
          ],
          "scatterpolar": [
           {
            "marker": {
             "colorbar": {
              "outlinewidth": 0,
              "ticks": ""
             }
            },
            "type": "scatterpolar"
           }
          ],
          "scatterpolargl": [
           {
            "marker": {
             "colorbar": {
              "outlinewidth": 0,
              "ticks": ""
             }
            },
            "type": "scatterpolargl"
           }
          ],
          "scatterternary": [
           {
            "marker": {
             "colorbar": {
              "outlinewidth": 0,
              "ticks": ""
             }
            },
            "type": "scatterternary"
           }
          ],
          "surface": [
           {
            "colorbar": {
             "outlinewidth": 0,
             "ticks": ""
            },
            "colorscale": [
             [
              0,
              "#0d0887"
             ],
             [
              0.1111111111111111,
              "#46039f"
             ],
             [
              0.2222222222222222,
              "#7201a8"
             ],
             [
              0.3333333333333333,
              "#9c179e"
             ],
             [
              0.4444444444444444,
              "#bd3786"
             ],
             [
              0.5555555555555556,
              "#d8576b"
             ],
             [
              0.6666666666666666,
              "#ed7953"
             ],
             [
              0.7777777777777778,
              "#fb9f3a"
             ],
             [
              0.8888888888888888,
              "#fdca26"
             ],
             [
              1,
              "#f0f921"
             ]
            ],
            "type": "surface"
           }
          ],
          "table": [
           {
            "cells": {
             "fill": {
              "color": "#EBF0F8"
             },
             "line": {
              "color": "white"
             }
            },
            "header": {
             "fill": {
              "color": "#C8D4E3"
             },
             "line": {
              "color": "white"
             }
            },
            "type": "table"
           }
          ]
         },
         "layout": {
          "annotationdefaults": {
           "arrowcolor": "#2a3f5f",
           "arrowhead": 0,
           "arrowwidth": 1
          },
          "autotypenumbers": "strict",
          "coloraxis": {
           "colorbar": {
            "outlinewidth": 0,
            "ticks": ""
           }
          },
          "colorscale": {
           "diverging": [
            [
             0,
             "#8e0152"
            ],
            [
             0.1,
             "#c51b7d"
            ],
            [
             0.2,
             "#de77ae"
            ],
            [
             0.3,
             "#f1b6da"
            ],
            [
             0.4,
             "#fde0ef"
            ],
            [
             0.5,
             "#f7f7f7"
            ],
            [
             0.6,
             "#e6f5d0"
            ],
            [
             0.7,
             "#b8e186"
            ],
            [
             0.8,
             "#7fbc41"
            ],
            [
             0.9,
             "#4d9221"
            ],
            [
             1,
             "#276419"
            ]
           ],
           "sequential": [
            [
             0,
             "#0d0887"
            ],
            [
             0.1111111111111111,
             "#46039f"
            ],
            [
             0.2222222222222222,
             "#7201a8"
            ],
            [
             0.3333333333333333,
             "#9c179e"
            ],
            [
             0.4444444444444444,
             "#bd3786"
            ],
            [
             0.5555555555555556,
             "#d8576b"
            ],
            [
             0.6666666666666666,
             "#ed7953"
            ],
            [
             0.7777777777777778,
             "#fb9f3a"
            ],
            [
             0.8888888888888888,
             "#fdca26"
            ],
            [
             1,
             "#f0f921"
            ]
           ],
           "sequentialminus": [
            [
             0,
             "#0d0887"
            ],
            [
             0.1111111111111111,
             "#46039f"
            ],
            [
             0.2222222222222222,
             "#7201a8"
            ],
            [
             0.3333333333333333,
             "#9c179e"
            ],
            [
             0.4444444444444444,
             "#bd3786"
            ],
            [
             0.5555555555555556,
             "#d8576b"
            ],
            [
             0.6666666666666666,
             "#ed7953"
            ],
            [
             0.7777777777777778,
             "#fb9f3a"
            ],
            [
             0.8888888888888888,
             "#fdca26"
            ],
            [
             1,
             "#f0f921"
            ]
           ]
          },
          "colorway": [
           "#636efa",
           "#EF553B",
           "#00cc96",
           "#ab63fa",
           "#FFA15A",
           "#19d3f3",
           "#FF6692",
           "#B6E880",
           "#FF97FF",
           "#FECB52"
          ],
          "font": {
           "color": "#2a3f5f"
          },
          "geo": {
           "bgcolor": "white",
           "lakecolor": "white",
           "landcolor": "#E5ECF6",
           "showlakes": true,
           "showland": true,
           "subunitcolor": "white"
          },
          "hoverlabel": {
           "align": "left"
          },
          "hovermode": "closest",
          "mapbox": {
           "style": "light"
          },
          "paper_bgcolor": "white",
          "plot_bgcolor": "#E5ECF6",
          "polar": {
           "angularaxis": {
            "gridcolor": "white",
            "linecolor": "white",
            "ticks": ""
           },
           "bgcolor": "#E5ECF6",
           "radialaxis": {
            "gridcolor": "white",
            "linecolor": "white",
            "ticks": ""
           }
          },
          "scene": {
           "xaxis": {
            "backgroundcolor": "#E5ECF6",
            "gridcolor": "white",
            "gridwidth": 2,
            "linecolor": "white",
            "showbackground": true,
            "ticks": "",
            "zerolinecolor": "white"
           },
           "yaxis": {
            "backgroundcolor": "#E5ECF6",
            "gridcolor": "white",
            "gridwidth": 2,
            "linecolor": "white",
            "showbackground": true,
            "ticks": "",
            "zerolinecolor": "white"
           },
           "zaxis": {
            "backgroundcolor": "#E5ECF6",
            "gridcolor": "white",
            "gridwidth": 2,
            "linecolor": "white",
            "showbackground": true,
            "ticks": "",
            "zerolinecolor": "white"
           }
          },
          "shapedefaults": {
           "line": {
            "color": "#2a3f5f"
           }
          },
          "ternary": {
           "aaxis": {
            "gridcolor": "white",
            "linecolor": "white",
            "ticks": ""
           },
           "baxis": {
            "gridcolor": "white",
            "linecolor": "white",
            "ticks": ""
           },
           "bgcolor": "#E5ECF6",
           "caxis": {
            "gridcolor": "white",
            "linecolor": "white",
            "ticks": ""
           }
          },
          "title": {
           "x": 0.05
          },
          "xaxis": {
           "automargin": true,
           "gridcolor": "white",
           "linecolor": "white",
           "ticks": "",
           "title": {
            "standoff": 15
           },
           "zerolinecolor": "white",
           "zerolinewidth": 2
          },
          "yaxis": {
           "automargin": true,
           "gridcolor": "white",
           "linecolor": "white",
           "ticks": "",
           "title": {
            "standoff": 15
           },
           "zerolinecolor": "white",
           "zerolinewidth": 2
          }
         }
        }
       }
      }
     },
     "metadata": {},
     "output_type": "display_data"
    }
   ],
   "source": [
    "names = []\n",
    "parents = []\n",
    "for c in hypotheses[15].children_to_strings():\n",
    "    names.append(c)\n",
    "    parents.append(h.parent_to_string())\n",
    "\n",
    "names.append(\"gender:F,year:50s,location:CA\")\n",
    "parents.append(\"gender:F,year:50s\")\n",
    "\n",
    "names.append(\"gender:F,year:50s,location:WI\")\n",
    "parents.append(\"gender:F,year:50s\")\n",
    "\n",
    "fig = px.treemap(names=names, parents=parents)\n",
    "fig.show()"
   ]
  },
  {
   "cell_type": "markdown",
   "metadata": {},
   "source": [
    "Treemap para todas as hipóteses fica feio"
   ]
  },
  {
   "cell_type": "code",
   "execution_count": 6,
   "metadata": {},
   "outputs": [
    {
     "data": {
      "application/vnd.plotly.v1+json": {
       "config": {
        "plotlyServerURL": "https://plot.ly"
       },
       "data": [
        {
         "domain": {
          "x": [
           0,
           1
          ],
          "y": [
           0,
           1
          ]
         },
         "hovertemplate": "label=%{label}<br>parent=%{parent}<extra></extra>",
         "labels": [
          "gender:F,year:50s",
          "gender:F,year:50s",
          " gender:F,runtime_minutes:Short",
          "gender:F,runtime_minutes:Short",
          " gender:F,runtime_minutes:Very Long",
          " gender:F,year:50s",
          "gender:F,runtime_minutes:Short",
          " gender:F,year:50s",
          " gender:F,runtime_minutes:Very Long",
          " gender:F,genre:Film-Noir",
          "gender:F,year:30s",
          " gender:F,runtime_minutes:Very Long",
          " gender:F,runtime_minutes:Short",
          " gender:F,year:50s",
          " gender:F,genre:Film-Noir",
          "gender:F,year:40s",
          " gender:F,runtime_minutes:Very Long",
          " gender:F,year:50s",
          " gender:F,runtime_minutes:Short",
          " gender:F,year:30s",
          " gender:F,genre:Film-Noir",
          "gender:F,year:50s",
          " gender:F,genre:Film-Noir",
          " gender:F,runtime_minutes:Very Long",
          " gender:F,runtime_minutes:Short",
          " gender:F,year:30s",
          " gender:F,year:40s",
          "gender:F,genre:Film-Noir",
          " gender:F,runtime_minutes:Very Long",
          " gender:F,year:50s",
          " gender:F,year:30s",
          " gender:F,year:40s",
          " gender:F,runtime_minutes:Short",
          "gender:F,runtime_minutes:Short",
          " gender:F,year:30s",
          " gender:F,year:50s",
          " gender:F,runtime_minutes:Very Long",
          " gender:F,year:40s",
          " gender:F,genre:Film-Noir",
          "gender:F,year:40s",
          " gender:F,year:30s",
          " gender:F,genre:Film-Noir",
          " gender:F,year:50s",
          " gender:F,runtime_minutes:Short",
          " gender:F,runtime_minutes:Very Long",
          "gender:F,runtime_minutes:Very Long",
          " gender:F,year:30s",
          " gender:F,genre:Film-Noir",
          " gender:F,runtime_minutes:Short",
          " gender:F,year:40s",
          " gender:F,year:50s",
          "gender:F,runtime_minutes:Short",
          " gender:F,year:50s",
          " gender:F,genre:Film-Noir",
          " gender:F,year:40s",
          " gender:F,year:30s",
          " gender:F,runtime_minutes:Very Long",
          "gender:F,year:40s",
          " gender:F,genre:Film-Noir",
          " gender:F,runtime_minutes:Very Long",
          " gender:F,year:30s",
          " gender:F,year:50s",
          " gender:F,runtime_minutes:Short",
          "gender:F,year:40s",
          " gender:F,genre:Film-Noir",
          " gender:F,year:50s",
          " gender:F,runtime_minutes:Very Long",
          " gender:F,runtime_minutes:Short",
          " gender:F,year:30s",
          "gender:F,year:40s",
          " gender:F,runtime_minutes:Short",
          " gender:F,runtime_minutes:Very Long",
          " gender:F,year:50s",
          " gender:F,genre:Film-Noir",
          " gender:F,year:30s",
          "gender:F,year:50s",
          " gender:F,runtime_minutes:Very Long",
          " gender:F,genre:Film-Noir",
          " gender:F,year:40s",
          " gender:F,year:30s",
          " gender:F,runtime_minutes:Short",
          "gender:F,runtime_minutes:Short",
          " gender:F,year:50s",
          " gender:F,genre:Film-Noir",
          " gender:F,year:40s",
          " gender:F,runtime_minutes:Very Long",
          " gender:F,year:30s",
          "gender:F,year:50s",
          " gender:F,year:30s",
          " gender:F,runtime_minutes:Short",
          " gender:F,year:40s",
          " gender:F,genre:Film-Noir",
          " gender:F,runtime_minutes:Very Long",
          "gender:F,genre:Film-Noir",
          " gender:F,year:40s",
          " gender:F,runtime_minutes:Very Long",
          " gender:F,year:30s",
          " gender:F,runtime_minutes:Short",
          " gender:F,year:50s",
          "gender:F,year:40s",
          " gender:F,year:30s",
          " gender:F,runtime_minutes:Short",
          " gender:F,year:50s",
          " gender:F,genre:Film-Noir",
          " gender:F,runtime_minutes:Very Long",
          "gender:F,year:50s",
          "gender:F,year:50s",
          " gender:F,genre:Film-Noir",
          "gender:F,genre:Film-Noir",
          " gender:F,year:30s",
          " gender:F,year:50s",
          "gender:F,year:30s",
          " gender:F,year:40s",
          " gender:F,genre:Film-Noir",
          " gender:F,year:50s",
          "gender:F,runtime_minutes:Short",
          " gender:F,year:40s",
          " gender:F,year:50s",
          " gender:F,year:30s",
          " gender:F,genre:Film-Noir",
          "gender:F,runtime_minutes:Very Long",
          " gender:F,genre:Film-Noir",
          " gender:F,year:30s",
          " gender:F,year:50s",
          " gender:F,year:40s",
          " gender:F,runtime_minutes:Short",
          "gender:F,year:40s",
          " gender:F,runtime_minutes:Very Long",
          " gender:F,runtime_minutes:Short",
          " gender:F,genre:Film-Noir",
          " gender:F,year:50s",
          " gender:F,year:30s",
          "gender:F,year:30s",
          " gender:F,runtime_minutes:Short",
          " gender:F,genre:Film-Noir",
          " gender:F,year:50s",
          " gender:F,runtime_minutes:Very Long",
          " gender:F,year:40s",
          "gender:F,year:40s",
          " gender:F,runtime_minutes:Very Long",
          " gender:F,year:50s",
          " gender:F,year:30s",
          " gender:F,runtime_minutes:Short",
          " gender:F,genre:Film-Noir",
          "gender:F,runtime_minutes:Short",
          " gender:F,year:50s",
          " gender:F,year:30s",
          " gender:F,year:40s",
          " gender:F,runtime_minutes:Very Long",
          " gender:F,genre:Film-Noir",
          "gender:F,genre:Film-Noir",
          " gender:F,runtime_minutes:Short",
          " gender:F,runtime_minutes:Very Long",
          " gender:F,year:30s",
          " gender:F,year:50s",
          " gender:F,year:40s",
          "gender:F,runtime_minutes:Very Long",
          " gender:F,year:50s",
          " gender:F,year:40s",
          " gender:F,year:30s",
          " gender:F,genre:Film-Noir",
          " gender:F,runtime_minutes:Short",
          "gender:F,runtime_minutes:Very Long",
          " gender:F,year:30s",
          " gender:F,genre:Film-Noir",
          " gender:F,runtime_minutes:Short",
          " gender:F,year:40s",
          " gender:F,year:50s",
          "gender:F,genre:Film-Noir",
          " gender:F,runtime_minutes:Very Long",
          " gender:F,year:30s",
          " gender:F,runtime_minutes:Short",
          " gender:F,year:50s",
          " gender:F,year:40s",
          "gender:F,year:50s",
          " gender:F,runtime_minutes:Very Long",
          " gender:F,year:40s",
          " gender:F,runtime_minutes:Short",
          " gender:F,year:30s",
          " gender:F,genre:Film-Noir",
          "gender:F,year:50s",
          " gender:F,runtime_minutes:Very Long",
          " gender:F,year:30s",
          " gender:F,genre:Film-Noir",
          " gender:F,year:40s",
          " gender:F,runtime_minutes:Short",
          "gender:F,runtime_minutes:Short",
          " gender:F,runtime_minutes:Very Long",
          " gender:F,year:50s",
          " gender:F,genre:Film-Noir",
          " gender:F,year:30s",
          " gender:F,year:40s",
          "gender:F,runtime_minutes:Very Long",
          " gender:F,year:30s",
          " gender:F,runtime_minutes:Short",
          " gender:F,year:50s",
          " gender:F,genre:Film-Noir",
          " gender:F,year:40s",
          "gender:F,runtime_minutes:Very Long",
          " gender:F,year:50s",
          " gender:F,runtime_minutes:Short",
          " gender:F,year:30s",
          " gender:F,genre:Film-Noir",
          " gender:F,year:40s",
          "gender:F,year:40s",
          " gender:F,year:50s",
          " gender:F,runtime_minutes:Short",
          " gender:F,year:30s",
          " gender:F,runtime_minutes:Very Long",
          " gender:F,genre:Film-Noir"
         ],
         "name": "",
         "parents": [
          "gender:F",
          "gender:F",
          "gender:F",
          "gender:F",
          "gender:F",
          "gender:F",
          "gender:F",
          "gender:F",
          "gender:F",
          "gender:F",
          "gender:F",
          "gender:F",
          "gender:F",
          "gender:F",
          "gender:F",
          "gender:F",
          "gender:F",
          "gender:F",
          "gender:F",
          "gender:F",
          "gender:F",
          "gender:F",
          "gender:F",
          "gender:F",
          "gender:F",
          "gender:F",
          "gender:F",
          "gender:F",
          "gender:F",
          "gender:F",
          "gender:F",
          "gender:F",
          "gender:F",
          "gender:F",
          "gender:F",
          "gender:F",
          "gender:F",
          "gender:F",
          "gender:F",
          "gender:F",
          "gender:F",
          "gender:F",
          "gender:F",
          "gender:F",
          "gender:F",
          "gender:F",
          "gender:F",
          "gender:F",
          "gender:F",
          "gender:F",
          "gender:F",
          "gender:F",
          "gender:F",
          "gender:F",
          "gender:F",
          "gender:F",
          "gender:F",
          "gender:F",
          "gender:F",
          "gender:F",
          "gender:F",
          "gender:F",
          "gender:F",
          "gender:F",
          "gender:F",
          "gender:F",
          "gender:F",
          "gender:F",
          "gender:F",
          "gender:F",
          "gender:F",
          "gender:F",
          "gender:F",
          "gender:F",
          "gender:F",
          "gender:F",
          "gender:F",
          "gender:F",
          "gender:F",
          "gender:F",
          "gender:F",
          "gender:F",
          "gender:F",
          "gender:F",
          "gender:F",
          "gender:F",
          "gender:F",
          "gender:F",
          "gender:F",
          "gender:F",
          "gender:F",
          "gender:F",
          "gender:F",
          "gender:F",
          "gender:F",
          "gender:F",
          "gender:F",
          "gender:F",
          "gender:F",
          "gender:F",
          "gender:F",
          "gender:F",
          "gender:F",
          "gender:F",
          "gender:F",
          "gender:F",
          "gender:F",
          "gender:F",
          "gender:F",
          "gender:F",
          "gender:F",
          "gender:F",
          "gender:F",
          "gender:F",
          "gender:F",
          "gender:F",
          "gender:F",
          "gender:F",
          "gender:F",
          "gender:F",
          "gender:F",
          "gender:F",
          "gender:F",
          "gender:F",
          "gender:F",
          "gender:F",
          "gender:F",
          "gender:F",
          "gender:F",
          "gender:F",
          "gender:F",
          "gender:F",
          "gender:F",
          "gender:F",
          "gender:F",
          "gender:F",
          "gender:F",
          "gender:F",
          "gender:F",
          "gender:F",
          "gender:F",
          "gender:F",
          "gender:F",
          "gender:F",
          "gender:F",
          "gender:F",
          "gender:F",
          "gender:F",
          "gender:F",
          "gender:F",
          "gender:F",
          "gender:F",
          "gender:F",
          "gender:F",
          "gender:F",
          "gender:F",
          "gender:F",
          "gender:F",
          "gender:F",
          "gender:F",
          "gender:F",
          "gender:F",
          "gender:F",
          "gender:F",
          "gender:F",
          "gender:F",
          "gender:F",
          "gender:F",
          "gender:F",
          "gender:F",
          "gender:F",
          "gender:F",
          "gender:F",
          "gender:F",
          "gender:F",
          "gender:F",
          "gender:F",
          "gender:F",
          "gender:F",
          "gender:F",
          "gender:F",
          "gender:F",
          "gender:F",
          "gender:F",
          "gender:F",
          "gender:F",
          "gender:F",
          "gender:F",
          "gender:F",
          "gender:F",
          "gender:F",
          "gender:F",
          "gender:F",
          "gender:F",
          "gender:F",
          "gender:F",
          "gender:F",
          "gender:F",
          "gender:F",
          "gender:F",
          "gender:F",
          "gender:F",
          "gender:F",
          "gender:F",
          "gender:F",
          "gender:F",
          "gender:F",
          "gender:F",
          "gender:F",
          "gender:F"
         ],
         "type": "treemap"
        }
       ],
       "layout": {
        "legend": {
         "tracegroupgap": 0
        },
        "margin": {
         "t": 60
        },
        "template": {
         "data": {
          "bar": [
           {
            "error_x": {
             "color": "#2a3f5f"
            },
            "error_y": {
             "color": "#2a3f5f"
            },
            "marker": {
             "line": {
              "color": "#E5ECF6",
              "width": 0.5
             },
             "pattern": {
              "fillmode": "overlay",
              "size": 10,
              "solidity": 0.2
             }
            },
            "type": "bar"
           }
          ],
          "barpolar": [
           {
            "marker": {
             "line": {
              "color": "#E5ECF6",
              "width": 0.5
             },
             "pattern": {
              "fillmode": "overlay",
              "size": 10,
              "solidity": 0.2
             }
            },
            "type": "barpolar"
           }
          ],
          "carpet": [
           {
            "aaxis": {
             "endlinecolor": "#2a3f5f",
             "gridcolor": "white",
             "linecolor": "white",
             "minorgridcolor": "white",
             "startlinecolor": "#2a3f5f"
            },
            "baxis": {
             "endlinecolor": "#2a3f5f",
             "gridcolor": "white",
             "linecolor": "white",
             "minorgridcolor": "white",
             "startlinecolor": "#2a3f5f"
            },
            "type": "carpet"
           }
          ],
          "choropleth": [
           {
            "colorbar": {
             "outlinewidth": 0,
             "ticks": ""
            },
            "type": "choropleth"
           }
          ],
          "contour": [
           {
            "colorbar": {
             "outlinewidth": 0,
             "ticks": ""
            },
            "colorscale": [
             [
              0,
              "#0d0887"
             ],
             [
              0.1111111111111111,
              "#46039f"
             ],
             [
              0.2222222222222222,
              "#7201a8"
             ],
             [
              0.3333333333333333,
              "#9c179e"
             ],
             [
              0.4444444444444444,
              "#bd3786"
             ],
             [
              0.5555555555555556,
              "#d8576b"
             ],
             [
              0.6666666666666666,
              "#ed7953"
             ],
             [
              0.7777777777777778,
              "#fb9f3a"
             ],
             [
              0.8888888888888888,
              "#fdca26"
             ],
             [
              1,
              "#f0f921"
             ]
            ],
            "type": "contour"
           }
          ],
          "contourcarpet": [
           {
            "colorbar": {
             "outlinewidth": 0,
             "ticks": ""
            },
            "type": "contourcarpet"
           }
          ],
          "heatmap": [
           {
            "colorbar": {
             "outlinewidth": 0,
             "ticks": ""
            },
            "colorscale": [
             [
              0,
              "#0d0887"
             ],
             [
              0.1111111111111111,
              "#46039f"
             ],
             [
              0.2222222222222222,
              "#7201a8"
             ],
             [
              0.3333333333333333,
              "#9c179e"
             ],
             [
              0.4444444444444444,
              "#bd3786"
             ],
             [
              0.5555555555555556,
              "#d8576b"
             ],
             [
              0.6666666666666666,
              "#ed7953"
             ],
             [
              0.7777777777777778,
              "#fb9f3a"
             ],
             [
              0.8888888888888888,
              "#fdca26"
             ],
             [
              1,
              "#f0f921"
             ]
            ],
            "type": "heatmap"
           }
          ],
          "heatmapgl": [
           {
            "colorbar": {
             "outlinewidth": 0,
             "ticks": ""
            },
            "colorscale": [
             [
              0,
              "#0d0887"
             ],
             [
              0.1111111111111111,
              "#46039f"
             ],
             [
              0.2222222222222222,
              "#7201a8"
             ],
             [
              0.3333333333333333,
              "#9c179e"
             ],
             [
              0.4444444444444444,
              "#bd3786"
             ],
             [
              0.5555555555555556,
              "#d8576b"
             ],
             [
              0.6666666666666666,
              "#ed7953"
             ],
             [
              0.7777777777777778,
              "#fb9f3a"
             ],
             [
              0.8888888888888888,
              "#fdca26"
             ],
             [
              1,
              "#f0f921"
             ]
            ],
            "type": "heatmapgl"
           }
          ],
          "histogram": [
           {
            "marker": {
             "pattern": {
              "fillmode": "overlay",
              "size": 10,
              "solidity": 0.2
             }
            },
            "type": "histogram"
           }
          ],
          "histogram2d": [
           {
            "colorbar": {
             "outlinewidth": 0,
             "ticks": ""
            },
            "colorscale": [
             [
              0,
              "#0d0887"
             ],
             [
              0.1111111111111111,
              "#46039f"
             ],
             [
              0.2222222222222222,
              "#7201a8"
             ],
             [
              0.3333333333333333,
              "#9c179e"
             ],
             [
              0.4444444444444444,
              "#bd3786"
             ],
             [
              0.5555555555555556,
              "#d8576b"
             ],
             [
              0.6666666666666666,
              "#ed7953"
             ],
             [
              0.7777777777777778,
              "#fb9f3a"
             ],
             [
              0.8888888888888888,
              "#fdca26"
             ],
             [
              1,
              "#f0f921"
             ]
            ],
            "type": "histogram2d"
           }
          ],
          "histogram2dcontour": [
           {
            "colorbar": {
             "outlinewidth": 0,
             "ticks": ""
            },
            "colorscale": [
             [
              0,
              "#0d0887"
             ],
             [
              0.1111111111111111,
              "#46039f"
             ],
             [
              0.2222222222222222,
              "#7201a8"
             ],
             [
              0.3333333333333333,
              "#9c179e"
             ],
             [
              0.4444444444444444,
              "#bd3786"
             ],
             [
              0.5555555555555556,
              "#d8576b"
             ],
             [
              0.6666666666666666,
              "#ed7953"
             ],
             [
              0.7777777777777778,
              "#fb9f3a"
             ],
             [
              0.8888888888888888,
              "#fdca26"
             ],
             [
              1,
              "#f0f921"
             ]
            ],
            "type": "histogram2dcontour"
           }
          ],
          "mesh3d": [
           {
            "colorbar": {
             "outlinewidth": 0,
             "ticks": ""
            },
            "type": "mesh3d"
           }
          ],
          "parcoords": [
           {
            "line": {
             "colorbar": {
              "outlinewidth": 0,
              "ticks": ""
             }
            },
            "type": "parcoords"
           }
          ],
          "pie": [
           {
            "automargin": true,
            "type": "pie"
           }
          ],
          "scatter": [
           {
            "fillpattern": {
             "fillmode": "overlay",
             "size": 10,
             "solidity": 0.2
            },
            "type": "scatter"
           }
          ],
          "scatter3d": [
           {
            "line": {
             "colorbar": {
              "outlinewidth": 0,
              "ticks": ""
             }
            },
            "marker": {
             "colorbar": {
              "outlinewidth": 0,
              "ticks": ""
             }
            },
            "type": "scatter3d"
           }
          ],
          "scattercarpet": [
           {
            "marker": {
             "colorbar": {
              "outlinewidth": 0,
              "ticks": ""
             }
            },
            "type": "scattercarpet"
           }
          ],
          "scattergeo": [
           {
            "marker": {
             "colorbar": {
              "outlinewidth": 0,
              "ticks": ""
             }
            },
            "type": "scattergeo"
           }
          ],
          "scattergl": [
           {
            "marker": {
             "colorbar": {
              "outlinewidth": 0,
              "ticks": ""
             }
            },
            "type": "scattergl"
           }
          ],
          "scattermapbox": [
           {
            "marker": {
             "colorbar": {
              "outlinewidth": 0,
              "ticks": ""
             }
            },
            "type": "scattermapbox"
           }
          ],
          "scatterpolar": [
           {
            "marker": {
             "colorbar": {
              "outlinewidth": 0,
              "ticks": ""
             }
            },
            "type": "scatterpolar"
           }
          ],
          "scatterpolargl": [
           {
            "marker": {
             "colorbar": {
              "outlinewidth": 0,
              "ticks": ""
             }
            },
            "type": "scatterpolargl"
           }
          ],
          "scatterternary": [
           {
            "marker": {
             "colorbar": {
              "outlinewidth": 0,
              "ticks": ""
             }
            },
            "type": "scatterternary"
           }
          ],
          "surface": [
           {
            "colorbar": {
             "outlinewidth": 0,
             "ticks": ""
            },
            "colorscale": [
             [
              0,
              "#0d0887"
             ],
             [
              0.1111111111111111,
              "#46039f"
             ],
             [
              0.2222222222222222,
              "#7201a8"
             ],
             [
              0.3333333333333333,
              "#9c179e"
             ],
             [
              0.4444444444444444,
              "#bd3786"
             ],
             [
              0.5555555555555556,
              "#d8576b"
             ],
             [
              0.6666666666666666,
              "#ed7953"
             ],
             [
              0.7777777777777778,
              "#fb9f3a"
             ],
             [
              0.8888888888888888,
              "#fdca26"
             ],
             [
              1,
              "#f0f921"
             ]
            ],
            "type": "surface"
           }
          ],
          "table": [
           {
            "cells": {
             "fill": {
              "color": "#EBF0F8"
             },
             "line": {
              "color": "white"
             }
            },
            "header": {
             "fill": {
              "color": "#C8D4E3"
             },
             "line": {
              "color": "white"
             }
            },
            "type": "table"
           }
          ]
         },
         "layout": {
          "annotationdefaults": {
           "arrowcolor": "#2a3f5f",
           "arrowhead": 0,
           "arrowwidth": 1
          },
          "autotypenumbers": "strict",
          "coloraxis": {
           "colorbar": {
            "outlinewidth": 0,
            "ticks": ""
           }
          },
          "colorscale": {
           "diverging": [
            [
             0,
             "#8e0152"
            ],
            [
             0.1,
             "#c51b7d"
            ],
            [
             0.2,
             "#de77ae"
            ],
            [
             0.3,
             "#f1b6da"
            ],
            [
             0.4,
             "#fde0ef"
            ],
            [
             0.5,
             "#f7f7f7"
            ],
            [
             0.6,
             "#e6f5d0"
            ],
            [
             0.7,
             "#b8e186"
            ],
            [
             0.8,
             "#7fbc41"
            ],
            [
             0.9,
             "#4d9221"
            ],
            [
             1,
             "#276419"
            ]
           ],
           "sequential": [
            [
             0,
             "#0d0887"
            ],
            [
             0.1111111111111111,
             "#46039f"
            ],
            [
             0.2222222222222222,
             "#7201a8"
            ],
            [
             0.3333333333333333,
             "#9c179e"
            ],
            [
             0.4444444444444444,
             "#bd3786"
            ],
            [
             0.5555555555555556,
             "#d8576b"
            ],
            [
             0.6666666666666666,
             "#ed7953"
            ],
            [
             0.7777777777777778,
             "#fb9f3a"
            ],
            [
             0.8888888888888888,
             "#fdca26"
            ],
            [
             1,
             "#f0f921"
            ]
           ],
           "sequentialminus": [
            [
             0,
             "#0d0887"
            ],
            [
             0.1111111111111111,
             "#46039f"
            ],
            [
             0.2222222222222222,
             "#7201a8"
            ],
            [
             0.3333333333333333,
             "#9c179e"
            ],
            [
             0.4444444444444444,
             "#bd3786"
            ],
            [
             0.5555555555555556,
             "#d8576b"
            ],
            [
             0.6666666666666666,
             "#ed7953"
            ],
            [
             0.7777777777777778,
             "#fb9f3a"
            ],
            [
             0.8888888888888888,
             "#fdca26"
            ],
            [
             1,
             "#f0f921"
            ]
           ]
          },
          "colorway": [
           "#636efa",
           "#EF553B",
           "#00cc96",
           "#ab63fa",
           "#FFA15A",
           "#19d3f3",
           "#FF6692",
           "#B6E880",
           "#FF97FF",
           "#FECB52"
          ],
          "font": {
           "color": "#2a3f5f"
          },
          "geo": {
           "bgcolor": "white",
           "lakecolor": "white",
           "landcolor": "#E5ECF6",
           "showlakes": true,
           "showland": true,
           "subunitcolor": "white"
          },
          "hoverlabel": {
           "align": "left"
          },
          "hovermode": "closest",
          "mapbox": {
           "style": "light"
          },
          "paper_bgcolor": "white",
          "plot_bgcolor": "#E5ECF6",
          "polar": {
           "angularaxis": {
            "gridcolor": "white",
            "linecolor": "white",
            "ticks": ""
           },
           "bgcolor": "#E5ECF6",
           "radialaxis": {
            "gridcolor": "white",
            "linecolor": "white",
            "ticks": ""
           }
          },
          "scene": {
           "xaxis": {
            "backgroundcolor": "#E5ECF6",
            "gridcolor": "white",
            "gridwidth": 2,
            "linecolor": "white",
            "showbackground": true,
            "ticks": "",
            "zerolinecolor": "white"
           },
           "yaxis": {
            "backgroundcolor": "#E5ECF6",
            "gridcolor": "white",
            "gridwidth": 2,
            "linecolor": "white",
            "showbackground": true,
            "ticks": "",
            "zerolinecolor": "white"
           },
           "zaxis": {
            "backgroundcolor": "#E5ECF6",
            "gridcolor": "white",
            "gridwidth": 2,
            "linecolor": "white",
            "showbackground": true,
            "ticks": "",
            "zerolinecolor": "white"
           }
          },
          "shapedefaults": {
           "line": {
            "color": "#2a3f5f"
           }
          },
          "ternary": {
           "aaxis": {
            "gridcolor": "white",
            "linecolor": "white",
            "ticks": ""
           },
           "baxis": {
            "gridcolor": "white",
            "linecolor": "white",
            "ticks": ""
           },
           "bgcolor": "#E5ECF6",
           "caxis": {
            "gridcolor": "white",
            "linecolor": "white",
            "ticks": ""
           }
          },
          "title": {
           "x": 0.05
          },
          "xaxis": {
           "automargin": true,
           "gridcolor": "white",
           "linecolor": "white",
           "ticks": "",
           "title": {
            "standoff": 15
           },
           "zerolinecolor": "white",
           "zerolinewidth": 2
          },
          "yaxis": {
           "automargin": true,
           "gridcolor": "white",
           "linecolor": "white",
           "ticks": "",
           "title": {
            "standoff": 15
           },
           "zerolinecolor": "white",
           "zerolinewidth": 2
          }
         }
        }
       }
      }
     },
     "metadata": {},
     "output_type": "display_data"
    }
   ],
   "source": [
    "def treemap_from_hypothesis_list(hs: list[HypothesisRow]) -> plotly.graph_objects.Figure:\n",
    "    names = []\n",
    "    parents = []\n",
    "    for h in hs:\n",
    "        for c in h.children_to_strings():\n",
    "            names.append(c)\n",
    "            parents.append(h.parent_to_string())\n",
    "    return px.treemap(names=names, parents=parents)\n",
    "\n",
    "\n",
    "fig = treemap_from_hypothesis_list(hypotheses)\n",
    "fig.show()"
   ]
  },
  {
   "cell_type": "code",
   "execution_count": 7,
   "metadata": {},
   "outputs": [
    {
     "data": {
      "application/vnd.plotly.v1+json": {
       "config": {
        "plotlyServerURL": "https://plot.ly"
       },
       "data": [
        {
         "domain": {
          "x": [
           0,
           1
          ],
          "y": [
           0,
           1
          ]
         },
         "hovertemplate": "label=%{label}<br>parent=%{parent}<extra></extra>",
         "labels": [
          "gender:F,year:50s",
          " gender:F,runtime_minutes:Very Long",
          " gender:F,genre:Film-Noir",
          " gender:F,year:40s",
          " gender:F,year:30s",
          " gender:F,runtime_minutes:Short"
         ],
         "name": "",
         "parents": [
          "gender:F",
          "gender:F",
          "gender:F",
          "gender:F",
          "gender:F",
          "gender:F"
         ],
         "type": "treemap"
        }
       ],
       "layout": {
        "legend": {
         "tracegroupgap": 0
        },
        "margin": {
         "t": 60
        },
        "template": {
         "data": {
          "bar": [
           {
            "error_x": {
             "color": "#2a3f5f"
            },
            "error_y": {
             "color": "#2a3f5f"
            },
            "marker": {
             "line": {
              "color": "#E5ECF6",
              "width": 0.5
             },
             "pattern": {
              "fillmode": "overlay",
              "size": 10,
              "solidity": 0.2
             }
            },
            "type": "bar"
           }
          ],
          "barpolar": [
           {
            "marker": {
             "line": {
              "color": "#E5ECF6",
              "width": 0.5
             },
             "pattern": {
              "fillmode": "overlay",
              "size": 10,
              "solidity": 0.2
             }
            },
            "type": "barpolar"
           }
          ],
          "carpet": [
           {
            "aaxis": {
             "endlinecolor": "#2a3f5f",
             "gridcolor": "white",
             "linecolor": "white",
             "minorgridcolor": "white",
             "startlinecolor": "#2a3f5f"
            },
            "baxis": {
             "endlinecolor": "#2a3f5f",
             "gridcolor": "white",
             "linecolor": "white",
             "minorgridcolor": "white",
             "startlinecolor": "#2a3f5f"
            },
            "type": "carpet"
           }
          ],
          "choropleth": [
           {
            "colorbar": {
             "outlinewidth": 0,
             "ticks": ""
            },
            "type": "choropleth"
           }
          ],
          "contour": [
           {
            "colorbar": {
             "outlinewidth": 0,
             "ticks": ""
            },
            "colorscale": [
             [
              0,
              "#0d0887"
             ],
             [
              0.1111111111111111,
              "#46039f"
             ],
             [
              0.2222222222222222,
              "#7201a8"
             ],
             [
              0.3333333333333333,
              "#9c179e"
             ],
             [
              0.4444444444444444,
              "#bd3786"
             ],
             [
              0.5555555555555556,
              "#d8576b"
             ],
             [
              0.6666666666666666,
              "#ed7953"
             ],
             [
              0.7777777777777778,
              "#fb9f3a"
             ],
             [
              0.8888888888888888,
              "#fdca26"
             ],
             [
              1,
              "#f0f921"
             ]
            ],
            "type": "contour"
           }
          ],
          "contourcarpet": [
           {
            "colorbar": {
             "outlinewidth": 0,
             "ticks": ""
            },
            "type": "contourcarpet"
           }
          ],
          "heatmap": [
           {
            "colorbar": {
             "outlinewidth": 0,
             "ticks": ""
            },
            "colorscale": [
             [
              0,
              "#0d0887"
             ],
             [
              0.1111111111111111,
              "#46039f"
             ],
             [
              0.2222222222222222,
              "#7201a8"
             ],
             [
              0.3333333333333333,
              "#9c179e"
             ],
             [
              0.4444444444444444,
              "#bd3786"
             ],
             [
              0.5555555555555556,
              "#d8576b"
             ],
             [
              0.6666666666666666,
              "#ed7953"
             ],
             [
              0.7777777777777778,
              "#fb9f3a"
             ],
             [
              0.8888888888888888,
              "#fdca26"
             ],
             [
              1,
              "#f0f921"
             ]
            ],
            "type": "heatmap"
           }
          ],
          "heatmapgl": [
           {
            "colorbar": {
             "outlinewidth": 0,
             "ticks": ""
            },
            "colorscale": [
             [
              0,
              "#0d0887"
             ],
             [
              0.1111111111111111,
              "#46039f"
             ],
             [
              0.2222222222222222,
              "#7201a8"
             ],
             [
              0.3333333333333333,
              "#9c179e"
             ],
             [
              0.4444444444444444,
              "#bd3786"
             ],
             [
              0.5555555555555556,
              "#d8576b"
             ],
             [
              0.6666666666666666,
              "#ed7953"
             ],
             [
              0.7777777777777778,
              "#fb9f3a"
             ],
             [
              0.8888888888888888,
              "#fdca26"
             ],
             [
              1,
              "#f0f921"
             ]
            ],
            "type": "heatmapgl"
           }
          ],
          "histogram": [
           {
            "marker": {
             "pattern": {
              "fillmode": "overlay",
              "size": 10,
              "solidity": 0.2
             }
            },
            "type": "histogram"
           }
          ],
          "histogram2d": [
           {
            "colorbar": {
             "outlinewidth": 0,
             "ticks": ""
            },
            "colorscale": [
             [
              0,
              "#0d0887"
             ],
             [
              0.1111111111111111,
              "#46039f"
             ],
             [
              0.2222222222222222,
              "#7201a8"
             ],
             [
              0.3333333333333333,
              "#9c179e"
             ],
             [
              0.4444444444444444,
              "#bd3786"
             ],
             [
              0.5555555555555556,
              "#d8576b"
             ],
             [
              0.6666666666666666,
              "#ed7953"
             ],
             [
              0.7777777777777778,
              "#fb9f3a"
             ],
             [
              0.8888888888888888,
              "#fdca26"
             ],
             [
              1,
              "#f0f921"
             ]
            ],
            "type": "histogram2d"
           }
          ],
          "histogram2dcontour": [
           {
            "colorbar": {
             "outlinewidth": 0,
             "ticks": ""
            },
            "colorscale": [
             [
              0,
              "#0d0887"
             ],
             [
              0.1111111111111111,
              "#46039f"
             ],
             [
              0.2222222222222222,
              "#7201a8"
             ],
             [
              0.3333333333333333,
              "#9c179e"
             ],
             [
              0.4444444444444444,
              "#bd3786"
             ],
             [
              0.5555555555555556,
              "#d8576b"
             ],
             [
              0.6666666666666666,
              "#ed7953"
             ],
             [
              0.7777777777777778,
              "#fb9f3a"
             ],
             [
              0.8888888888888888,
              "#fdca26"
             ],
             [
              1,
              "#f0f921"
             ]
            ],
            "type": "histogram2dcontour"
           }
          ],
          "mesh3d": [
           {
            "colorbar": {
             "outlinewidth": 0,
             "ticks": ""
            },
            "type": "mesh3d"
           }
          ],
          "parcoords": [
           {
            "line": {
             "colorbar": {
              "outlinewidth": 0,
              "ticks": ""
             }
            },
            "type": "parcoords"
           }
          ],
          "pie": [
           {
            "automargin": true,
            "type": "pie"
           }
          ],
          "scatter": [
           {
            "fillpattern": {
             "fillmode": "overlay",
             "size": 10,
             "solidity": 0.2
            },
            "type": "scatter"
           }
          ],
          "scatter3d": [
           {
            "line": {
             "colorbar": {
              "outlinewidth": 0,
              "ticks": ""
             }
            },
            "marker": {
             "colorbar": {
              "outlinewidth": 0,
              "ticks": ""
             }
            },
            "type": "scatter3d"
           }
          ],
          "scattercarpet": [
           {
            "marker": {
             "colorbar": {
              "outlinewidth": 0,
              "ticks": ""
             }
            },
            "type": "scattercarpet"
           }
          ],
          "scattergeo": [
           {
            "marker": {
             "colorbar": {
              "outlinewidth": 0,
              "ticks": ""
             }
            },
            "type": "scattergeo"
           }
          ],
          "scattergl": [
           {
            "marker": {
             "colorbar": {
              "outlinewidth": 0,
              "ticks": ""
             }
            },
            "type": "scattergl"
           }
          ],
          "scattermapbox": [
           {
            "marker": {
             "colorbar": {
              "outlinewidth": 0,
              "ticks": ""
             }
            },
            "type": "scattermapbox"
           }
          ],
          "scatterpolar": [
           {
            "marker": {
             "colorbar": {
              "outlinewidth": 0,
              "ticks": ""
             }
            },
            "type": "scatterpolar"
           }
          ],
          "scatterpolargl": [
           {
            "marker": {
             "colorbar": {
              "outlinewidth": 0,
              "ticks": ""
             }
            },
            "type": "scatterpolargl"
           }
          ],
          "scatterternary": [
           {
            "marker": {
             "colorbar": {
              "outlinewidth": 0,
              "ticks": ""
             }
            },
            "type": "scatterternary"
           }
          ],
          "surface": [
           {
            "colorbar": {
             "outlinewidth": 0,
             "ticks": ""
            },
            "colorscale": [
             [
              0,
              "#0d0887"
             ],
             [
              0.1111111111111111,
              "#46039f"
             ],
             [
              0.2222222222222222,
              "#7201a8"
             ],
             [
              0.3333333333333333,
              "#9c179e"
             ],
             [
              0.4444444444444444,
              "#bd3786"
             ],
             [
              0.5555555555555556,
              "#d8576b"
             ],
             [
              0.6666666666666666,
              "#ed7953"
             ],
             [
              0.7777777777777778,
              "#fb9f3a"
             ],
             [
              0.8888888888888888,
              "#fdca26"
             ],
             [
              1,
              "#f0f921"
             ]
            ],
            "type": "surface"
           }
          ],
          "table": [
           {
            "cells": {
             "fill": {
              "color": "#EBF0F8"
             },
             "line": {
              "color": "white"
             }
            },
            "header": {
             "fill": {
              "color": "#C8D4E3"
             },
             "line": {
              "color": "white"
             }
            },
            "type": "table"
           }
          ]
         },
         "layout": {
          "annotationdefaults": {
           "arrowcolor": "#2a3f5f",
           "arrowhead": 0,
           "arrowwidth": 1
          },
          "autotypenumbers": "strict",
          "coloraxis": {
           "colorbar": {
            "outlinewidth": 0,
            "ticks": ""
           }
          },
          "colorscale": {
           "diverging": [
            [
             0,
             "#8e0152"
            ],
            [
             0.1,
             "#c51b7d"
            ],
            [
             0.2,
             "#de77ae"
            ],
            [
             0.3,
             "#f1b6da"
            ],
            [
             0.4,
             "#fde0ef"
            ],
            [
             0.5,
             "#f7f7f7"
            ],
            [
             0.6,
             "#e6f5d0"
            ],
            [
             0.7,
             "#b8e186"
            ],
            [
             0.8,
             "#7fbc41"
            ],
            [
             0.9,
             "#4d9221"
            ],
            [
             1,
             "#276419"
            ]
           ],
           "sequential": [
            [
             0,
             "#0d0887"
            ],
            [
             0.1111111111111111,
             "#46039f"
            ],
            [
             0.2222222222222222,
             "#7201a8"
            ],
            [
             0.3333333333333333,
             "#9c179e"
            ],
            [
             0.4444444444444444,
             "#bd3786"
            ],
            [
             0.5555555555555556,
             "#d8576b"
            ],
            [
             0.6666666666666666,
             "#ed7953"
            ],
            [
             0.7777777777777778,
             "#fb9f3a"
            ],
            [
             0.8888888888888888,
             "#fdca26"
            ],
            [
             1,
             "#f0f921"
            ]
           ],
           "sequentialminus": [
            [
             0,
             "#0d0887"
            ],
            [
             0.1111111111111111,
             "#46039f"
            ],
            [
             0.2222222222222222,
             "#7201a8"
            ],
            [
             0.3333333333333333,
             "#9c179e"
            ],
            [
             0.4444444444444444,
             "#bd3786"
            ],
            [
             0.5555555555555556,
             "#d8576b"
            ],
            [
             0.6666666666666666,
             "#ed7953"
            ],
            [
             0.7777777777777778,
             "#fb9f3a"
            ],
            [
             0.8888888888888888,
             "#fdca26"
            ],
            [
             1,
             "#f0f921"
            ]
           ]
          },
          "colorway": [
           "#636efa",
           "#EF553B",
           "#00cc96",
           "#ab63fa",
           "#FFA15A",
           "#19d3f3",
           "#FF6692",
           "#B6E880",
           "#FF97FF",
           "#FECB52"
          ],
          "font": {
           "color": "#2a3f5f"
          },
          "geo": {
           "bgcolor": "white",
           "lakecolor": "white",
           "landcolor": "#E5ECF6",
           "showlakes": true,
           "showland": true,
           "subunitcolor": "white"
          },
          "hoverlabel": {
           "align": "left"
          },
          "hovermode": "closest",
          "mapbox": {
           "style": "light"
          },
          "paper_bgcolor": "white",
          "plot_bgcolor": "#E5ECF6",
          "polar": {
           "angularaxis": {
            "gridcolor": "white",
            "linecolor": "white",
            "ticks": ""
           },
           "bgcolor": "#E5ECF6",
           "radialaxis": {
            "gridcolor": "white",
            "linecolor": "white",
            "ticks": ""
           }
          },
          "scene": {
           "xaxis": {
            "backgroundcolor": "#E5ECF6",
            "gridcolor": "white",
            "gridwidth": 2,
            "linecolor": "white",
            "showbackground": true,
            "ticks": "",
            "zerolinecolor": "white"
           },
           "yaxis": {
            "backgroundcolor": "#E5ECF6",
            "gridcolor": "white",
            "gridwidth": 2,
            "linecolor": "white",
            "showbackground": true,
            "ticks": "",
            "zerolinecolor": "white"
           },
           "zaxis": {
            "backgroundcolor": "#E5ECF6",
            "gridcolor": "white",
            "gridwidth": 2,
            "linecolor": "white",
            "showbackground": true,
            "ticks": "",
            "zerolinecolor": "white"
           }
          },
          "shapedefaults": {
           "line": {
            "color": "#2a3f5f"
           }
          },
          "ternary": {
           "aaxis": {
            "gridcolor": "white",
            "linecolor": "white",
            "ticks": ""
           },
           "baxis": {
            "gridcolor": "white",
            "linecolor": "white",
            "ticks": ""
           },
           "bgcolor": "#E5ECF6",
           "caxis": {
            "gridcolor": "white",
            "linecolor": "white",
            "ticks": ""
           }
          },
          "title": {
           "x": 0.05
          },
          "xaxis": {
           "automargin": true,
           "gridcolor": "white",
           "linecolor": "white",
           "ticks": "",
           "title": {
            "standoff": 15
           },
           "zerolinecolor": "white",
           "zerolinewidth": 2
          },
          "yaxis": {
           "automargin": true,
           "gridcolor": "white",
           "linecolor": "white",
           "ticks": "",
           "title": {
            "standoff": 15
           },
           "zerolinecolor": "white",
           "zerolinewidth": 2
          }
         }
        }
       }
      }
     },
     "metadata": {},
     "output_type": "display_data"
    }
   ],
   "source": [
    "hypotheses[15].treemap()"
   ]
  }
 ],
 "metadata": {
  "kernelspec": {
   "display_name": "Python 3",
   "language": "python",
   "name": "python3"
  },
  "language_info": {
   "codemirror_mode": {
    "name": "ipython",
    "version": 3
   },
   "file_extension": ".py",
   "mimetype": "text/x-python",
   "name": "python",
   "nbconvert_exporter": "python",
   "pygments_lexer": "ipython3",
   "version": "3.12.8"
  }
 },
 "nbformat": 4,
 "nbformat_minor": 2
}
