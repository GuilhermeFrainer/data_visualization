{
 "cells": [
  {
   "cell_type": "code",
   "execution_count": 2,
   "metadata": {},
   "outputs": [],
   "source": [
    "import polars as pl\n",
    "import utils\n",
    "import pathlib\n",
    "utils.mount_src()\n",
    "\n",
    "from hypothesis_row import HypothesisRow\n",
    "from group import Group\n",
    "\n",
    "\n",
    "DATA_PATH = pathlib.Path(\"../data\")\n",
    "USERS_DATA_PATH = pathlib.Path(\"../data/user_counts\")\n",
    "GROUPS_PATH = pathlib.Path(\"../data/groups\")"
   ]
  },
  {
   "cell_type": "code",
   "execution_count": 4,
   "metadata": {},
   "outputs": [],
   "source": [
    "def get_df_for_dataset(dataset: str) -> pl.DataFrame:\n",
    "    file = dataset + \".csv\"\n",
    "    df = pl.read_csv(DATA_PATH / file)\n",
    "    users_df = pl.read_csv(USERS_DATA_PATH / file)\n",
    "    hs = HypothesisRow.df_to_list(df, users_df)\n",
    "    return HypothesisRow.hypothesis_rows_to_group_df(hs, include_hipothesis=True, include_algorithm=True)\n",
    "df = get_df_for_dataset(\"movie_lens\")\n",
    "df.write_csv(GROUPS_PATH / \"movie_lens.csv\")"
   ]
  },
  {
   "cell_type": "code",
   "execution_count": 5,
   "metadata": {},
   "outputs": [],
   "source": [
    "df = get_df_for_dataset(\"book_crossing\")\n",
    "df.write_csv(GROUPS_PATH / \"book_crossing.csv\")"
   ]
  },
  {
   "cell_type": "code",
   "execution_count": 6,
   "metadata": {},
   "outputs": [],
   "source": [
    "df = get_df_for_dataset(\"yelp\")\n",
    "df.write_csv(GROUPS_PATH / \"yelp.csv\")"
   ]
  }
 ],
 "metadata": {
  "kernelspec": {
   "display_name": "Python 3",
   "language": "python",
   "name": "python3"
  },
  "language_info": {
   "codemirror_mode": {
    "name": "ipython",
    "version": 3
   },
   "file_extension": ".py",
   "mimetype": "text/x-python",
   "name": "python",
   "nbconvert_exporter": "python",
   "pygments_lexer": "ipython3",
   "version": "3.12.8"
  }
 },
 "nbformat": 4,
 "nbformat_minor": 2
}
