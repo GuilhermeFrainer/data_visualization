{
 "cells": [
  {
   "cell_type": "markdown",
   "metadata": {},
   "source": [
    "This notebook's purpose is to try and represent each added group in a different row of a DataFrame"
   ]
  },
  {
   "cell_type": "code",
   "execution_count": 2,
   "metadata": {},
   "outputs": [],
   "source": [
    "import polars as pl\n",
    "import utils\n",
    "utils.mount_src()\n",
    "\n",
    "from hypothesis_row import HypothesisRow\n",
    "from group import Group\n",
    "\n",
    "\n",
    "DATA = \"../data/movie_lens.csv\"\n",
    "USERS_DATA = \"../data/user_counts/movie_lens.csv\""
   ]
  },
  {
   "cell_type": "code",
   "execution_count": 29,
   "metadata": {},
   "outputs": [],
   "source": [
    "df = pl.read_csv(DATA)\n",
    "user_df = pl.read_csv(USERS_DATA)\n",
    "hs = HypothesisRow.df_to_list(df, user_df)"
   ]
  },
  {
   "cell_type": "code",
   "execution_count": null,
   "metadata": {},
   "outputs": [],
   "source": [
    "def pipeline_dataframe(hs: list[HypothesisRow]) -> pl.DataFrame:\n",
    "    rows: list[dict] = []\n",
    "    all_attributes = set()\n",
    "\n",
    "    for h in hs:\n",
    "        for c in h.children:\n",
    "            attrs = {}\n",
    "            for k, v in c.attributes.items():\n",
    "                attrs[k] = v\n",
    "            rows.append(attrs)\n",
    "    for r in rows:\n",
    "        for k in r:\n",
    "            all_attributes.add(k)\n",
    "\n",
    "    for r in rows:\n",
    "        for a in all_attributes:\n",
    "            if a not in r:\n",
    "                r[a] = None\n",
    "\n",
    "    return pl.DataFrame(rows)\n",
    "pl_df = pipeline_dataframe(hs)\n",
    "pl_df"
   ]
  },
  {
   "cell_type": "code",
   "execution_count": null,
   "metadata": {},
   "outputs": [],
   "source": [
    "import pandas as pd\n",
    "import seaborn as sns\n",
    "from matplotlib.colors import to_hex\n",
    "\n",
    "df = pl_df.to_pandas()\n",
    "unique_values = df.stack().unique()\n",
    "palette = sns.color_palette(\"hsv\", len(unique_values))\n",
    "color_map = {\n",
    "    val: f\"background-color: {to_hex(color)}\"\n",
    "    for val, color in zip(unique_values, palette)\n",
    "}\n",
    "color_map"
   ]
  },
  {
   "cell_type": "code",
   "execution_count": null,
   "metadata": {},
   "outputs": [],
   "source": [
    "def style_nominal_values(color_map: dict, val: str):\n",
    "    return color_map.get(val, \"\")\n",
    "\n",
    "styled_df = df.style.applymap(lambda val: style_nominal_values(color_map, val))\n",
    "styled_df"
   ]
  },
  {
   "cell_type": "code",
   "execution_count": 31,
   "metadata": {},
   "outputs": [],
   "source": [
    "def generate_nominal_color_map(series: pd.Series) -> dict:\n",
    "    unique_values = series.unique()\n",
    "    palette = sns.color_palette(\"hsv\", len(unique_values))\n",
    "    return {val: f\"background-color: {to_hex(color)}\" for val, color in zip(unique_values, palette)}\n",
    "\n",
    "\n",
    "def style_nominal_values(color_map: dict, val: str):\n",
    "    return color_map.get(val, \"\")\n",
    "\n",
    "\n",
    "def style_ordinal_values(val, min_val, max_val):\n",
    "    norm = (val - min_val) / (max_val - min_val)\n",
    "    color = sns.light_palette(\"blue\", as_cmap=True)(norm)\n",
    "    return f\"background-color: {to_hex(color)}\""
   ]
  },
  {
   "cell_type": "code",
   "execution_count": null,
   "metadata": {},
   "outputs": [],
   "source": [
    "nominal_cols = [\"genre\", \"gender\", \"location\", \"occupation\"]\n",
    "\n",
    "df = pl_df.to_pandas()\n",
    "styled_df = df.style\n",
    "for c in nominal_cols:\n",
    "    color_map = generate_nominal_color_map(df[c])\n",
    "    styled_df = styled_df.map(lambda val: style_nominal_values(color_map, val), subset=c)\n",
    "styled_df"
   ]
  },
  {
   "cell_type": "code",
   "execution_count": null,
   "metadata": {},
   "outputs": [],
   "source": [
    "sorting_opts = [\"runtime_minutes\", \"age\"]\n",
    "\n",
    "df = pl_df.to_pandas()\n",
    "\n",
    "def sort_df(df: pd.DataFrame, sort_by: list[str]) -> pd.DataFrame:\n",
    "    return df.sort_values(by=sort_by, na_position=\"first\")\n",
    "\n",
    "sort_df(df, sorting_opts)"
   ]
  },
  {
   "cell_type": "code",
   "execution_count": null,
   "metadata": {},
   "outputs": [],
   "source": [
    "df['age'].unique()"
   ]
  },
  {
   "cell_type": "code",
   "execution_count": 58,
   "metadata": {},
   "outputs": [],
   "source": [
    "def sort_age(ages: pd.Series) -> pd.Series:\n",
    "    return ages.map({\n",
    "        None: 0,\n",
    "        \"<18\": 1,\n",
    "        \"18-24\": 2,\n",
    "        \"25-34\": 3,\n",
    "        \"35-44\": 4,\n",
    "        \"45-49\": 5,\n",
    "        \"50-55\": 6,\n",
    "        \">56\": 7\n",
    "    })\n",
    "\n",
    "\n",
    "def sort_runtime(runtimes: pd.Series) -> pd.Series:\n",
    "    return runtimes.map({\n",
    "        None: 0,\n",
    "        \"Short\": 1,\n",
    "        \"Long\": 2\n",
    "    })\n",
    "\n",
    "\n",
    "def sort_year(years: pd.Series) -> pd.Series:\n",
    "    def map_elements(x):\n",
    "        if not x:\n",
    "            return 0\n",
    "        elif x == \"2000s\":\n",
    "            return 10\n",
    "        else:\n",
    "            decade = int(x.replace(\"s\", \"\"))\n",
    "            return decade // 10\n",
    "    return years.map(map_elements)"
   ]
  },
  {
   "cell_type": "code",
   "execution_count": null,
   "metadata": {},
   "outputs": [],
   "source": [
    "pd.set_option(\"display.max_rows\", None)\n",
    "df.sort_values(by=\"year\", na_position=\"first\", key=sort_year)"
   ]
  },
  {
   "cell_type": "code",
   "execution_count": 65,
   "metadata": {},
   "outputs": [],
   "source": [
    "def sort_year_of_publication(pub_years: pd.Series) -> pd.Series:\n",
    "    def convert_elements(el) -> int:\n",
    "        if not el:\n",
    "            return 0\n",
    "        n = int(el.replace(\"s\", \"\"))\n",
    "        return n\n",
    "    return pub_years.map(convert_elements)"
   ]
  },
  {
   "cell_type": "code",
   "execution_count": null,
   "metadata": {},
   "outputs": [],
   "source": [
    "df = pl.read_csv(\"../data/book_crossing.csv\")\n",
    "user_df = pl.read_csv(\"../data/user_counts/book_crossing.csv\")\n",
    "hs = HypothesisRow.df_to_list(df, user_df)\n",
    "df = pipeline_dataframe(hs).to_pandas()\n",
    "\n",
    "sorting_opts = [\"language\", \"age\"]\n",
    "#sorted = df.sort_values(by=\"year_of_publication\", na_position=\"first\", key=sort_year_of_publication)\n",
    "diff = df.columns.difference(sorting_opts)\n",
    "df[sorting_opts + diff.to_list()]"
   ]
  },
  {
   "cell_type": "code",
   "execution_count": 68,
   "metadata": {},
   "outputs": [],
   "source": [
    "def sort_fans(fans: pd.Series) -> pd.Series:\n",
    "    return fans.map({\n",
    "        None: 0,\n",
    "        \"unpopular\": 1,\n",
    "        \"semipopular\": 2,\n",
    "        \"popular\": 3\n",
    "    })"
   ]
  },
  {
   "cell_type": "code",
   "execution_count": null,
   "metadata": {},
   "outputs": [],
   "source": [
    "df = pl.read_csv(\"../data/yelp.csv\")\n",
    "user_df = pl.read_csv(\"../data/user_counts/yelp.csv\")\n",
    "hs = HypothesisRow.df_to_list(df, user_df)\n",
    "df = pipeline_dataframe(hs).to_pandas()\n",
    "df.sort_values(by=\"fans\", key=sort_fans)"
   ]
  }
 ],
 "metadata": {
  "kernelspec": {
   "display_name": "Python 3",
   "language": "python",
   "name": "python3"
  },
  "language_info": {
   "codemirror_mode": {
    "name": "ipython",
    "version": 3
   },
   "file_extension": ".py",
   "mimetype": "text/x-python",
   "name": "python",
   "nbconvert_exporter": "python",
   "pygments_lexer": "ipython3",
   "version": "3.12.8"
  }
 },
 "nbformat": 4,
 "nbformat_minor": 2
}
